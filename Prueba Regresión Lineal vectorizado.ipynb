{
 "cells": [
  {
   "cell_type": "code",
   "execution_count": 1,
   "metadata": {},
   "outputs": [],
   "source": [
    "import pandas as pd\n",
    "import numpy as np\n",
    "import tensorflow as tf\n",
    "import matplotlib.pyplot as plt\n",
    "import datetime"
   ]
  },
  {
   "cell_type": "code",
   "execution_count": 2,
   "metadata": {},
   "outputs": [
    {
     "name": "stdout",
     "output_type": "stream",
     "text": [
      "WARNING:tensorflow:From C:\\Users\\senpai\\AppData\\Roaming\\Python\\Python37\\site-packages\\tensorflow\\python\\compat\\v2_compat.py:96: disable_resource_variables (from tensorflow.python.ops.variable_scope) is deprecated and will be removed in a future version.\n",
      "Instructions for updating:\n",
      "non-resource variables are not supported in the long term\n",
      "Enabled compatitility to tf1.x\n"
     ]
    }
   ],
   "source": [
    "if tf.__version__.startswith(\"2.\"):\n",
    "  import tensorflow.compat.v1 as tf\n",
    "  tf.compat.v1.disable_v2_behavior()\n",
    "  tf.compat.v1.disable_eager_execution()\n",
    "  print(\"Enabled compatitility to tf1.x\")"
   ]
  },
  {
   "cell_type": "code",
   "execution_count": 3,
   "metadata": {},
   "outputs": [
    {
     "data": {
      "text/html": [
       "<div>\n",
       "<style scoped>\n",
       "    .dataframe tbody tr th:only-of-type {\n",
       "        vertical-align: middle;\n",
       "    }\n",
       "\n",
       "    .dataframe tbody tr th {\n",
       "        vertical-align: top;\n",
       "    }\n",
       "\n",
       "    .dataframe thead th {\n",
       "        text-align: right;\n",
       "    }\n",
       "</style>\n",
       "<table border=\"1\" class=\"dataframe\">\n",
       "  <thead>\n",
       "    <tr style=\"text-align: right;\">\n",
       "      <th></th>\n",
       "      <th>sale_price</th>\n",
       "      <th>overall_qual</th>\n",
       "      <th>square_feet</th>\n",
       "      <th>total_room</th>\n",
       "      <th>year_build</th>\n",
       "      <th>lot_frontage</th>\n",
       "    </tr>\n",
       "  </thead>\n",
       "  <tbody>\n",
       "    <tr>\n",
       "      <th>0</th>\n",
       "      <td>208500.0</td>\n",
       "      <td>7.0</td>\n",
       "      <td>856.0</td>\n",
       "      <td>8.0</td>\n",
       "      <td>2003.0</td>\n",
       "      <td>65.0</td>\n",
       "    </tr>\n",
       "    <tr>\n",
       "      <th>1</th>\n",
       "      <td>181500.0</td>\n",
       "      <td>6.0</td>\n",
       "      <td>1262.0</td>\n",
       "      <td>6.0</td>\n",
       "      <td>1976.0</td>\n",
       "      <td>80.0</td>\n",
       "    </tr>\n",
       "    <tr>\n",
       "      <th>2</th>\n",
       "      <td>223500.0</td>\n",
       "      <td>7.0</td>\n",
       "      <td>920.0</td>\n",
       "      <td>6.0</td>\n",
       "      <td>2001.0</td>\n",
       "      <td>68.0</td>\n",
       "    </tr>\n",
       "    <tr>\n",
       "      <th>3</th>\n",
       "      <td>140000.0</td>\n",
       "      <td>7.0</td>\n",
       "      <td>961.0</td>\n",
       "      <td>7.0</td>\n",
       "      <td>1915.0</td>\n",
       "      <td>60.0</td>\n",
       "    </tr>\n",
       "    <tr>\n",
       "      <th>4</th>\n",
       "      <td>250000.0</td>\n",
       "      <td>8.0</td>\n",
       "      <td>1145.0</td>\n",
       "      <td>9.0</td>\n",
       "      <td>2000.0</td>\n",
       "      <td>84.0</td>\n",
       "    </tr>\n",
       "  </tbody>\n",
       "</table>\n",
       "</div>"
      ],
      "text/plain": [
       "   sale_price  overall_qual  square_feet  total_room  year_build  lot_frontage\n",
       "0    208500.0           7.0        856.0         8.0      2003.0          65.0\n",
       "1    181500.0           6.0       1262.0         6.0      1976.0          80.0\n",
       "2    223500.0           7.0        920.0         6.0      2001.0          68.0\n",
       "3    140000.0           7.0        961.0         7.0      1915.0          60.0\n",
       "4    250000.0           8.0       1145.0         9.0      2000.0          84.0"
      ]
     },
     "execution_count": 3,
     "metadata": {},
     "output_type": "execute_result"
    }
   ],
   "source": [
    "#cargamos los datos del proyecto\n",
    "url = 'https://raw.githubusercontent.com/marlonSamuel/proyecto_python/master/data.csv'\n",
    "df = pd.read_csv(url, index_col=0)\n",
    "df.head()"
   ]
  },
  {
   "cell_type": "code",
   "execution_count": 10,
   "metadata": {},
   "outputs": [
    {
     "data": {
      "text/plain": [
       "array([[7., 1.],\n",
       "       [6., 1.],\n",
       "       [7., 1.],\n",
       "       ...,\n",
       "       [7., 1.],\n",
       "       [8., 1.],\n",
       "       [6., 1.]], dtype=float32)"
      ]
     },
     "execution_count": 10,
     "metadata": {},
     "output_type": "execute_result"
    }
   ],
   "source": [
    "#dividiendo data\n",
    "n = len(df)\n",
    "y_train = np.array(df[:int(n*0.8)][\"sale_price\"]/1000)\n",
    "y_test = np.array(df[len(y_train):n][\"sale_price\"]/1000)\n",
    "x_train = np.array(df[:int(n*0.8)][\"overall_qual\"])\n",
    "x_test = np.array(df[len(y_train):n][\"overall_qual\"])\n",
    "\n",
    "ones = np.ones_like(x_train)\n",
    "x_t = np.transpose(np.stack((np.float32(x_train),np.float32(ones))))\n",
    "x_t"
   ]
  },
  {
   "cell_type": "code",
   "execution_count": 6,
   "metadata": {},
   "outputs": [],
   "source": [
    "def error(y_real,y_aprox):\n",
    "    return 1/2*tf.reduce_mean(tf.math.square(y_real - y_aprox) )"
   ]
  },
  {
   "cell_type": "code",
   "execution_count": 15,
   "metadata": {},
   "outputs": [
    {
     "name": "stdout",
     "output_type": "stream",
     "text": [
      "INFO:tensorflow:Graph was finalized.\n",
      "INFO:tensorflow:Running local_init_op.\n",
      "INFO:tensorflow:Done running local_init_op.\n",
      "Parametros de w:\n",
      "[[33.0536   ]\n",
      " [ 5.4177127]]\n",
      "error:  4490.5684\n",
      "Parametros de w:\n",
      "[[  6.6347895]\n",
      " [138.09941  ]]\n",
      "error:  3147.0823\n",
      "Parametros de w:\n",
      "[[  1.6014416]\n",
      " [170.33424  ]]\n",
      "error:  3105.8486\n",
      "Parametros de w:\n",
      "[[  0.38654518]\n",
      " [178.11475   ]]\n",
      "error:  3103.4468\n"
     ]
    },
    {
     "data": {
      "image/png": "[encoded data removed]",
      "text/plain": [
       "<Figure size 432x288 with 1 Axes>"
      ]
     },
     "metadata": {
      "needs_background": "light"
     },
     "output_type": "display_data"
    }
   ],
   "source": [
    "plt.scatter(x_train,y_train)\n",
    "\n",
    "tf.reset_default_graph()\n",
    "\n",
    "learning_rate = 0.03\n",
    "\n",
    "w = tf.get_variable(name=\"w\",dtype=tf.float32,shape=[2,1],\n",
    "                    initializer=tf.zeros_initializer())\n",
    "\n",
    "tensor_x = tf.placeholder(tf.float32, shape=None, name=\"tensor_x\")\n",
    "tensor_y = tf.placeholder(tf.float32,[len(x_train)],\"tensor_y\")\n",
    "\n",
    "\n",
    "prediccion = tf.matmul(tensor_x,w)\n",
    "gradiente = tf.gradients(error(tensor_y,prediccion),w)\n",
    "err = error(tensor_y,prediccion)\n",
    "\n",
    "update = tf.assign(w, w - gradiente[0] * learning_rate)\n",
    "\n",
    "with tf.train.MonitoredSession() as session:\n",
    "  feed_dict = {tensor_x:x_t, tensor_y:y_train}\n",
    "  for i in range(4000):\n",
    "    #gradientes = session.run(gradiente,feed_dict)\n",
    "    update_params = session.run(update,feed_dict)\n",
    "    predicciones = session.run(prediccion,feed_dict)\n",
    "    if i%1000 == 0:\n",
    "        print(\"Parametros de w:\")\n",
    "        print(session.run(w))\n",
    "        print('error: ',session.run(err,feed_dict))\n",
    "        plt.plot(x_train,predicciones,label=str(i))\n",
    "plt.legend()\n",
    "plt.show()"
   ]
  },
  {
   "cell_type": "code",
   "execution_count": null,
   "metadata": {},
   "outputs": [],
   "source": []
  }
 ],
 "metadata": {
  "kernelspec": {
   "display_name": "Python 3",
   "language": "python",
   "name": "python3"
  },
  "language_info": {
   "codemirror_mode": {
    "name": "ipython",
    "version": 3
   },
   "file_extension": ".py",
   "mimetype": "text/x-python",
   "name": "python",
   "nbconvert_exporter": "python",
   "pygments_lexer": "ipython3",
   "version": "3.7.3"
  }
 },
 "nbformat": 4,
 "nbformat_minor": 2
}
