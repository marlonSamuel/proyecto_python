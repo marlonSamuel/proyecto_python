{
 "cells": [
  {
   "cell_type": "code",
   "execution_count": 1,
   "metadata": {},
   "outputs": [],
   "source": [
    "# Load the TensorBoard notebook extension\n",
    "%load_ext tensorboard"
   ]
  },
  {
   "cell_type": "code",
   "execution_count": 2,
   "metadata": {},
   "outputs": [],
   "source": [
    "import pandas as pd\n",
    "import numpy as np\n",
    "import tensorflow as tf\n",
    "import matplotlib.pyplot as plt\n",
    "import datetime"
   ]
  },
  {
   "cell_type": "code",
   "execution_count": 3,
   "metadata": {},
   "outputs": [
    {
     "name": "stdout",
     "output_type": "stream",
     "text": [
      "WARNING:tensorflow:From C:\\Users\\senpai\\AppData\\Roaming\\Python\\Python37\\site-packages\\tensorflow\\python\\compat\\v2_compat.py:96: disable_resource_variables (from tensorflow.python.ops.variable_scope) is deprecated and will be removed in a future version.\n",
      "Instructions for updating:\n",
      "non-resource variables are not supported in the long term\n",
      "Enabled compatitility to tf1.x\n"
     ]
    }
   ],
   "source": [
    "if tf.__version__.startswith(\"2.\"):\n",
    "  import tensorflow.compat.v1 as tf\n",
    "  tf.compat.v1.disable_v2_behavior()\n",
    "  tf.compat.v1.disable_eager_execution()\n",
    "  print(\"Enabled compatitility to tf1.x\")"
   ]
  },
  {
   "cell_type": "code",
   "execution_count": 4,
   "metadata": {},
   "outputs": [
    {
     "data": {
      "text/html": [
       "<div>\n",
       "<style scoped>\n",
       "    .dataframe tbody tr th:only-of-type {\n",
       "        vertical-align: middle;\n",
       "    }\n",
       "\n",
       "    .dataframe tbody tr th {\n",
       "        vertical-align: top;\n",
       "    }\n",
       "\n",
       "    .dataframe thead th {\n",
       "        text-align: right;\n",
       "    }\n",
       "</style>\n",
       "<table border=\"1\" class=\"dataframe\">\n",
       "  <thead>\n",
       "    <tr style=\"text-align: right;\">\n",
       "      <th></th>\n",
       "      <th>sale_price</th>\n",
       "      <th>overall_qual</th>\n",
       "      <th>square_feet</th>\n",
       "      <th>total_room</th>\n",
       "      <th>year_build</th>\n",
       "      <th>lot_frontage</th>\n",
       "    </tr>\n",
       "  </thead>\n",
       "  <tbody>\n",
       "    <tr>\n",
       "      <th>0</th>\n",
       "      <td>208500.0</td>\n",
       "      <td>7.0</td>\n",
       "      <td>856.0</td>\n",
       "      <td>8.0</td>\n",
       "      <td>2003.0</td>\n",
       "      <td>65.0</td>\n",
       "    </tr>\n",
       "    <tr>\n",
       "      <th>1</th>\n",
       "      <td>181500.0</td>\n",
       "      <td>6.0</td>\n",
       "      <td>1262.0</td>\n",
       "      <td>6.0</td>\n",
       "      <td>1976.0</td>\n",
       "      <td>80.0</td>\n",
       "    </tr>\n",
       "    <tr>\n",
       "      <th>2</th>\n",
       "      <td>223500.0</td>\n",
       "      <td>7.0</td>\n",
       "      <td>920.0</td>\n",
       "      <td>6.0</td>\n",
       "      <td>2001.0</td>\n",
       "      <td>68.0</td>\n",
       "    </tr>\n",
       "    <tr>\n",
       "      <th>3</th>\n",
       "      <td>140000.0</td>\n",
       "      <td>7.0</td>\n",
       "      <td>961.0</td>\n",
       "      <td>7.0</td>\n",
       "      <td>1915.0</td>\n",
       "      <td>60.0</td>\n",
       "    </tr>\n",
       "    <tr>\n",
       "      <th>4</th>\n",
       "      <td>250000.0</td>\n",
       "      <td>8.0</td>\n",
       "      <td>1145.0</td>\n",
       "      <td>9.0</td>\n",
       "      <td>2000.0</td>\n",
       "      <td>84.0</td>\n",
       "    </tr>\n",
       "  </tbody>\n",
       "</table>\n",
       "</div>"
      ],
      "text/plain": [
       "   sale_price  overall_qual  square_feet  total_room  year_build  lot_frontage\n",
       "0    208500.0           7.0        856.0         8.0      2003.0          65.0\n",
       "1    181500.0           6.0       1262.0         6.0      1976.0          80.0\n",
       "2    223500.0           7.0        920.0         6.0      2001.0          68.0\n",
       "3    140000.0           7.0        961.0         7.0      1915.0          60.0\n",
       "4    250000.0           8.0       1145.0         9.0      2000.0          84.0"
      ]
     },
     "execution_count": 4,
     "metadata": {},
     "output_type": "execute_result"
    }
   ],
   "source": [
    "#cargamos los datos del proyecto\n",
    "url = 'https://raw.githubusercontent.com/marlonSamuel/proyecto_python/master/data.csv'\n",
    "df = pd.read_csv(url, index_col=0)\n",
    "df.head()"
   ]
  },
  {
   "cell_type": "code",
   "execution_count": 541,
   "metadata": {},
   "outputs": [],
   "source": [
    "#dividiendo data\n",
    "n = len(df)\n",
    "y_train = np.array(df[:int(n*0.8)][\"sale_price\"]/1000)\n",
    "y_test = np.array(df[len(y_train):n][\"sale_price\"]/1000)\n",
    "x_train = np.array(df[:int(n*0.8)][\"overall_qual\"])\n",
    "x_test = np.array(df[len(y_train):n][\"overall_qual\"])\n",
    "\n",
    "ones = np.ones_like(x_train)\n",
    "x_t = np.transpose(np.stack((np.float32(x_train),np.float32(ones))))"
   ]
  },
  {
   "cell_type": "code",
   "execution_count": 587,
   "metadata": {},
   "outputs": [],
   "source": [
    "def error(y_real,y_aprox):\n",
    "    return 1/2*tf.reduce_mean(tf.math.square(y_real - y_aprox) )"
   ]
  },
  {
   "cell_type": "code",
   "execution_count": 412,
   "metadata": {},
   "outputs": [
    {
     "name": "stdout",
     "output_type": "stream",
     "text": [
      "INFO:tensorflow:Graph was finalized.\n",
      "INFO:tensorflow:Running local_init_op.\n",
      "INFO:tensorflow:Done running local_init_op.\n",
      "Gradiente del error respecto de m y b:\n",
      "[-1187.9478, -180.59029]\n",
      "Gradiente del error respecto de m y b:\n",
      "[-1140.3735, -173.16196]\n",
      "Gradiente del error respecto de m y b:\n",
      "[-1094.7058, -166.03136]\n",
      "Gradiente del error respecto de m y b:\n",
      "[-1050.868, -159.18652]\n",
      "Gradiente del error respecto de m y b:\n",
      "[-1008.7871, -152.61595]\n",
      "Gradiente del error respecto de m y b:\n",
      "[-968.39233, -146.30869]\n",
      "Gradiente del error respecto de m y b:\n",
      "[-929.6164, -140.2542]\n",
      "Gradiente del error respecto de m y b:\n",
      "[-892.39417, -134.44232]\n",
      "Gradiente del error respecto de m y b:\n",
      "[-856.6637, -128.86337]\n",
      "Gradiente del error respecto de m y b:\n",
      "[-822.36487, -123.50797]\n",
      "Gradiente del error respecto de m y b:\n",
      "[-789.44055, -118.36719]\n",
      "Gradiente del error respecto de m y b:\n",
      "[-757.8356, -113.432434]\n",
      "Gradiente del error respecto de m y b:\n",
      "[-727.4971, -108.69542]\n",
      "Gradiente del error respecto de m y b:\n",
      "[-698.3744, -104.14825]\n",
      "Gradiente del error respecto de m y b:\n",
      "[-670.4186, -99.783295]\n"
     ]
    },
    {
     "data": {
      "image/png": "[encoded data removed]",
      "text/plain": [
       "<Figure size 432x288 with 1 Axes>"
      ]
     },
     "metadata": {
      "needs_background": "light"
     },
     "output_type": "display_data"
    }
   ],
   "source": [
    "plt.scatter(x_train,y_train)\n",
    "\n",
    "tf.reset_default_graph()\n",
    "\n",
    "learning_rate = 0.001\n",
    "\n",
    "m = tf.get_variable(\"pendiente\",dtype=tf.float32, shape=[],\n",
    "                    initializer=tf.zeros_initializer())\n",
    "b = tf.get_variable(\"intercepto\",dtype=tf.float32, shape=[],\n",
    "                    initializer=tf.zeros_initializer())\n",
    "\n",
    "tensor_x = tf.placeholder(tf.float32,[len(x_train)],\"tensor_x\")\n",
    "tensor_y = tf.placeholder(tf.float32,[len(x_train)],\"tensor_y\")\n",
    "\n",
    "prediccion = tf.add(tf.multiply(m,x_train),b)\n",
    "gradiente = tf.gradients(error(tensor_y,prediccion) ,[m,b] )\n",
    "\n",
    "actualizacion_m = tf.assign(m, m - learning_rate*gradiente[0] )\n",
    "actualizacion_b = tf.assign(b, b - learning_rate*gradiente[1] )\n",
    "actualizacion_parametros = tf.group(actualizacion_m,actualizacion_b)\n",
    "\n",
    "with tf.train.MonitoredSession() as session:\n",
    "  feed_dict = {tensor_x:x_train, tensor_y:y_train}\n",
    "\n",
    "  for i in range(15):\n",
    "    print(\"Gradiente del error respecto de m y b:\")\n",
    "    print(session.run(gradiente,feed_dict=feed_dict))\n",
    "\n",
    "    session.run(actualizacion_parametros,feed_dict=feed_dict)\n",
    "\n",
    "    predicciones = session.run(prediccion,feed_dict=feed_dict)\n",
    "\n",
    "    plt.plot(x_train,predicciones,label=str(i))\n",
    "\n",
    "plt.legend()\n",
    "plt.show()"
   ]
  },
  {
   "cell_type": "code",
   "execution_count": 429,
   "metadata": {},
   "outputs": [
    {
     "name": "stdout",
     "output_type": "stream",
     "text": [
      "Tensor(\"transpose:0\", shape=(1168, 2), dtype=float32)\n",
      "Tensor(\"tensor_x:0\", dtype=float32)\n",
      "[<tf.Tensor 'gradients/MatMul_grad/Reshape_1:0' shape=(2, 1) dtype=float32>]\n",
      "INFO:tensorflow:Graph was finalized.\n",
      "INFO:tensorflow:Running local_init_op.\n",
      "INFO:tensorflow:Done running local_init_op.\n",
      "[[ 0.9864935 ]\n",
      " [-0.29466894]]\n",
      "[[0.9864935]\n",
      " [1.2791277]]\n"
     ]
    }
   ],
   "source": [
    "tf.reset_default_graph()\n",
    "w = tf.get_variable(name=\"w\",dtype=tf.float32,shape=[2,1],\n",
    "                    initializer=tf.random_normal_initializer(mean=0.0,stddev=0.5))\n",
    "\n",
    "xb = getXWithBias(x_train)\n",
    "print(xb)\n",
    "\n",
    "tensor_x = tf.placeholder(tf.float32, shape=None, name=\"tensor_x\")\n",
    "tensor_y = tf.placeholder(tf.float32,[len(x_train)],\"tensor_y\")\n",
    "print(tensor_x)\n",
    "\n",
    "    \n",
    "prediccion = tf.matmul(tensor_x,w)\n",
    "gradiente = tf.gradients(error(tensor_y,prediccion),[w] )\n",
    "print(gradiente)\n",
    "\n",
    "\n",
    "X = datos = tf.constant([[2.0,1.0],\n",
    "                        [5.0,1.0]])\n",
    "\n",
    "\n",
    "\n",
    "#z = w.assign(w - (gradiente * 0.009))\n",
    "aw0 = tf.assign(w[0], w[0] - gradiente[0][1][0] * 0.009)\n",
    "aw1 = tf.assign(w[1], w[1] - gradiente[0][1][0] * 0.009)\n",
    "\n",
    "\n",
    "with tf.train.MonitoredSession() as sess:\n",
    "    feed_dict = {tensor_x: x_t, tensor_y: y_train}\n",
    "    predicciones = sess.run(prediccion, feed_dict=feed_dict)\n",
    "    gradientes = sess.run(gradiente, feed_dict=feed_dict)\n",
    "    print(sess.run(aw0,feed_dict))\n",
    "    print(sess.run(aw1,feed_dict))"
   ]
  },
  {
   "cell_type": "code",
   "execution_count": 149,
   "metadata": {},
   "outputs": [
    {
     "name": "stdout",
     "output_type": "stream",
     "text": [
      "INFO:tensorflow:Graph was finalized.\n",
      "INFO:tensorflow:Running local_init_op.\n",
      "INFO:tensorflow:Done running local_init_op.\n",
      "[[-6.630326 ]\n",
      " [-5.7674446]\n",
      " [-6.630326 ]\n",
      " ...\n",
      " [-6.630326 ]\n",
      " [-7.4932075]\n",
      " [-5.7674446]]\n"
     ]
    }
   ],
   "source": [
    "x = tf.placeholder(tf.float32, shape=None, name=\"tensor_x\")\n",
    "y = tf.matmul(x,w)\n",
    "\n",
    "\n",
    "with tf.train.MonitoredSession() as sess:\n",
    "    feed_dict = {x: x_t}\n",
    "    print(sess.run(y, feed_dict=feed_dict))  # Will succeed.\n"
   ]
  },
  {
   "cell_type": "code",
   "execution_count": 70,
   "metadata": {},
   "outputs": [],
   "source": [
    "def getXWithBias(x):\n",
    "    x = tf.constant(np.float32(x_train))\n",
    "    ones = tf.ones([len(x_train),],dtype=float)\n",
    "    x = tf.transpose(tf.stack([x,ones]))\n",
    "    return x"
   ]
  },
  {
   "cell_type": "code",
   "execution_count": 548,
   "metadata": {},
   "outputs": [
    {
     "name": "stdout",
     "output_type": "stream",
     "text": [
      "INFO:tensorflow:Graph was finalized.\n",
      "INFO:tensorflow:Running local_init_op.\n",
      "INFO:tensorflow:Done running local_init_op.\n",
      "[[7. 1.]\n",
      " [6. 1.]\n",
      " [7. 1.]\n",
      " ...\n",
      " [7. 1.]\n",
      " [8. 1.]\n",
      " [6. 1.]]\n"
     ]
    }
   ],
   "source": [
    "x = getXWithBias(x_train)\n",
    "\n",
    "with tf.train.MonitoredSession() as session:\n",
    "  print(session.run(x))\n"
   ]
  },
  {
   "cell_type": "code",
   "execution_count": 589,
   "metadata": {},
   "outputs": [
    {
     "name": "stdout",
     "output_type": "stream",
     "text": [
      "INFO:tensorflow:Graph was finalized.\n",
      "INFO:tensorflow:Running local_init_op.\n",
      "INFO:tensorflow:Done running local_init_op.\n",
      "Parametros de w:\n",
      "<tf.Variable 'w:0' shape=(2, 1) dtype=float32_ref>\n",
      "error:  4490.5684\n",
      "Parametros de w:\n",
      "<tf.Variable 'w:0' shape=(2, 1) dtype=float32_ref>\n",
      "error:  3878.6992\n"
     ]
    },
    {
     "data": {
      "image/png": "[encoded data removed]",
      "text/plain": [
       "<Figure size 432x288 with 1 Axes>"
      ]
     },
     "metadata": {
      "needs_background": "light"
     },
     "output_type": "display_data"
    }
   ],
   "source": [
    "plt.scatter(x_train,y_train)\n",
    "\n",
    "tf.reset_default_graph()\n",
    "\n",
    "learning_rate = 0.03\n",
    "\n",
    "w = tf.get_variable(name=\"w\",dtype=tf.float32,shape=[2,1],\n",
    "                    initializer=tf.zeros_initializer())\n",
    "\n",
    "tensor_x = tf.placeholder(tf.float32, shape=None, name=\"tensor_x\")\n",
    "tensor_y = tf.placeholder(tf.float32,[len(x_train)],\"tensor_y\")\n",
    "\n",
    "\n",
    "prediccion = tf.matmul(tensor_x,w)\n",
    "gradiente = tf.gradients(error(tensor_y,prediccion),w)\n",
    "err = error(tensor_y,prediccion)\n",
    "\n",
    "update = tf.assign(w, w - gradiente[0] * learning_rate)\n",
    "\n",
    "with tf.train.MonitoredSession() as session:\n",
    "  feed_dict = {tensor_x:x_t, tensor_y:y_train}\n",
    "  for i in range(4000):\n",
    "    gradientes = session.run(gradiente,feed_dict)\n",
    "    update_params = session.run(update,feed_dict)\n",
    "    predicciones = session.run(prediccion,feed_dict)\n",
    "    if i%1000 == 0:\n",
    "        print(\"Parametros de w:\")\n",
    "        print(session.run(w))\n",
    "        print('error: ',session.run(err,feed_dict))\n",
    "        plt.plot(x_train,predicciones,label=str(i))\n",
    "plt.legend()\n",
    "plt.show()"
   ]
  },
  {
   "cell_type": "code",
   "execution_count": 319,
   "metadata": {},
   "outputs": [
    {
     "data": {
      "text/plain": [
       "array([[4, 1, 3],\n",
       "       [2, 2, 4],\n",
       "       [2, 2, 4]])"
      ]
     },
     "execution_count": 319,
     "metadata": {},
     "output_type": "execute_result"
    }
   ],
   "source": [
    "a = np.array([[1, 0],\n",
    "              [0, 1],\n",
    "             [0,1]])\n",
    "b = np.array([[4, 1,3],\n",
    "              [2, 2,4]])\n",
    "np.matmul(a, b)"
   ]
  }
 ],
 "metadata": {
  "kernelspec": {
   "display_name": "Python 3",
   "language": "python",
   "name": "python3"
  },
  "language_info": {
   "codemirror_mode": {
    "name": "ipython",
    "version": 3
   },
   "file_extension": ".py",
   "mimetype": "text/x-python",
   "name": "python",
   "nbconvert_exporter": "python",
   "pygments_lexer": "ipython3",
   "version": "3.7.3"
  }
 },
 "nbformat": 4,
 "nbformat_minor": 2
}
