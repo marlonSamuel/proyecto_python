{
 "cells": [
  {
   "cell_type": "code",
   "execution_count": 1,
   "metadata": {},
   "outputs": [],
   "source": [
    "# Load the TensorBoard notebook extension\n",
    "%load_ext tensorboard"
   ]
  },
  {
   "cell_type": "code",
   "execution_count": 1,
   "metadata": {},
   "outputs": [
    {
     "name": "stdout",
     "output_type": "stream",
     "text": [
      "2.2.0-rc3\n"
     ]
    }
   ],
   "source": [
    "import pandas as pd\n",
    "import numpy as np\n",
    "import tensorflow as tf\n",
    "import matplotlib.pyplot as plt\n",
    "\n",
    "print(tf.__version__)"
   ]
  },
  {
   "cell_type": "code",
   "execution_count": 2,
   "metadata": {},
   "outputs": [
    {
     "name": "stdout",
     "output_type": "stream",
     "text": [
      "WARNING:tensorflow:From C:\\Users\\senpai\\AppData\\Roaming\\Python\\Python37\\site-packages\\tensorflow\\python\\compat\\v2_compat.py:96: disable_resource_variables (from tensorflow.python.ops.variable_scope) is deprecated and will be removed in a future version.\n",
      "Instructions for updating:\n",
      "non-resource variables are not supported in the long term\n",
      "Enabled compatitility to tf1.x\n"
     ]
    }
   ],
   "source": [
    "if tf.__version__.startswith(\"2.\"):\n",
    "  import tensorflow.compat.v1 as tf\n",
    "  tf.compat.v1.disable_v2_behavior()\n",
    "  tf.compat.v1.disable_eager_execution()\n",
    "  print(\"Enabled compatitility to tf1.x\")"
   ]
  },
  {
   "cell_type": "code",
   "execution_count": 3,
   "metadata": {},
   "outputs": [
    {
     "name": "stdout",
     "output_type": "stream",
     "text": [
      "filas:  1460\n",
      "columnas:  6\n",
      "1460\n"
     ]
    }
   ],
   "source": [
    "#cargamos los datos del proyecto\n",
    "data = np.load('proyecto_training_data.npy')\n",
    "print('filas: ',data.shape[0])\n",
    "print('columnas: ',data.shape[1])\n",
    "n = len(data)\n",
    "print(n)"
   ]
  },
  {
   "cell_type": "code",
   "execution_count": 4,
   "metadata": {},
   "outputs": [
    {
     "data": {
      "text/html": [
       "<div>\n",
       "<style scoped>\n",
       "    .dataframe tbody tr th:only-of-type {\n",
       "        vertical-align: middle;\n",
       "    }\n",
       "\n",
       "    .dataframe tbody tr th {\n",
       "        vertical-align: top;\n",
       "    }\n",
       "\n",
       "    .dataframe thead th {\n",
       "        text-align: right;\n",
       "    }\n",
       "</style>\n",
       "<table border=\"1\" class=\"dataframe\">\n",
       "  <thead>\n",
       "    <tr style=\"text-align: right;\">\n",
       "      <th></th>\n",
       "      <th>sale_price</th>\n",
       "      <th>overall_qual</th>\n",
       "      <th>square_feet</th>\n",
       "      <th>total_room</th>\n",
       "      <th>year_build</th>\n",
       "      <th>lot_frontage</th>\n",
       "    </tr>\n",
       "  </thead>\n",
       "  <tbody>\n",
       "    <tr>\n",
       "      <th>0</th>\n",
       "      <td>208500.0</td>\n",
       "      <td>7.0</td>\n",
       "      <td>856.0</td>\n",
       "      <td>8.0</td>\n",
       "      <td>2003.0</td>\n",
       "      <td>65.0</td>\n",
       "    </tr>\n",
       "    <tr>\n",
       "      <th>1</th>\n",
       "      <td>181500.0</td>\n",
       "      <td>6.0</td>\n",
       "      <td>1262.0</td>\n",
       "      <td>6.0</td>\n",
       "      <td>1976.0</td>\n",
       "      <td>80.0</td>\n",
       "    </tr>\n",
       "    <tr>\n",
       "      <th>2</th>\n",
       "      <td>223500.0</td>\n",
       "      <td>7.0</td>\n",
       "      <td>920.0</td>\n",
       "      <td>6.0</td>\n",
       "      <td>2001.0</td>\n",
       "      <td>68.0</td>\n",
       "    </tr>\n",
       "    <tr>\n",
       "      <th>3</th>\n",
       "      <td>140000.0</td>\n",
       "      <td>7.0</td>\n",
       "      <td>961.0</td>\n",
       "      <td>7.0</td>\n",
       "      <td>1915.0</td>\n",
       "      <td>60.0</td>\n",
       "    </tr>\n",
       "    <tr>\n",
       "      <th>4</th>\n",
       "      <td>250000.0</td>\n",
       "      <td>8.0</td>\n",
       "      <td>1145.0</td>\n",
       "      <td>9.0</td>\n",
       "      <td>2000.0</td>\n",
       "      <td>84.0</td>\n",
       "    </tr>\n",
       "  </tbody>\n",
       "</table>\n",
       "</div>"
      ],
      "text/plain": [
       "   sale_price  overall_qual  square_feet  total_room  year_build  lot_frontage\n",
       "0    208500.0           7.0        856.0         8.0      2003.0          65.0\n",
       "1    181500.0           6.0       1262.0         6.0      1976.0          80.0\n",
       "2    223500.0           7.0        920.0         6.0      2001.0          68.0\n",
       "3    140000.0           7.0        961.0         7.0      1915.0          60.0\n",
       "4    250000.0           8.0       1145.0         9.0      2000.0          84.0"
      ]
     },
     "execution_count": 4,
     "metadata": {},
     "output_type": "execute_result"
    }
   ],
   "source": [
    "df = pd.DataFrame(data,columns=[\"sale_price\",\"overall_qual\",\"square_feet\",\"total_room\",\"year_build\",\"lot_frontage\"])\n",
    "df.head()"
   ]
  },
  {
   "cell_type": "code",
   "execution_count": 5,
   "metadata": {},
   "outputs": [],
   "source": [
    "#dividiendo data\n",
    "n = len(df)\n",
    "y_train = np.array(df[:int(n*0.8)][\"sale_price\"]/1000)\n",
    "y_test = np.array(df[len(y_train):n][\"sale_price\"]/1000)\n",
    "x_train = np.array(df[:int(n*0.8)][\"overall_qual\"])\n",
    "x_test = np.array(df[len(y_train):n][\"overall_qual\"])"
   ]
  },
  {
   "cell_type": "code",
   "execution_count": 70,
   "metadata": {},
   "outputs": [],
   "source": [
    "#obtenermos los parametros del modelo, inicializados aleatoriamente\n",
    "def reset():\n",
    "    tf.reset_default_graph()\n",
    "    m = tf.Variable(np.random.randn(), name = \"m\") \n",
    "    b = tf.Variable(np.random.randn(), name = \"b\")\n",
    "    return m,b"
   ]
  },
  {
   "cell_type": "code",
   "execution_count": 77,
   "metadata": {},
   "outputs": [],
   "source": [
    "#obtenie las predicciones del modelo\n",
    "def model(m,b,x):\n",
    "    return tf.add(tf.multiply(m,x),b)"
   ]
  },
  {
   "cell_type": "code",
   "execution_count": 73,
   "metadata": {},
   "outputs": [],
   "source": [
    "#función de error para el modelo\n",
    "def error(y,y_hat):\n",
    "  return 1/2*tf.reduce_mean(tf.math.square(y - y_hat))"
   ]
  },
  {
   "cell_type": "code",
   "execution_count": 147,
   "metadata": {},
   "outputs": [],
   "source": [
    "#decenso del gradiente\n",
    "def gradient_decent(tensor_y,y_hat,m,b):\n",
    "    return tf.gradients(error(tensor_y,y_hat),[m,b])"
   ]
  },
  {
   "cell_type": "code",
   "execution_count": 148,
   "metadata": {},
   "outputs": [],
   "source": [
    "def training(X,Y,epochs,print_each,lr,m,b):\n",
    "    y_hat = model(m,b,X)\n",
    "    get_gradient = gradient_decent(Y,y_hat,m,b)\n",
    "    ma = tf.assign(m, m - lr*get_gradient[0])\n",
    "    ba = tf.assign(b, b - lr*get_gradient[1])\n",
    "    update = tf.group(ma,ba)\n",
    "    err = error(Y,y_hat)\n",
    "    with tf.train.MonitoredSession() as session:\n",
    "        feed_dict = {X:x_train, Y:y_train}\n",
    "        for i in range(epochs):\n",
    "            session.run(get_gradient,feed_dict=feed_dict)\n",
    "            session.run(update,feed_dict=feed_dict)\n",
    "\n",
    "            if(i+1)%print_each == 0:\n",
    "                print(\"Gradiente del error respecto de m y b en iteración:\",i+1)\n",
    "                print(\"m:\",session.run(m),\"b:\",session.run(b))\n",
    "                print(\"    error: \",session.run(err,feed_dict))\n",
    "                print(\"=======================================\")\n",
    "        "
   ]
  },
  {
   "cell_type": "code",
   "execution_count": 149,
   "metadata": {},
   "outputs": [
    {
     "name": "stdout",
     "output_type": "stream",
     "text": [
      "INFO:tensorflow:Graph was finalized.\n",
      "INFO:tensorflow:Running local_init_op.\n",
      "INFO:tensorflow:Done running local_init_op.\n",
      "Gradiente del error respecto de m y b en iteración: 3000\n",
      "m: 41.058434 b: -68.58826\n",
      "    error:  1165.7681\n",
      "=======================================\n",
      "Gradiente del error respecto de m y b en iteración: 6000\n",
      "m: 44.19991 b: -88.70704\n",
      "    error:  1148.3774\n",
      "=======================================\n",
      "Gradiente del error respecto de m y b en iteración: 9000\n",
      "m: 45.07452 b: -94.30827\n",
      "    error:  1147.0295\n",
      "=======================================\n",
      "Gradiente del error respecto de m y b en iteración: 12000\n",
      "m: 45.318024 b: -95.86773\n",
      "    error:  1146.9249\n",
      "=======================================\n",
      "Gradiente del error respecto de m y b en iteración: 15000\n",
      "m: 45.38582 b: -96.30189\n",
      "    error:  1146.917\n",
      "=======================================\n"
     ]
    }
   ],
   "source": [
    "lr = 0.009\n",
    "m,b = reset()\n",
    "\n",
    "tensor_x = tf.placeholder(tf.float32,[len(x_train)],\"tensor_x\")\n",
    "tensor_y = tf.placeholder(tf.float32,[len(x_train)],\"tensor_x\")\n",
    "\n",
    "training(tensor_x,tensor_y,15000,3000,lr,m,b)"
   ]
  },
  {
   "cell_type": "code",
   "execution_count": null,
   "metadata": {},
   "outputs": [],
   "source": []
  }
 ],
 "metadata": {
  "kernelspec": {
   "display_name": "Python 3",
   "language": "python",
   "name": "python3"
  },
  "language_info": {
   "codemirror_mode": {
    "name": "ipython",
    "version": 3
   },
   "file_extension": ".py",
   "mimetype": "text/x-python",
   "name": "python",
   "nbconvert_exporter": "python",
   "pygments_lexer": "ipython3",
   "version": "3.7.3"
  }
 },
 "nbformat": 4,
 "nbformat_minor": 2
}
