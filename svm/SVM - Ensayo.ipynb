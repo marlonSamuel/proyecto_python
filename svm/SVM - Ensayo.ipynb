{
 "cells": [
  {
   "cell_type": "markdown",
   "metadata": {},
   "source": [
    "### SVM\n",
    "\n",
    "#### ¿que es?\n",
    "son modelos de aprendizaje supervisados, con algoritmos de aprendizaje asociados que analizan los datos utilizados para el análisis de clasificación y regresión\n",
    "\n",
    "#### Vectores de soporte\n",
    "* Los vectores de soporte son los puntos de la data que estan los mas cerca de la superfice de decisión (hiperplano)\n",
    "\n",
    "* Son los puntos mas dificiles de clasificar.\n",
    "\n",
    "* Tiene mucha influencia en la posición de la superficie.\n",
    "\n",
    "Se busca la separación mas eficiente, encontrar una linea que separe (máxima separación) los dos grupos en la misma distancia de los vectores de soporte.\n",
    "\n",
    "<img src=\"support_vectors.png\">\n",
    "\n",
    "Los vectores de soporte son los que tocan las lineas que estan cerca de la frontera de decisión.\n",
    "\n",
    "Para hacerlo, tenemos imputs y outputs.\n",
    "\n",
    "Input:\n",
    "\n",
    "<img src=\"classes.png\">\n",
    "\n",
    "* Si estamos 1, pertenece a la clase 1\n",
    "* si estamos en -1 pertenece a la clase 2\n",
    "\n",
    "Entonces la idea es definir una recta como:\n",
    "\n",
    "$W_o^TX+b_0 = 1\\hspace{1cm} or \\hspace{1cm} W_o^TX+b_0 = 0$\n",
    "\n",
    "Donde $b_0$ es el sesgo.\n",
    "\n",
    "Se busca maximizar la distancia d, que separa a los vectores de soporte con la frontera de decisión.\n",
    "\n",
    "<img src=\"decission_f.png\">\n",
    "\n",
    "Los puntos de lado izquierdo de la imagen pertenecen a 1 y los del lado derecho pertenecen a -1 (0).\n",
    "\n",
    "Entonces se tiene.\n",
    "\n",
    "<img src=\"image_4.png\">\n",
    "\n",
    "Se tiene que.\n",
    "* $H_1$ Puntos rojos, Y = 1\n",
    "* $H_2$ Puntos verdes, Y = -1\n",
    "* Vector b es el sesgo.\n",
    "*  $H_0$ frontera de decisión.\n",
    "\n",
    "Deducción.\n",
    "\n",
    "Si tenemos la recta  $L: AX+By+C = 0$\n",
    "\n",
    "y el punto $P(X_0, Y_0)$\n",
    "\n",
    "Encontrar la distancia se define como:\n",
    "\n",
    "$ d(LP) = \\frac{|Ax_0+By_0+C|}{\\sqrt{A^2+B^2}}$\n",
    "\n",
    "Si aplicamos esta formula a la recta $w.x+b$  para encontrar la distancia que hay entre los puntos.\n",
    "\n",
    "De la ecuanción anterior tenemos que $w.x+b = 1$\n",
    "\n",
    "$$\\frac{|w.x+b|} {|w|} = \\frac{1}{|w|} $$\n",
    "\n",
    "nuestro problema de optimizacion,tenemos que minimizar W.\n",
    "Sujeto a .\n",
    "* todos los puntos deben deser mayores o iguales que 1 o menores o iguales que -1.\n",
    "\n",
    "min $|w|$\n",
    "\n",
    "s.a.\n",
    "\n",
    "$\\vec{x_i}.\\vec{w}+b \\geq 1 \\ ; y=+1\\\\\n",
    "\\vec{x_i}.\\vec{w}+b \\leq -1 \\; y=-1$\n",
    "\n",
    "entonces tenemos que ambas expresiones, se pueden juntar : $y_i|\\vec{x_i}.\\vec{w}| \\geq -1$\n",
    "\n",
    "La función objetivo queda de la siguiente forma.\n",
    "\n",
    "se desea minimizar, por conveniencia matematica tenemos:\n",
    "\n",
    "$\\sqrt{w_1^2+w^2_2+...+w^2n} \\approx \\frac{1}{2} |w_1^2+w^2_2+...+w^2n|$\n",
    "\n",
    "entonces, tenemos el problema de otpmización no lineal.\n",
    "\n",
    "min $|w|^2$\n",
    "\n",
    "s.a.\n",
    "\n",
    "$y_i|\\vec{x_i}.\\vec{w}| \\geq -1 = 0$\n",
    "\n",
    "Se puede resolver mediante multiplicadores lagrange.\n",
    "\n",
    "queremos encontrar w y b.\n",
    "\n",
    "$L(\\vec{w},b) = \\frac{1}{2}|w|^2-\\displaystyle\\sum_{i=1}^{N}\\lambda_i[y_i(wx_i+b)-1]$\n",
    "\n",
    "$L(\\vec{w},b) = \\frac{1}{2}|w|^2-\\displaystyle\\sum_{i=1}^{N}\\lambda-\\displaystyle\\sum_{i=1}^{N}\\lambda_iy_ib+\\displaystyle\\sum_{i=0}^{N}$\n",
    "\n",
    "\n",
    "Tenemos que minimizar el lagragiano con respecto a $\\vec{w}$ y b y al mismo tiempo que $\\lambda$ sea 0.\n",
    "\n",
    "$\\frac{\\partial L}{\\partial\\vec{w}} = \\vec{w} - \\displaystyle\\sum_{i=1}^{N}\\lambda_iy_ix_i=0$\n",
    "\n",
    "$\\frac{\\partial L}{\\partial b} = - \\displaystyle\\sum_{i=1}^{N}\\lambda_iy_i=0$\n",
    "\n",
    "obtenemos:\n",
    "\n",
    "$\\vec{w} = \\displaystyle\\sum_{i=1}^{N}\\lambda_iy_ix_i$\n",
    "\n",
    "$\\displaystyle\\sum_{i=1}^{N}\\lambda_iy_i = 0$\n",
    "\n",
    "sustituiendo en:\n",
    "\n",
    "$L(\\lambda_i) = \\frac{1}{2}|\\sum\\lambda_iy_ix_i|^2-\\displaystyle\\sum_{i=0}^{N}\\lambda_iy_i[\\displaystyle\\sum_{i=0}^{N}\\lambda_iy_ix].\\vec{x_i}+\\displaystyle\\sum_{i=0}^{N}\\lambda_i$\n",
    "\n",
    "* \n",
    "* \n",
    "* \n",
    "\n",
    "$L(\\lambda_i) = \\displaystyle\\sum_{i=0}^{N}\\lambda_i - \\frac{1}{2}\\displaystyle\\sum_{i=0}^{N}\\lambda_i\\lambda_jy_iy_j(x_i.x_j)$\n",
    "\n",
    "s.a\n",
    "$\\sum\\lambda_iy_i = 0 \\  \\lambda_i \\geq 0 $\n",
    "\n",
    "\n",
    "### Kernels\n",
    "\n",
    "Cuando tenemos problemas de clasificación que no se pueden separar con una linea recta.\n",
    "\n",
    "Los métodos kernel siguen una aproximación distinta en\n",
    "la que se realiza (habitualmente de manera implícita) una\n",
    "expansión de la dimensionalidad, se cambia el espacio para encontrar una linea que clasifique los datos.\n",
    "\n",
    "Se podría resolver de la siguiente manera.\n",
    "\n",
    "<img src=\"image_5.png\">\n",
    "\n",
    "\n",
    "\n",
    "ref: https://www.youtube.com/watch?v=P5lJTUXlTIY&feature=youtu.be\n",
    "ref: https://www.youtube.com/watch?v=7wBeXw4hIEg"
   ]
  },
  {
   "cell_type": "markdown",
   "metadata": {},
   "source": [
    "### Ejemplo con tensorboard y dataset del proyecto"
   ]
  },
  {
   "cell_type": "code",
   "execution_count": 296,
   "metadata": {},
   "outputs": [],
   "source": [
    "import numpy as np\n",
    "import pandas as pd\n",
    "import matplotlib.pyplot as plt\n",
    "import tensorflow as tf\n",
    "from sklearn import metrics"
   ]
  },
  {
   "cell_type": "code",
   "execution_count": 297,
   "metadata": {},
   "outputs": [
    {
     "name": "stdout",
     "output_type": "stream",
     "text": [
      "Enabled compatitility to tf1.x\n"
     ]
    }
   ],
   "source": [
    "if tf.__version__.startswith(\"2.\"):\n",
    "  import tensorflow.compat.v1 as tf\n",
    "  tf.compat.v1.disable_v2_behavior()\n",
    "  tf.compat.v1.disable_eager_execution()\n",
    "  print(\"Enabled compatitility to tf1.x\")"
   ]
  },
  {
   "cell_type": "code",
   "execution_count": 298,
   "metadata": {},
   "outputs": [],
   "source": [
    "X_train = np.array(pd.read_csv('https://raw.githubusercontent.com/marlonSamuel/StatisticalLearningProject/master/X_train.csv'))\n",
    "Y_train = np.array(pd.read_csv('https://raw.githubusercontent.com/marlonSamuel/StatisticalLearningProject/master/Y_train.csv'))\n",
    "X_valid = np.array(pd.read_csv('https://raw.githubusercontent.com/marlonSamuel/StatisticalLearningProject/master/X_valid.csv'))\n",
    "Y_valid = np.array(pd.read_csv('https://raw.githubusercontent.com/marlonSamuel/StatisticalLearningProject/master/Y_valid.csv'))"
   ]
  },
  {
   "cell_type": "code",
   "execution_count": 299,
   "metadata": {},
   "outputs": [],
   "source": [
    "#x_vals = np.array([[x[0], x[3]] for x in iris.data])\n",
    "x_train = np.array(X_train)\n",
    "x_test = np.array(X_valid)\n",
    "y_train = np.array([1 if y==0 else -1 for y in Y_train])\n",
    "y_test = np.array([1 if y==0 else -1 for y in Y_valid])"
   ]
  },
  {
   "cell_type": "code",
   "execution_count": 300,
   "metadata": {},
   "outputs": [
    {
     "data": {
      "text/plain": [
       "(143, 6)"
      ]
     },
     "execution_count": 300,
     "metadata": {},
     "output_type": "execute_result"
    }
   ],
   "source": [
    "x_test.shape"
   ]
  },
  {
   "cell_type": "code",
   "execution_count": 305,
   "metadata": {},
   "outputs": [],
   "source": [
    "batch_size = 100\n",
    "tf.reset_default_graph()\n",
    "x_data = tf.placeholder(shape=None, dtype=tf.float32,name='X')\n",
    "y_target = tf.placeholder(shape=None, dtype=tf.float32,name='Y')\n",
    "\n",
    "tf.random.set_random_seed(19)\n",
    "A = tf.Variable(tf.random_normal(shape=[6,1]),name=\"A\")\n",
    "b = tf.Variable(tf.random_normal(shape=[1,1]),name=\"b\")\n",
    "\n",
    "with tf.name_scope(\"model_output\") as scope:\n",
    "    model_output = tf.subtract(tf.matmul(x_data, A), b,name=\"model_o\")\n",
    "\n",
    "with tf.name_scope(\"loss\") as scope:    \n",
    "    l2_norm = tf.reduce_sum(tf.square(A),name=\"norm\")\n",
    "    alpha = tf.constant([0.1],name=\"alpha\")\n",
    "    classification_term = tf.reduce_mean(tf.maximum(0., tf.subtract(1.,tf.multiply(model_output, y_target))),name=\"classification\")\n",
    "    loss = tf.add(classification_term, tf.multiply(alpha, l2_norm),name=\"loss_function\")\n",
    "\n",
    "with tf.name_scope(\"prediction\") as scope:\n",
    "    prediction = tf.sign(model_output)\n",
    "\n",
    "with tf.name_scope(\"optimizer\") as scope:\n",
    "    optimizer = tf.train.GradientDescentOptimizer(0.09).minimize(loss)\n",
    "init = tf.global_variables_initializer()"
   ]
  },
  {
   "cell_type": "code",
   "execution_count": 307,
   "metadata": {},
   "outputs": [
    {
     "data": {
      "image/png": "[encoded data removed]",
      "text/plain": [
       "<IPython.core.display.Image object>"
      ]
     },
     "execution_count": 307,
     "metadata": {},
     "output_type": "execute_result"
    }
   ],
   "source": [
    "from IPython.display import Image\n",
    "Image('main_graph.png')"
   ]
  },
  {
   "cell_type": "code",
   "execution_count": 306,
   "metadata": {},
   "outputs": [],
   "source": [
    "loss_vec = []\n",
    "prediction_train = []\n",
    "prediction_test = []\n",
    "with tf.Session() as sess:\n",
    "    sess.run(init)\n",
    "    writer = tf.summary.FileWriter('./logs', sess.graph)\n",
    "    for i in range(5000):\n",
    "        rand_index = np.random.choice(len(x_train), size=batch_size)\n",
    "        X = x_train[rand_index]\n",
    "        Y = np.transpose([y_train[rand_index]])\n",
    "        sess.run(optimizer, feed_dict={x_data: X, y_target: Y})\n",
    "        temp_loss = sess.run(loss, feed_dict={x_data: X, y_target: Y})\n",
    "        loss_vec.append(temp_loss)\n",
    "    prediction_train = sess.run(prediction,feed_dict={x_data:x_train,y_target: y_train})\n",
    "    prediction_test = sess.run(prediction,feed_dict={x_data:x_test,y_target: y_test})\n",
    "    "
   ]
  },
  {
   "cell_type": "code",
   "execution_count": 294,
   "metadata": {},
   "outputs": [
    {
     "name": "stdout",
     "output_type": "stream",
     "text": [
      "accuracy train\n"
     ]
    },
    {
     "data": {
      "text/plain": [
       "0.7820738137082601"
      ]
     },
     "execution_count": 294,
     "metadata": {},
     "output_type": "execute_result"
    }
   ],
   "source": [
    "##Accuracy \n",
    "print(\"accuracy train\")\n",
    "y_acc_train = [1 if y==-1 else 0 for y in prediction_train]\n",
    "metrics.accuracy_score(Y_train,y_acc_train)"
   ]
  },
  {
   "cell_type": "code",
   "execution_count": 295,
   "metadata": {},
   "outputs": [
    {
     "name": "stdout",
     "output_type": "stream",
     "text": [
      "accuracy test\n"
     ]
    },
    {
     "data": {
      "text/plain": [
       "0.7972027972027972"
      ]
     },
     "execution_count": 295,
     "metadata": {},
     "output_type": "execute_result"
    }
   ],
   "source": [
    "#Accuracy test\n",
    "print(\"accuracy test\")\n",
    "y_acc_test = [1 if y==-1 else 0 for y in prediction_test]\n",
    "metrics.accuracy_score(Y_valid,y_acc_test)"
   ]
  }
 ],
 "metadata": {
  "kernelspec": {
   "display_name": "Python 3",
   "language": "python",
   "name": "python3"
  },
  "language_info": {
   "codemirror_mode": {
    "name": "ipython",
    "version": 3
   },
   "file_extension": ".py",
   "mimetype": "text/x-python",
   "name": "python",
   "nbconvert_exporter": "python",
   "pygments_lexer": "ipython3",
   "version": "3.7.3"
  }
 },
 "nbformat": 4,
 "nbformat_minor": 2
}
