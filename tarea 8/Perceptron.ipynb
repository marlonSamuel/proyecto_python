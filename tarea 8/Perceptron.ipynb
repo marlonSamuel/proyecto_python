{
 "cells": [
  {
   "cell_type": "code",
   "execution_count": 808,
   "metadata": {},
   "outputs": [],
   "source": [
    "import numpy as np\n",
    "import matplotlib.pyplot as plt\n",
    "import random"
   ]
  },
  {
   "cell_type": "code",
   "execution_count": 929,
   "metadata": {},
   "outputs": [],
   "source": [
    "class Perceptron(object):\n",
    "    def __init__(self, n, lr=0.1, epochs=100):\n",
    "        #agregar sesgo\n",
    "        self.W = np.random.rand(n+1)\n",
    "        self.epochs = epochs\n",
    "        self.lr = lr\n",
    "    \n",
    "    def activation_fn(self, x):\n",
    "        return 1 if x >= 0 else 0\n",
    " \n",
    "    def predict(self, x):\n",
    "        z = self.W.dot(x)\n",
    "        a = self.activation_fn(z)\n",
    "        return a\n",
    " \n",
    "    def fit(self, X, y):\n",
    "        for _ in range(self.epochs):\n",
    "            for i in range(y.shape[0]):\n",
    "                y_ = self.predict(X[i])\n",
    "                e = y[i] - y_\n",
    "                self.W = self.W + self.lr * e * X[i]"
   ]
  },
  {
   "cell_type": "code",
   "execution_count": 952,
   "metadata": {},
   "outputs": [],
   "source": [
    "def plot(X,Y,W,title):\n",
    "    plt.title(title)\n",
    "    plt.xlim([-1,2])\n",
    "    plt.ylim([-0.5,1.5])\n",
    "    x = np.arange(-2,3,0.1)\n",
    "    y = ((-1 * W[1] / W[0]) * x) + (-1 * W[2] / W[0])\n",
    "    plt.scatter(X[:,0],X[:,1],c=Y,cmap=\"prism\")\n",
    "    plt.plot(x, y)\n",
    "    plt.show()"
   ]
  },
  {
   "cell_type": "code",
   "execution_count": 954,
   "metadata": {},
   "outputs": [
    {
     "name": "stdout",
     "output_type": "stream",
     "text": [
      "parametros and [ 0.12682559  0.20751522 -0.26304551]\n"
     ]
    },
    {
     "data": {
      "image/png": "[encoded data removed]",
      "text/plain": [
       "<Figure size 432x288 with 1 Axes>"
      ]
     },
     "metadata": {},
     "output_type": "display_data"
    },
    {
     "name": "stdout",
     "output_type": "stream",
     "text": [
      "parametros or [ 0.65676488  0.98890192 -0.03568828]\n"
     ]
    },
    {
     "data": {
      "image/png": "[encoded data removed]",
      "text/plain": [
       "<Figure size 432x288 with 1 Axes>"
      ]
     },
     "metadata": {},
     "output_type": "display_data"
    },
    {
     "name": "stdout",
     "output_type": "stream",
     "text": [
      "parametros not [ 0.20856898 -0.31523723]\n"
     ]
    }
   ],
   "source": [
    "#entrenar perceptron para and\n",
    "#agregar x con bias\n",
    "X = np.array([[1,1,1],[1,0,1],[0,1,1],[0,0,1]])\n",
    "\n",
    "and_y = np.array([[1],[0],[0],[0]])\n",
    "or_y = np.array([[1],[1],[1],[0]])\n",
    "\n",
    "perceptron_and = Perceptron(n=2)\n",
    "perceptron_and.fit(X, and_y)\n",
    "\n",
    "#or\n",
    "perceptron_or = Perceptron(n=2)\n",
    "perceptron_or.fit(X, or_y)\n",
    "\n",
    "#not\n",
    "perceptron_not = Perceptron(n=1)\n",
    "perceptron_not.fit(np.array([[1,1],[1,0]]), np.array([[0],[1]]))\n",
    "\n",
    "print(\"parametros and\",perceptron_and.W)\n",
    "plot(X,and_y,perceptron_and.W, \"AND\")\n",
    "print(\"parametros or\",perceptron_or.W)\n",
    "plot(X,or_y,perceptron_or.W, \"OR\")\n",
    "print(\"parametros not\",perceptron_not.W)"
   ]
  },
  {
   "cell_type": "code",
   "execution_count": 955,
   "metadata": {},
   "outputs": [],
   "source": [
    "def _not(x1):\n",
    "    parametros = [-1 , 1 ]\n",
    "    #agregar bias\n",
    "    return perceptron_not.predict([1,x1])\n",
    "    #return  int(x1*parametros[0]  +  parametros[1]>0)"
   ]
  },
  {
   "cell_type": "code",
   "execution_count": 956,
   "metadata": {},
   "outputs": [],
   "source": [
    "def _or(x1,x2):\n",
    "    parametros = [1,0]\n",
    "    #agregar bias\n",
    "    return perceptron_or.predict([x1,x2,1])\n",
    "    #return  int(x1*parametros[0]  + x2*parametros[1] + parametros[2] > 0)"
   ]
  },
  {
   "cell_type": "code",
   "execution_count": 957,
   "metadata": {},
   "outputs": [],
   "source": [
    "def _and(x1,x2):\n",
    "    parametros = [1,-1,1]\n",
    "    #agregar bias\n",
    "    return perceptron_and.predict([x1,x2,1])\n",
    "    #return  int(x1*parametros[0]  + x2*parametros[1] + parametros[2] > 0)"
   ]
  },
  {
   "cell_type": "code",
   "execution_count": 958,
   "metadata": {},
   "outputs": [],
   "source": [
    "def _xor(x1,x2):\n",
    "    #temp1 = _and(x1,x2)\n",
    "    #temp2 = _or(x1,x2)\n",
    "    #nand_temp = _not(temp1)\n",
    "    #temp_3 = _and(nand_temp,temp2)\n",
    "    xor = _and(_not(_and(x1,x2)),_or(x1,x2))\n",
    "\n",
    "    return xor"
   ]
  },
  {
   "cell_type": "code",
   "execution_count": 966,
   "metadata": {},
   "outputs": [
    {
     "data": {
      "text/plain": [
       "1"
      ]
     },
     "execution_count": 966,
     "metadata": {},
     "output_type": "execute_result"
    }
   ],
   "source": [
    "x0 = 0\n",
    "x1 = 1\n",
    "_xor(x0,x1)"
   ]
  }
 ],
 "metadata": {
  "kernelspec": {
   "display_name": "Python 3",
   "language": "python",
   "name": "python3"
  },
  "language_info": {
   "codemirror_mode": {
    "name": "ipython",
    "version": 3
   },
   "file_extension": ".py",
   "mimetype": "text/x-python",
   "name": "python",
   "nbconvert_exporter": "python",
   "pygments_lexer": "ipython3",
   "version": "3.7.3"
  }
 },
 "nbformat": 4,
 "nbformat_minor": 2
}
