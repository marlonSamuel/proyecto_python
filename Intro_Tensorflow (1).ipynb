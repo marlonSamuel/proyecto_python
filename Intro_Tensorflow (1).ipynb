{
 "cells": [
  {
   "cell_type": "markdown",
   "metadata": {
    "colab_type": "text",
    "id": "p-hcq-T1x8aH"
   },
   "source": [
    "Material basado en el curo \"Advanced Deep Learning and Reinforcement Learning\" de UCL:\n",
    "\n",
    "\n",
    "\n",
    "*   https://youtu.be/JO0LwmIlWw0\n",
    "*   https://github.com/enggen/DeepMind-Advanced-Deep-Learning-and-Reinforcement-Learning/blob/master/lecture%20slides/dl_02%20Introduction%20to%20TensorFlow.pdf\n",
    "\n"
   ]
  },
  {
   "cell_type": "code",
   "execution_count": 1,
   "metadata": {
    "colab": {
     "base_uri": "https://localhost:8080/",
     "height": 34
    },
    "colab_type": "code",
    "id": "CIbj9Pvr6cdv",
    "outputId": "6a045fe2-fdab-4ade-a8a5-5445df459c1b"
   },
   "outputs": [
    {
     "name": "stdout",
     "output_type": "stream",
     "text": [
      "2.2.0\n"
     ]
    }
   ],
   "source": [
    "import tensorflow as tf\n",
    "import numpy as np \n",
    "import matplotlib.pyplot as plt\n",
    "\n",
    "print(tf.__version__)"
   ]
  },
  {
   "cell_type": "code",
   "execution_count": 2,
   "metadata": {
    "colab": {
     "base_uri": "https://localhost:8080/",
     "height": 105
    },
    "colab_type": "code",
    "id": "ypLUBsCMFxjM",
    "outputId": "fe896905-5e8b-4f59-ff05-628c750e40ac"
   },
   "outputs": [
    {
     "name": "stdout",
     "output_type": "stream",
     "text": [
      "WARNING:tensorflow:From C:\\Users\\senpai\\AppData\\Roaming\\Python\\Python37\\site-packages\\tensorflow\\python\\compat\\v2_compat.py:96: disable_resource_variables (from tensorflow.python.ops.variable_scope) is deprecated and will be removed in a future version.\n",
      "Instructions for updating:\n",
      "non-resource variables are not supported in the long term\n",
      "Enabled compatitility to tf1.x\n"
     ]
    }
   ],
   "source": [
    "if tf.__version__.startswith(\"2.\"):\n",
    "  import tensorflow.compat.v1 as tf\n",
    "  tf.compat.v1.disable_v2_behavior()\n",
    "  tf.compat.v1.disable_eager_execution()\n",
    "  print(\"Enabled compatitility to tf1.x\")"
   ]
  },
  {
   "cell_type": "markdown",
   "metadata": {
    "colab_type": "text",
    "id": "8Jjz01Amjm4M"
   },
   "source": [
    "## TensorFlow : La idea base\n",
    "\n",
    "TensorFlow esta compuesto principalmente de 2 partes :\n",
    "\n",
    "*   **Librería para definir grafos de computo** : la API de TensorFlow \n",
    "*   **Motor de ejecución** : ejecutar los grafos mencionados en gran variedad de hardware.\n",
    "\n",
    "Entre muchas de sus ventajas podemos mencionar algunas importantes:\n",
    "\n",
    "\n",
    "\n",
    "*   Rica librería de operaciones y funciones comunes en data science ,especialmente en machine learning.\n",
    "*   **Autograd/autodiff**(https://en.wikipedia.org/wiki/Automatic_differentiation): conjunto de técnicas para evaluar numéricamente (contrario a analíticamente o simbólicamente) derivadas de funciones definidas en un programa de computadora. Esto nos ayuda a calcular diversos objetos de cálculo difrencial:\n",
    "\n",
    "  * Derivadas\n",
    "  * Gradientes (Vector)\n",
    "  * Jacobianos (Matriz)\n",
    "  * Objetos de orden superior (segundas derivadas, matriz Hessiana)\n",
    "\n",
    "\n",
    "\n"
   ]
  },
  {
   "cell_type": "markdown",
   "metadata": {
    "colab_type": "text",
    "id": "BZz1oMalkX-Z"
   },
   "source": [
    "## Grafos de Computo\n",
    "\n",
    "Abstracción basada en teoría de grafos que nos permite describir computos como un grafo dirigido. https://es.wikipedia.org/wiki/Grafo_dirigido\n",
    "\n",
    "<img src=\"https://upload.wikimedia.org/wikipedia/commons/0/08/Directed_acyclic_graph.png\">\n",
    "\n",
    "###### Fuente: Wikipedia\n",
    "\n",
    "En el caso de TensorFlow:\n",
    "\n",
    "\n",
    "\n",
    "*   Las **arístas** corresponden a datos numéricos en arreglos multidimensionales (**Tensores**) \n",
    "*   Los **nodos**(o vértices) son operaciones sobre los tensores :  crear o manipular tensores de acuerdo a reglas específicas (**Operaciones**)\n",
    "\n",
    "\n",
    "<img src=\"https://upload.wikimedia.org/wikipedia/commons/e/eb/Ejemplos_de_aristas.png\">\n",
    "\n",
    "###### Fuente: Wikipedia"
   ]
  },
  {
   "cell_type": "markdown",
   "metadata": {
    "colab_type": "text",
    "id": "E35tiJluq-5N"
   },
   "source": [
    "## Programas como Grafos de Computo\n",
    "\n",
    "Comparemos un programa de computo \"estandar\" contra un grafo de computo:\n",
    "\n",
    "### Programa Estandar\n",
    "Un programa \"estandar\" está conformado por 2( entre otras) cosas:\n",
    "\n",
    "\n",
    "\n",
    "*   Colección de operaciones primitivas\n",
    "*   Un **orden** en las cuales deseamos que se ejecuten estas operaciones.\n",
    "\n"
   ]
  },
  {
   "cell_type": "code",
   "execution_count": 3,
   "metadata": {
    "colab": {
     "base_uri": "https://localhost:8080/",
     "height": 34
    },
    "colab_type": "code",
    "id": "3fRwYho7rBKg",
    "outputId": "4e4eafcc-ba76-4a73-c650-cd8662671606"
   },
   "outputs": [
    {
     "name": "stdout",
     "output_type": "stream",
     "text": [
      "6.666666666666667\n"
     ]
    }
   ],
   "source": [
    "a = 10\n",
    "b = 20\n",
    "tmp1 =  a * b\n",
    "tmp2 = a + b\n",
    "res = tmp1 / tmp2\n",
    "print(res)"
   ]
  },
  {
   "cell_type": "markdown",
   "metadata": {
    "colab_type": "text",
    "id": "psYjGoxZ18UP"
   },
   "source": [
    "\n",
    "\n",
    "\n",
    "\n",
    "\n",
    "\n",
    "\n",
    "### Grafo de Computo\n",
    "\n",
    "Comparte similitud con el programa estandar pero tiene una diferencia importante:\n",
    "\n",
    "* También basado en una colección de operaciones primitivas.\n",
    "* En lugar de especificar el orden de ejecución, específicamos exclusivamente las **dependencias** entre estas operaciones.\n",
    "\n",
    "Especifíca como la salidas de las operaciones fluyen de una a otra. Si los datos son tensores tenemos **Tensores fluyendo**(TensorFlow)\n",
    "\n",
    "\n",
    "<img src=\"https://drive.google.com/uc?id=1WA95O9XYXVrkWGKb_e8ECsvsnR4SG9qK\">\n",
    "\n",
    "###### Fuente: Wikipedia"
   ]
  },
  {
   "cell_type": "markdown",
   "metadata": {
    "colab_type": "text",
    "id": "3HcutYot4pUW"
   },
   "source": [
    "### Calendarización/ejecución Basada en Dependencias\n",
    "\n",
    "\n",
    "* Permite aprovechar el paralelismo del hardware a través de ejecutar en paralelo\n",
    "operaciones que no dependen entre sí y así obtener un mejor performance.  \n",
    "* El programador no se debe preocupar por los detalles internos del hardware\n",
    "\n",
    "\n",
    "\n",
    "<img src=\"https://drive.google.com/uc?id=1Otuuiro9gi_q_cQS_a8F6cqaJcUJhWf4\">\n",
    "\n",
    "###### Fuente: Wikipedia"
   ]
  },
  {
   "cell_type": "code",
   "execution_count": 4,
   "metadata": {
    "colab": {
     "base_uri": "https://localhost:8080/",
     "height": 34
    },
    "colab_type": "code",
    "id": "ZoAJmG0S9UyH",
    "outputId": "06c8ad48-1edf-4f7a-e0d2-08690ecb7f75"
   },
   "outputs": [
    {
     "name": "stdout",
     "output_type": "stream",
     "text": [
      "6.666666666666667\n"
     ]
    }
   ],
   "source": [
    "a = 10\n",
    "b = 20\n",
    "tmp1 =  a * b\n",
    "tmp2 = a + b\n",
    "res = tmp1 / tmp2\n",
    "print(res)"
   ]
  },
  {
   "cell_type": "code",
   "execution_count": 5,
   "metadata": {
    "colab": {
     "base_uri": "https://localhost:8080/",
     "height": 34
    },
    "colab_type": "code",
    "id": "sI_XNMYQr5e2",
    "outputId": "52d3f910-4013-40f0-80cf-d32df5f2ec5f"
   },
   "outputs": [
    {
     "data": {
      "text/plain": [
       "<tf.Operation 'PrintV2' type=PrintV2>"
      ]
     },
     "execution_count": 5,
     "metadata": {},
     "output_type": "execute_result"
    }
   ],
   "source": [
    "# Equivalente del programa anterior en TensorFlow\n",
    "\n",
    "a = tf.constant(10) #operación en el grafo que \"genera\" un tensor\n",
    "b = tf.constant(20) #operación en el grafo que \"genera\" un tensor\n",
    "\n",
    "t1 = tf.multiply(a,b) # operación en el grafo que multiplica elemento a elemento\n",
    "t2 = tf.add(a,b) # operación en el grafo que suma elemento a elemento\n",
    "res = tf.divide(t1,t2) # operación en el grafo que divide elemento a elemento\n",
    "\n",
    "tf.print(res) # operación en el grafo que imprime el valor de un tensor"
   ]
  },
  {
   "cell_type": "markdown",
   "metadata": {
    "colab_type": "text",
    "id": "PmHV8FtT70WR"
   },
   "source": [
    "Que pasa si no usamos tf.print  y usamos el print normal ?"
   ]
  },
  {
   "cell_type": "code",
   "execution_count": 6,
   "metadata": {
    "colab": {
     "base_uri": "https://localhost:8080/",
     "height": 34
    },
    "colab_type": "code",
    "id": "xK6L8bT36wWB",
    "outputId": "603091f3-851f-493f-bd19-572b59339ccc"
   },
   "outputs": [
    {
     "name": "stdout",
     "output_type": "stream",
     "text": [
      "Tensor(\"truediv:0\", shape=(), dtype=float64)\n"
     ]
    }
   ],
   "source": [
    "print(res)"
   ]
  },
  {
   "cell_type": "markdown",
   "metadata": {
    "colab_type": "text",
    "id": "oFS2kNW8-BS0"
   },
   "source": [
    "Puede parecer extraño que no se obtuvo el valor (6.666)  ni con tf.print  ni con el print de Python. Esto se debe a que en Tensorflow hay 2 etapas:\n",
    "\n",
    "\n",
    "\n",
    "*   **Definición del grafo**\n",
    "*   **Ejecución del grafo.**\n",
    "\n",
    "Las sentencias especificadas solo definen el grafo pero no se ha ejecutado, por lo tanto ningún calculo ha sido realizado.\n",
    "\n",
    "\n",
    "\n",
    "*   la variable \"res\" contiene una referencia a un tensor en el grafo\n",
    "*   La operación tf.print(res) solo agregó al grafo una operación de print pero NO SE HA EJECUTADO.\n",
    "*   El hacer print(res) imprime la referencia al tensor en el grafo.\n",
    "\n",
    "\n",
    "\n",
    "\n",
    "\n"
   ]
  },
  {
   "cell_type": "markdown",
   "metadata": {
    "colab_type": "text",
    "id": "MqC6_7HV_mV5"
   },
   "source": [
    "### Terminología de TensorFlow\n",
    "\n",
    "Los 2 objetos base de teoría de grafos en TensorFlow son llamados:\n",
    "\n",
    "\n",
    "\n",
    "*   **Ops** : las operaciones sobre los datos ( nodos o vértices de teoría de grafos)\n",
    "<img src=\"https://drive.google.com/uc?id=1L0G67TtTMV1nSJfwgBO3kXPSpCOMpIZd\">\n",
    "\n",
    "  ###### Fuente: Deepmind y UCL\n",
    "\n",
    "\n",
    "*   **Tensor** : los datos que fluyen entre las operaciones (arístas en teoría de grafos)\n",
    "<img src=\"https://drive.google.com/uc?id=1mE6iBgbcEozuCOYqfgb7RvbLVf4iG2PL\">\n",
    "\n",
    "  ###### Fuente: Deepmind y UCL\n",
    "\n"
   ]
  },
  {
   "cell_type": "markdown",
   "metadata": {
    "colab_type": "text",
    "id": "I6bNveJPBmL4"
   },
   "source": [
    "### Definición vs Ejecución\n",
    "\n",
    "Como se mencionó , un programa de tensorflow esta compuesto de 2 partes:\n",
    "\n",
    "\n",
    "\n",
    "1.   **Definición** del grafo de computo\n",
    "2.   **Ejecución** del grafo de computo(o un subconjunto del mismo).\n",
    "\n",
    "Cuando definimos el grafo hacemos uso de las funciones de la **librería** de TensorFlow para especificar los computos como un objeto **tf.Graph**.\n",
    "\n",
    "En tiempo de ejecución hacemos uso del **runtime**  de TensorFlow para ejecutar (un subconjunto) de de los computos a través de un objeto **tf.Session**\n",
    "\n"
   ]
  },
  {
   "cell_type": "markdown",
   "metadata": {
    "colab_type": "text",
    "id": "O2zubWjtEn-s"
   },
   "source": [
    "### tf.Graph\n",
    "\n",
    "\n",
    "\n",
    "*   Describe computos a través de **Ops** y **Tensores**\n",
    "*   El concepto de **Tensor** es el mismo visto previamente con NumPy (con algunas diferencias en programación).\n",
    "  *   Los tensores pueden tener una forma (shape) y un tipo de dato, pero no tienen valores reales.\n",
    "  *   Aveces la forma(shape) del tensor puede derivarse del grafo (**inferencia de grafo**)\n",
    "\n",
    "\n",
    "\n"
   ]
  },
  {
   "cell_type": "code",
   "execution_count": 7,
   "metadata": {
    "colab": {},
    "colab_type": "code",
    "id": "Z3r12euF7x3n"
   },
   "outputs": [],
   "source": [
    "a = tf.zeros((int(1e12),int(1e12))) # operación permitida , solo se define la operación pero no se ejecuta,NO RESERVA MEMORIA\n",
    "#a = np.zeros((int(1e12),int(1e12))) # operación erronea (out of memory error)"
   ]
  },
  {
   "cell_type": "markdown",
   "metadata": {
    "colab_type": "text",
    "id": "qH91w_E1fS5y"
   },
   "source": [
    "Ejecución perezoza : lazy evaluation"
   ]
  },
  {
   "cell_type": "markdown",
   "metadata": {
    "colab_type": "text",
    "id": "vfQvN4vmIGVo"
   },
   "source": [
    "* Los tensores pueden tener una forma (shape) y un tipo de dato, pero no tienen valores reales.\n",
    " \n",
    "*   Aveces la forma(shape) del tensor puede derivarse del grafo (inferencia de forma)\n"
   ]
  },
  {
   "cell_type": "code",
   "execution_count": 8,
   "metadata": {
    "colab": {
     "base_uri": "https://localhost:8080/",
     "height": 51
    },
    "colab_type": "code",
    "id": "q8gijOHFFm_t",
    "outputId": "8144c203-6185-44b4-a59a-ea6cd2d5c323"
   },
   "outputs": [
    {
     "name": "stdout",
     "output_type": "stream",
     "text": [
      "Tensor(\"zeros_1:0\", shape=(10, 10), dtype=float32)\n",
      "Tensor(\"concat:0\", shape=(20, 10), dtype=float32)\n"
     ]
    }
   ],
   "source": [
    "a = tf.zeros((10,10))\n",
    "b = tf.concat([a,a],axis = 0)\n",
    "\n",
    "print(a)\n",
    "print(b)"
   ]
  },
  {
   "cell_type": "markdown",
   "metadata": {
    "colab_type": "text",
    "id": "yt30-EXiI-vO"
   },
   "source": [
    "### tf.Session\n",
    "\n",
    "Componente de TensorFlow encargado de llevar a cabo(y calendarizar) los computos posiblemente en múltiples piezas de hardware. \n",
    "\n",
    "*   Lleva a cabo los computos\n",
    "*   **session.run(tensor)** ejecuta el grafo y retorna el valor del **tensor**\n",
    "*   **session.run([t1,t2,...])** ejecuta el grafo y devuelve el valor de todos los **tensores en la lista **\n",
    "\n"
   ]
  },
  {
   "cell_type": "code",
   "execution_count": 9,
   "metadata": {
    "colab": {
     "base_uri": "https://localhost:8080/",
     "height": 34
    },
    "colab_type": "code",
    "id": "DoIh3p9dGkrb",
    "outputId": "57abd313-33b9-4ba3-d438-44aafae48969"
   },
   "outputs": [
    {
     "name": "stdout",
     "output_type": "stream",
     "text": [
      "6.0\n"
     ]
    }
   ],
   "source": [
    "# definir el grafo\n",
    "a = tf.constant(1.0)\n",
    "b = tf.constant(1.0)\n",
    "c = tf.constant(4.0)\n",
    "d = tf.add(tf.add(a,b),c)\n",
    "\n",
    "# executar el grafo\n",
    "with tf.Session() as session:\n",
    "  print(session.run(d)) "
   ]
  },
  {
   "cell_type": "code",
   "execution_count": 10,
   "metadata": {
    "colab": {
     "base_uri": "https://localhost:8080/",
     "height": 85
    },
    "colab_type": "code",
    "id": "r4Bn8hL6JwEW",
    "outputId": "56b0e138-11bc-4b01-d519-21d2ab0fb0ae"
   },
   "outputs": [
    {
     "name": "stdout",
     "output_type": "stream",
     "text": [
      "WARNING:tensorflow:From <ipython-input-10-69c7809f0675>:5: div (from tensorflow.python.ops.math_ops) is deprecated and will be removed in a future version.\n",
      "Instructions for updating:\n",
      "Deprecated in favor of operator or tf.math.divide.\n",
      "[0.5, 4.0]\n"
     ]
    }
   ],
   "source": [
    "# definir el grafo\n",
    "a = tf.constant(1.0)\n",
    "b = tf.constant(1.0)\n",
    "c = tf.constant(4.0)\n",
    "d = tf.div(tf.add(a,b),c)\n",
    "\n",
    "# executar el grafo\n",
    "with tf.Session() as session:\n",
    "  print(session.run([d,c])) "
   ]
  },
  {
   "cell_type": "markdown",
   "metadata": {
    "colab_type": "text",
    "id": "EjM48LvKL5fO"
   },
   "source": [
    "### Modelo de ejecución\n",
    "\n",
    "Cuando se ejecuta **session.run**, TensorFlow identifica el **mínimo conjunto de nodos**(teoría de grafos) que debe ser ejecutado para lograr realizar los computos del tensor solicutado. Esto a través de las dependencias entre nodos.\n",
    "\n",
    "\n",
    "\n",
    "*   TensorFlow esta \"enterado\" de todas las dependencias , y adicionalmente el programador puede agregar dependencias a través de **Ops** especiales.\n",
    "*   TensorFlow puede programar la ejecución de **Ops** que no dependen entre sí en paralelo a través del hardware disponible : **cores,dispositivos** y **máquinas**\n",
    "\n",
    "\n"
   ]
  },
  {
   "cell_type": "markdown",
   "metadata": {
    "colab_type": "text",
    "id": "pchCvKTRN8sH"
   },
   "source": [
    "### Lenguajes de Programación\n",
    "\n",
    "Tensorflow tiene soporte para múltiples lenguajes de programación:\n",
    "\n",
    "\n",
    "\n",
    "*   Python : el lenguaje principal (y el usado en este curso)\n",
    "*   C++ : La mayoría del backend de tensorflow esta escrito en C++ y puede ser usado directamente\n",
    "*   Go, Java : En etapa experimental\n",
    "*   Haskell, Rust : Mayormente soportado por la comunidad open-source.\n",
    "\n",
    "Sea cual sea el lenguaje usado, la mayoría de los computos se realizan  en el \n",
    "altamente optimo backend de Tensorflow en C++ (El lenguaje usado solo funciona como una interfaz hacia C++).\n",
    "\n"
   ]
  },
  {
   "cell_type": "markdown",
   "metadata": {
    "colab_type": "text",
    "id": "x4qZiTbyPYmD"
   },
   "source": [
    "### Variables (tf.Variable) https://www.tensorflow.org/api_docs/python/tf/Variable\n",
    "\n",
    "Las **Variables** permiten el **aprendizaje** a través de preservar el estado a través de distintas ejecuciones del grafo.\n",
    "\n",
    "\n",
    "\n",
    "*   Todos los parámetros entrenables(por ejemplo m,b en regresión lineal) de los modelos de machine learning son objetos **tf.Variable**\n",
    "*   El autograd de tensorflow permite derivar funciones respecto de las tf.Variable (por ejemplo tf.plaholders no pueden user usados para esto)\n",
    "*   Una variable está definida por su **nombre,tipo,forma** y un proceso de **inicialización**\n",
    "\n",
    "\n"
   ]
  },
  {
   "cell_type": "markdown",
   "metadata": {
    "colab_type": "text",
    "id": "zXbffytETQZa"
   },
   "source": [
    "Por ejemplo, una variable llamada \"nombre\" , conteniendo una matriz de 2x1 obtenida de una distribución normal con media=0, y desviación estandar = 0.5"
   ]
  },
  {
   "cell_type": "code",
   "execution_count": 11,
   "metadata": {
    "colab": {
     "base_uri": "https://localhost:8080/",
     "height": 34
    },
    "colab_type": "code",
    "id": "v3vWby8sPX5K",
    "outputId": "1ae9a0ef-b12f-4bd4-92d6-bff5b1dccd58"
   },
   "outputs": [
    {
     "name": "stdout",
     "output_type": "stream",
     "text": [
      "<tf.Variable 'nombre:0' shape=(2, 1) dtype=float32_ref>\n"
     ]
    }
   ],
   "source": [
    "v = tf.get_variable(name=\"nombre\",dtype=tf.float32,shape=[2,1],\n",
    "                    initializer=tf.random_normal_initializer(mean=0.0,stddev=0.5))\n",
    "\n",
    "print(v)"
   ]
  },
  {
   "cell_type": "markdown",
   "metadata": {
    "colab_type": "text",
    "id": "4nR6CKliRVH0"
   },
   "source": [
    "#### Variables - Uso\n",
    "\n",
    "**Lectura** las Variables pueden ser **leídas** como cualquier otro tensor en el grafo computacional."
   ]
  },
  {
   "cell_type": "code",
   "execution_count": 12,
   "metadata": {
    "colab": {
     "base_uri": "https://localhost:8080/"
    },
    "colab_type": "code",
    "id": "shqpp8OyQi1G",
    "outputId": "8e55fabc-734c-449a-8827-8ff431ef3da7"
   },
   "outputs": [
    {
     "name": "stdout",
     "output_type": "stream",
     "text": [
      "Tensor(\"MatMul:0\", shape=(2, 1), dtype=float32)\n"
     ]
    }
   ],
   "source": [
    "datos = tf.constant([[2.0,1.0],\n",
    "                     [5.0,1.0]])\n",
    "y = tf.matmul(datos,v)\n",
    "\n",
    "print(y)"
   ]
  },
  {
   "cell_type": "markdown",
   "metadata": {
    "colab_type": "text",
    "id": "FP-lfF2cSfqd"
   },
   "source": [
    "**Asignación** Es posible asignar nuevos valores a una variable, y estos valores serán preservados a través de las ejecuciones del grafo . Las asignaciones también son **Ops** ,lo cual crea un nodo en el grafo."
   ]
  },
  {
   "cell_type": "code",
   "execution_count": 13,
   "metadata": {
    "colab": {},
    "colab_type": "code",
    "id": "mnaBxXnFSFCi"
   },
   "outputs": [],
   "source": [
    "incrementar_v_op = v.assign(v + 1) # sintáxis 1\n",
    "incrementar_v_op2 = tf.assign(v, v + 1 )  #sintáxis 2\n"
   ]
  },
  {
   "cell_type": "markdown",
   "metadata": {
    "colab_type": "text",
    "id": "1pDqtr0jTqmj"
   },
   "source": [
    "#### Variables-Inicialización\n",
    "\n",
    "\n",
    "\n",
    "*   Al definir una variable, se agrega la operación correspondiente al grafo computacional.\n",
    "*   Pero esta no tiene valores hasta ser ejecutada en una session.\n",
    "*   Toda variable debe ser explicitamente **inicializada** antes de usarla en la sesión.\n"
   ]
  },
  {
   "cell_type": "code",
   "execution_count": 14,
   "metadata": {
    "colab": {},
    "colab_type": "code",
    "id": "CxXIat7cSVKC"
   },
   "outputs": [],
   "source": [
    "w = tf.get_variable(name=\"w\",dtype=tf.float32,shape=[2,1],\n",
    "                    initializer=tf.random_normal_initializer(mean=0.0,stddev=0.5))\n",
    "\n",
    "X = datos = tf.constant([[2.0,1.0],\n",
    "                        [5.0,1.0]])\n",
    "\n",
    "y = tf.matmul(datos,w)"
   ]
  },
  {
   "cell_type": "code",
   "execution_count": 15,
   "metadata": {
    "colab": {
     "base_uri": "https://localhost:8080/"
    },
    "colab_type": "code",
    "id": "bQ8VJqZ7EZFX",
    "outputId": "413fcc23-2195-4fce-ce54-472b0e17dc80"
   },
   "outputs": [
    {
     "name": "stdout",
     "output_type": "stream",
     "text": [
      "INFO:tensorflow:Graph was finalized.\n",
      "INFO:tensorflow:Running local_init_op.\n",
      "INFO:tensorflow:Done running local_init_op.\n",
      "[[1.6472995]\n",
      " [3.3613734]]\n"
     ]
    }
   ],
   "source": [
    "with tf.train.MonitoredSession() as session:\n",
    "  print(session.run(y))"
   ]
  },
  {
   "cell_type": "code",
   "execution_count": 16,
   "metadata": {
    "colab": {
     "base_uri": "https://localhost:8080/"
    },
    "colab_type": "code",
    "id": "Ok7Km5xxUTh_",
    "outputId": "d4e1e5e5-b98d-4b0b-9a9f-5d0c4f0bbc1b"
   },
   "outputs": [
    {
     "name": "stdout",
     "output_type": "stream",
     "text": [
      "Tensor(\"MatMul_1:0\", shape=(2, 1), dtype=float32)\n"
     ]
    }
   ],
   "source": [
    "with tf.Session() as session:\n",
    "  print(y)\n",
    "  #print(session.run(y)) #remover comentario para ver el error obtenido por no inicializarla"
   ]
  },
  {
   "cell_type": "code",
   "execution_count": 17,
   "metadata": {
    "colab": {
     "base_uri": "https://localhost:8080/"
    },
    "colab_type": "code",
    "id": "4ZohiqN8UokO",
    "outputId": "40513862-b6ee-4492-bb3d-47b23e0995a4"
   },
   "outputs": [
    {
     "name": "stdout",
     "output_type": "stream",
     "text": [
      "[[1.6000795]\n",
      " [3.5387757]]\n"
     ]
    }
   ],
   "source": [
    "init = tf.global_variables_initializer() \n",
    "with tf.Session() as session:\n",
    "  session.run(init)\n",
    "  print(session.run(y))"
   ]
  },
  {
   "cell_type": "markdown",
   "metadata": {
    "colab_type": "text",
    "id": "qVGDAJNBVzys"
   },
   "source": [
    "\n",
    "\n",
    "*   En lugar de **inicializar** las variables manualmente al inicio de la sesión, es posible usar **tf.train.MonitoredSession**(https://www.tensorflow.org/api_docs/python/tf/compat/v1/train/MonitoredSession), que se encarga de esto automáticamente.\n",
    "*   Tomar en cuenta que **MonitoredSession** realiza también otras tareas como **finalizar** el grafo(cualquier intento de agregar nodos al grafo luego de creada la MonitoredSession resultará en error.\n",
    "\n"
   ]
  },
  {
   "cell_type": "code",
   "execution_count": 18,
   "metadata": {
    "colab": {
     "base_uri": "https://localhost:8080/"
    },
    "colab_type": "code",
    "id": "_lkM4nGTU3T-",
    "outputId": "300ae33b-e02a-47f2-ffdc-3a7ef0a8e61d"
   },
   "outputs": [
    {
     "name": "stdout",
     "output_type": "stream",
     "text": [
      "INFO:tensorflow:Graph was finalized.\n",
      "INFO:tensorflow:Running local_init_op.\n",
      "INFO:tensorflow:Done running local_init_op.\n",
      "[[1.55466  ]\n",
      " [3.1101995]]\n"
     ]
    }
   ],
   "source": [
    "with tf.train.MonitoredSession() as session:\n",
    "  print(session.run(y))\n",
    "  #y2 = y*2 # resulta en error ya que el grafo fue finalizado y no permite crear nuevos nodos"
   ]
  },
  {
   "cell_type": "markdown",
   "metadata": {
    "colab_type": "text",
    "id": "GhipjVg4WE4u"
   },
   "source": [
    "#### Trabajando con Datos\n",
    "\n",
    "*   Muy comunmente necesitamos una forma de **alimentar datos al grafo**\n",
    "*   Hasta ahora los datos han sido parte de la definición del grafo.\n",
    "  *   Si el dataset es muy pequeño, este puede ser integrado a la definición del grafo, cargando los datos a NumPy y luego definiendo un tf.constant con estos valores.\n",
    "\n"
   ]
  },
  {
   "cell_type": "code",
   "execution_count": 19,
   "metadata": {
    "colab": {},
    "colab_type": "code",
    "id": "4hikUi-LYnaG"
   },
   "outputs": [],
   "source": [
    "datos_numpy = np.zeros((100,10))\n",
    "datos = tf.constant(datos_numpy)"
   ]
  },
  {
   "cell_type": "markdown",
   "metadata": {
    "colab_type": "text",
    "id": "nkr_II-nXWQd"
   },
   "source": [
    "Esta es una práctica **NO RECOMENDADA** mas allá de ejemplos didácticos:\n",
    "\n",
    "\n",
    "\n",
    "*   Riesgo de \"out of memory errors\" incluso para datasets de tamaño moderado.\n",
    "*   Todo el dataset será serializado una vez se decida serializar el grafo. (serializar el grafo es compilarlo o exportarlo para integrarlo en otra aplicación).\n",
    "\n",
    "Por lo tanto: la definición del grafo solo debe contener operaciones, los datos deben ser alimentados en tiempo de ejecución.\n",
    "\n"
   ]
  },
  {
   "cell_type": "markdown",
   "metadata": {
    "colab_type": "text",
    "id": "gU95UeoZYaxE"
   },
   "source": [
    "##### Placeholders y Feeds\n",
    "\n",
    "Usamos **placeholders** y **feed dictionaries** para inyectar datos en el grafo en tiempo de ejecución.\n",
    "\n",
    "\n",
    "\n",
    "*   **Placeholders** : usados en la definición del grafo como tensores ,pero que aún no tienen valores concretos hasta tiempo de ejecución.\n",
    "*   **feed dictionary**:  usados para dar un valor concreto en tiempo de ejecución a los placeholders al ejecutar session.run\n",
    "\n"
   ]
  },
  {
   "cell_type": "code",
   "execution_count": 20,
   "metadata": {
    "colab": {
     "base_uri": "https://localhost:8080/"
    },
    "colab_type": "code",
    "id": "b4ebHxGsYaAg",
    "outputId": "3ad49464-ed75-463a-d8e6-03b066951216"
   },
   "outputs": [
    {
     "name": "stdout",
     "output_type": "stream",
     "text": [
      "4.0\n",
      "5.0\n"
     ]
    }
   ],
   "source": [
    "a = tf.placeholder(tf.float32,[]) #tensor en el grafo son valor concreto hasta crear la sesion\n",
    "b = tf.constant(1.0) # tensor constante para ejemplificar una suma\n",
    "c = a + b # nodo (op) de suma\n",
    "\n",
    "with tf.Session() as session:\n",
    "  feed_dict = {a:3.0} # enviar al placeholder \"a\" el valor 3.0\n",
    "  print(session.run(c , feed_dict=feed_dict)) # ejecutar el nodo c, dandole el valor 3.0 a \"a\"\n",
    "  \n",
    "  feed_dict = {a:4}  # enviar al placeholder \"a\" el valor 4.0\n",
    "  print(session.run(c,feed_dict=feed_dict)) # ejecutar el nodo c, dandole el valor 4.0 a \"a\"\n",
    "\n",
    "  #print(session.run(c)) # si no se envía un valor a los placeholders tendremos error"
   ]
  },
  {
   "cell_type": "markdown",
   "metadata": {
    "colab_type": "text",
    "id": "DCZ8vrYgbUpJ"
   },
   "source": [
    "El uso de placeholders desliga a tensorflow la responsabilidad de manejar y procesar los datos:\n",
    "\n",
    "\n",
    "\n",
    "*   TF espera un diccionario de arrays de NumPy (sin importar como estos son creados)\n",
    "*   El resto es responsabilidad del programador : lectura y carga, pre-procesamiento, batching, etc. puede hacerse con Python y otras herramientas (NumPy, Pandas, etc)\n",
    "*   Esto brinda flexibilidad, pero puede ser trabajoso\n",
    "  *   Por esta razón TF provee funcionalidades para manejar la data (tf.data)\n",
    "\n"
   ]
  },
  {
   "cell_type": "markdown",
   "metadata": {
    "colab_type": "text",
    "id": "bd3W4VpFlFfU"
   },
   "source": [
    "### Autograd-Autodiff (diferenciación automática)\n",
    "\n",
    "Una de las ventajas mas grandes de TensorFlow (y de las mas poderosas)  y que  se obtiene gracias a definir computos como grafos es poder calcular gradientes facilmente:\n",
    "\n",
    "\n",
    "\n",
    "*   Si es posible obtener los gradientes de la salida de cada operación respecto de sus entradas **la regla de la cadena** nos permite obtener los gradientes de cualquier tensor con respecto de cualquier otro.\n",
    "m(i) , dm/di\n",
    "*   El grafo puede ser visto como la definición de una función compuesta\n",
    "    $f(g(x))$\n",
    "*   Este proceso es conocido como **auto-diferenciación en modo reverso** y permite el calculo del gradiente de un nodo en el grafo respecto de los demas en una sola pasada.\n",
    "\n",
    "\n"
   ]
  },
  {
   "cell_type": "markdown",
   "metadata": {
    "colab_type": "text",
    "id": "Ney99CtUokll"
   },
   "source": [
    "<img src=\"https://drive.google.com/uc?id=12QXjmSFGc1OD-i9dOx-o7mV9Pl7x9a7-\">\n",
    "\n",
    "###### Fuente: Deepmind y UCL\n",
    "\n",
    "**Autodiff** primero calcula el valor de cada nodo y luego itera en reversa multiplicando los gradientes de los nodos individuales(regla de la cadena) en el camino, cuando hay unión de caminos los gradientes se suman (derivada total)"
   ]
  },
  {
   "cell_type": "markdown",
   "metadata": {
    "colab_type": "text",
    "id": "KpptkRkZrl2q"
   },
   "source": [
    "#### Gradientes\n",
    "\n",
    "La función de TF **tf.gradients** construye un sub-grafo que implementa la auto-diferenciación en modo reverso, lo hace de modo transparente al usuario."
   ]
  },
  {
   "cell_type": "markdown",
   "metadata": {
    "colab_type": "text",
    "id": "AfTfJs2hlrXH"
   },
   "source": [
    "#### Ejemplo 1\n",
    "\n",
    "Calcular la derivada de $f(x) = x^2$ respecto de $x$ evaluada en $x=4$"
   ]
  },
  {
   "cell_type": "code",
   "execution_count": 21,
   "metadata": {
    "colab": {
     "base_uri": "https://localhost:8080/"
    },
    "colab_type": "code",
    "id": "1jl_QuWQkfvi",
    "outputId": "f525a4ca-c26b-4d12-d8a2-606b78bdc1b6"
   },
   "outputs": [
    {
     "name": "stdout",
     "output_type": "stream",
     "text": [
      "INFO:tensorflow:Graph was finalized.\n",
      "INFO:tensorflow:Running local_init_op.\n",
      "INFO:tensorflow:Done running local_init_op.\n",
      "derivada: [8.0]\n"
     ]
    }
   ],
   "source": [
    "x_eval = 4\n",
    "def f(x):\n",
    "  return tf.math.square(x)\n",
    "\n",
    "x = tf.placeholder(tf.float32,[])\n",
    "y = f(x)\n",
    "\n",
    "derivada = tf.gradients(f(x),[x])\n",
    "\n",
    "with tf.train.MonitoredSession() as session:\n",
    "  feed_dict = {x:x_eval}\n",
    "\n",
    "  valor_y,valor_derivada = session.run([y,derivada],feed_dict)\n",
    "  print(\"derivada:\",valor_derivada)"
   ]
  },
  {
   "cell_type": "code",
   "execution_count": 22,
   "metadata": {
    "colab": {
     "base_uri": "https://localhost:8080/"
    },
    "colab_type": "code",
    "id": "XqQTor9IU5tN",
    "outputId": "9c02d395-4c48-422e-a5c4-ff0799cdcf9a"
   },
   "outputs": [
    {
     "data": {
      "image/png": "[encoded data removed]",
      "text/plain": [
       "<Figure size 432x288 with 1 Axes>"
      ]
     },
     "metadata": {
      "needs_background": "light"
     },
     "output_type": "display_data"
    }
   ],
   "source": [
    "x_plot = np.arange(-10,11)\n",
    "y_plot = np.power(x_plot,2)\n",
    "\n",
    "plt.plot(x_plot,y_plot) # graficar la funcion\n",
    "plt.plot(x_plot+x_eval,x_plot*valor_derivada + valor_y ) #graficar la recta tangente en el punto dado\n",
    "\n",
    "plt.annotate(\"pendiente:{}\".format(valor_derivada),(x_eval,valor_y),(x_eval +2,valor_y-35),\n",
    "             arrowprops=dict(facecolor='black', shrink=0.05))\n",
    "\n",
    "plt.show()"
   ]
  },
  {
   "cell_type": "markdown",
   "metadata": {
    "colab_type": "text",
    "id": "SRGCPO3Qowu-"
   },
   "source": [
    "#### Ejemplo 2 (composición de funciones)\n",
    "\n",
    "Dada la función compuesta $f(g(x))$ donde:\n",
    "\n",
    "$f(g) = 3g^3 + g^2 + 2$\n",
    "\n",
    "y\n",
    "\n",
    "$g(x) = x^2 + 1 $\n",
    "\n",
    "Encontrar la derivada de $f$ respecto de $x$ evaluada en: $x=25$ y $x=6$ "
   ]
  },
  {
   "cell_type": "code",
   "execution_count": 23,
   "metadata": {
    "colab": {
     "base_uri": "https://localhost:8080/"
    },
    "colab_type": "code",
    "id": "N0BTiDK_m7pW",
    "outputId": "060be6fb-8895-4532-d376-10ccd88af257"
   },
   "outputs": [
    {
     "name": "stdout",
     "output_type": "stream",
     "text": [
      "INFO:tensorflow:Graph was finalized.\n",
      "INFO:tensorflow:Running local_init_op.\n",
      "INFO:tensorflow:Done running local_init_op.\n",
      "derivada en 25: [176406800.0]\n",
      "derivada en 6: [148740.0]\n"
     ]
    }
   ],
   "source": [
    "def f(g):\n",
    "  return 3*tf.math.pow(g,3) + tf.math.pow(g,2) + 2\n",
    "\n",
    "def g(x):\n",
    "  return tf.math.square(x) + 1\n",
    "\n",
    "\n",
    "x = tf.placeholder(tf.float32,[])\n",
    "\n",
    "derivada = tf.gradients(f(g(x)),[x])\n",
    "\n",
    "with tf.train.MonitoredSession() as session:\n",
    "  feed_dict = {x:25}\n",
    "  print(\"derivada en 25:\",session.run(derivada,feed_dict))\n",
    "\n",
    "  feed_dict = {x:6}\n",
    "  print(\"derivada en 6:\",session.run(derivada,feed_dict))"
   ]
  },
  {
   "cell_type": "markdown",
   "metadata": {
    "colab_type": "text",
    "id": "hzAbw4Z4qiAz"
   },
   "source": [
    "#### Ejemplo 3 \n",
    "\n",
    "Calcular las derivadas parciales respecto de $a$ y $b$ de la función\n",
    "\n",
    "$e(c(a,b),d(b))$\n",
    "\n",
    "descrita por el siguiente grafo cuando $a=2$ y $b=1$\n",
    "<img src=\"https://drive.google.com/uc?id=12QXjmSFGc1OD-i9dOx-o7mV9Pl7x9a7-\">\n",
    "\n",
    "###### Fuente: Deepmind y UCL"
   ]
  },
  {
   "cell_type": "code",
   "execution_count": 24,
   "metadata": {
    "colab": {
     "base_uri": "https://localhost:8080/",
     "height": 51
    },
    "colab_type": "code",
    "id": "ySU_pofulNty",
    "outputId": "dffc1fa5-d35f-4163-c89d-66ca9072d922"
   },
   "outputs": [
    {
     "name": "stdout",
     "output_type": "stream",
     "text": [
      "Derivadas parciales de 'e' respecto de 'a' y 'b':\n",
      "[2.0, 5.0]\n"
     ]
    }
   ],
   "source": [
    "a = tf.placeholder(tf.float32,[]) #tensor en el grafo sin valor concreto hasta crear la sesion\n",
    "b = tf.placeholder(tf.float32,[]) #tensor en el grafo sin valor concreto hasta crear la sesion\n",
    "c = a + b # nodo (op) de suma\n",
    "d = b + 1\n",
    "e = c*d\n",
    "\n",
    "grads = tf.gradients(e,[a,b])\n",
    "\n",
    "with tf.Session() as session:\n",
    "  feed_dictionary = {a:2.0 ,b:1.0} # enviar al placeholder \"a\" el valor 3.0\n",
    "  print(\"Derivadas parciales de 'e' respecto de 'a' y 'b':\")\n",
    "  print(session.run(grads , feed_dict=feed_dictionary)) # ejecutar el nodo c, dandole el valor 3.0 a \"a\"\n",
    "  \n",
    "  "
   ]
  },
  {
   "cell_type": "markdown",
   "metadata": {
    "colab_type": "text",
    "id": "WvD5kF1nugNI"
   },
   "source": [
    "El mismo ejemplo pero convirtiendo el grafo a composición de funciones:\n",
    "\n",
    "$e(c(a,b),d(b))$"
   ]
  },
  {
   "cell_type": "code",
   "execution_count": 25,
   "metadata": {
    "colab": {
     "base_uri": "https://localhost:8080/",
     "height": 34
    },
    "colab_type": "code",
    "id": "PugnrqH4r5Wb",
    "outputId": "45784e9d-1186-4f67-c6ca-05883b0007c2"
   },
   "outputs": [
    {
     "name": "stdout",
     "output_type": "stream",
     "text": [
      "[[2.0, 5.0], 6.0]\n"
     ]
    }
   ],
   "source": [
    "def e(c,d):\n",
    "  return c*d\n",
    "\n",
    "def c(a,b):\n",
    "  return a + b\n",
    "\n",
    "def d(b):\n",
    "  return b + 1\n",
    "\n",
    "a = tf.placeholder(tf.float32,[]) \n",
    "b = tf.placeholder(tf.float32,[]) \n",
    "\n",
    "resultado = e(c(a,b),d(b))\n",
    "\n",
    "grads = tf.gradients(resultado,[a,b])\n",
    "\n",
    "with tf.Session() as session:\n",
    "  feed_dict = {a:2.0,b:1.0} # enviar al placeholder \"a\" el valor 2.0 y a b el valor de 1.0\n",
    "  print(session.run([grads,resultado] , feed_dict=feed_dict)) "
   ]
  },
  {
   "cell_type": "markdown",
   "metadata": {
    "colab_type": "text",
    "id": "3beZ5me9rBMm"
   },
   "source": [
    "#### Regesión Lineal - Proyecto del curso anterior.\n",
    "\n",
    "El proyecto anterior se pudo haber resuelto con TensorFlow:\n",
    "\n",
    "\n",
    "\n",
    "*   Cambiando np.matmul por tf.matmul\n",
    "*   Definiendo la  función de costo/error con operaciones de tf\n",
    "*   Calculando los gradientes del error respecto de m y b con tf.gradients\n",
    "\n",
    "\n",
    "\n",
    "\n",
    "\n"
   ]
  },
  {
   "cell_type": "code",
   "execution_count": 26,
   "metadata": {
    "colab": {
     "base_uri": "https://localhost:8080/",
     "height": 231
    },
    "colab_type": "code",
    "id": "Z6qPIdPvt9iU",
    "outputId": "7ee99afb-5319-42cc-961b-c8d8f6311eb6"
   },
   "outputs": [
    {
     "data": {
      "image/png": "[encoded data removed]",
      "text/plain": [
       "<Figure size 432x288 with 1 Axes>"
      ]
     },
     "metadata": {
      "needs_background": "light"
     },
     "output_type": "display_data"
    }
   ],
   "source": [
    "# Generando artificialmente un dataset pequeño\n",
    "\n",
    "tamaño_muestra = 20\n",
    "w = 0.5\n",
    "b = 2\n",
    "\n",
    "x = np.arange(tamaño_muestra)\n",
    "y = x*w + b + np.random.normal(loc=0.0,scale=0.5,size=tamaño_muestra)\n",
    "\n",
    "plt.scatter(x,y)\n",
    "plt.show()"
   ]
  },
  {
   "cell_type": "markdown",
   "metadata": {
    "colab_type": "text",
    "id": "kpRV1SSUBJFf"
   },
   "source": [
    "Función de costo MSE\n",
    "\n",
    "$J(g) = (1/2)g^2$\n",
    "\n",
    "$g(h) = h - y$\n",
    "\n",
    "$h(w_1) = w_1x$\n",
    "\n"
   ]
  },
  {
   "cell_type": "markdown",
   "metadata": {
    "colab_type": "text",
    "id": "PKqk36p4vMkF"
   },
   "source": [
    "Por que la función de costo esta multiplicada por 1/2 ?\n",
    "\n",
    "$f(x) = (1/2)x^2$\n",
    "\n",
    "$f'(x) = x$\n"
   ]
  },
  {
   "cell_type": "markdown",
   "metadata": {
    "colab_type": "text",
    "id": "5mo1WO1LfAIV"
   },
   "source": [
    "En la función $f(x,y)$ dado el punto (a,b) y el vector de dirección $\\vec u$\n",
    "\n",
    "> $\\underset{\\vec u}{\\operatorname{max}}\\ \\nabla f(a,b)\\cdot \\vec u $\n",
    "\n",
    "> $\\vec u^* =\\underset{\\vec u}{\\operatorname{argmax}}\\ \\nabla f(a,b) \\cdot \\vec u $\n",
    "\n",
    "De algebra lineal (curso previo) sabemos que el producto punto es máximo cuando los vectores son iguales, por lo tanto la dirección de máximo incremento se tiene cuando:\n",
    "\n",
    "> $\\vec u = \\nabla f(a,b)$\n",
    "\n",
    "El vector gradiente de la función proporciona la dirección de máximo incremento en el punto (a,b)"
   ]
  },
  {
   "cell_type": "code",
   "execution_count": 27,
   "metadata": {
    "colab": {},
    "colab_type": "code",
    "id": "PLM6ei_5F0JQ"
   },
   "outputs": [],
   "source": [
    "def error(y_real,y_aprox):\n",
    "  return 1/2*tf.reduce_mean(tf.math.square(y_real - y_aprox) )"
   ]
  },
  {
   "cell_type": "code",
   "execution_count": 28,
   "metadata": {
    "colab": {
     "base_uri": "https://localhost:8080/",
     "height": 1000
    },
    "colab_type": "code",
    "id": "KTCczqrq-CA6",
    "outputId": "1f50d8f8-5f73-44b6-ae74-3a2f20ffd7ca"
   },
   "outputs": [
    {
     "name": "stdout",
     "output_type": "stream",
     "text": [
      "INFO:tensorflow:Graph was finalized.\n",
      "INFO:tensorflow:Running local_init_op.\n",
      "INFO:tensorflow:Done running local_init_op.\n",
      "Gradiente del error respecto de m y b:\n",
      "[-80.49486, -6.7752523]\n",
      "Gradiente del error respecto de m y b:\n",
      "[-70.48938, -6.0037766]\n",
      "Gradiente del error respecto de m y b:\n",
      "[-61.7269, -5.328123]\n",
      "Gradiente del error respecto de m y b:\n",
      "[-54.05301, -4.7363896]\n",
      "Gradiente del error respecto de m y b:\n",
      "[-47.332466, -4.218149]\n",
      "Gradiente del error respecto de m y b:\n",
      "[-41.446835, -3.764273]\n",
      "Gradiente del error respecto de m y b:\n",
      "[-36.29239, -3.3667636]\n",
      "Gradiente del error respecto de m y b:\n",
      "[-31.778296, -3.018619]\n",
      "Gradiente del error respecto de m y b:\n",
      "[-27.824995, -2.7137065]\n",
      "Gradiente del error respecto de m y b:\n",
      "[-24.362827, -2.4466553]\n",
      "Gradiente del error respecto de m y b:\n",
      "[-21.330772, -2.2127616]\n",
      "Gradiente del error respecto de m y b:\n",
      "[-18.675404, -2.0079067]\n",
      "Gradiente del error respecto de m y b:\n",
      "[-16.349916, -1.8284825]\n",
      "Gradiente del error respecto de m y b:\n",
      "[-14.313333, -1.6713297]\n",
      "Gradiente del error respecto de m y b:\n",
      "[-12.529758, -1.5336819]\n",
      "Gradiente del error respecto de m y b:\n",
      "[-10.967765, -1.4131156]\n",
      "Gradiente del error respecto de m y b:\n",
      "[-9.59982, -1.3075086]\n",
      "Gradiente del error respecto de m y b:\n",
      "[-8.401822, -1.2150029]\n",
      "Gradiente del error respecto de m y b:\n",
      "[-7.352658, -1.1339709]\n",
      "Gradiente del error respecto de m y b:\n",
      "[-6.4338284, -1.0629864]\n",
      "Gradiente del error respecto de m y b:\n",
      "[-5.6291533, -1.000802]\n",
      "Gradiente del error respecto de m y b:\n",
      "[-4.9244385, -0.9463238]\n",
      "Gradiente del error respecto de m y b:\n",
      "[-4.307284, -0.8985956]\n",
      "Gradiente del error respecto de m y b:\n",
      "[-3.7668014, -0.8567781]\n",
      "Gradiente del error respecto de m y b:\n",
      "[-3.293467, -0.820137]\n",
      "Gradiente del error respecto de m y b:\n",
      "[-2.8789337, -0.788029]\n",
      "Gradiente del error respecto de m y b:\n",
      "[-2.515899, -0.7598912]\n",
      "Gradiente del error respecto de m y b:\n",
      "[-2.1979642, -0.7352301]\n",
      "Gradiente del error respecto de m y b:\n",
      "[-1.9195285, -0.7136141]\n",
      "Gradiente del error respecto de m y b:\n",
      "[-1.6756907, -0.6946651]\n",
      "Gradiente del error respecto de m y b:\n",
      "[-1.4621501, -0.6780519]\n",
      "Gradiente del error respecto de m y b:\n",
      "[-1.2751315, -0.6634833]\n",
      "Gradiente del error respecto de m y b:\n",
      "[-1.1113486, -0.650706]\n",
      "Gradiente del error respecto de m y b:\n",
      "[-0.96792024, -0.6394978]\n",
      "Gradiente del error respecto de m y b:\n",
      "[-0.8423032, -0.6296628]\n",
      "Gradiente del error respecto de m y b:\n",
      "[-0.7322959, -0.62103117]\n",
      "Gradiente del error respecto de m y b:\n",
      "[-0.63595796, -0.6134534]\n",
      "Gradiente del error respecto de m y b:\n",
      "[-0.55158675, -0.6067981]\n",
      "Gradiente del error respecto de m y b:\n",
      "[-0.4776976, -0.60095096]\n",
      "Gradiente del error respecto de m y b:\n",
      "[-0.4129976, -0.59581226]\n",
      "Gradiente del error respecto de m y b:\n",
      "[-0.35633087, -0.5912929]\n",
      "Gradiente del error respecto de m y b:\n",
      "[-0.30670857, -0.58731663]\n",
      "Gradiente del error respecto de m y b:\n",
      "[-0.2632476, -0.58381534]\n",
      "Gradiente del error respecto de m y b:\n",
      "[-0.22518826, -0.5807305]\n",
      "Gradiente del error respecto de m y b:\n",
      "[-0.19186044, -0.57801056]\n",
      "Gradiente del error respecto de m y b:\n",
      "[-0.16267419, -0.5756098]\n",
      "Gradiente del error respecto de m y b:\n",
      "[-0.13711917, -0.57348895]\n",
      "Gradiente del error respecto de m y b:\n",
      "[-0.114738226, -0.57161295]\n",
      "Gradiente del error respecto de m y b:\n",
      "[-0.09513903, -0.5699515]\n",
      "Gradiente del error respecto de m y b:\n",
      "[-0.07797456, -0.5684777]\n"
     ]
    },
    {
     "data": {
      "image/png": "[encoded data removed]",
      "text/plain": [
       "<Figure size 432x288 with 1 Axes>"
      ]
     },
     "metadata": {
      "needs_background": "light"
     },
     "output_type": "display_data"
    }
   ],
   "source": [
    "plt.scatter(x,y)\n",
    "\n",
    "tf.reset_default_graph()\n",
    "\n",
    "learning_rate = 0.001\n",
    "\n",
    "m = tf.get_variable(\"pendiente\",dtype=tf.float32, shape=[],\n",
    "                    initializer=tf.zeros_initializer())\n",
    "b = tf.get_variable(\"intercepto\",dtype=tf.float32, shape=[],\n",
    "                    initializer=tf.zeros_initializer())\n",
    "\n",
    "tensor_x = tf.placeholder(tf.float32,[tamaño_muestra],\"tensor_x\")\n",
    "tensor_y = tf.placeholder(tf.float32,[tamaño_muestra],\"tensor_y\")\n",
    "\n",
    "# hipotesis-modelo y = mx + b\n",
    "prediccion = tf.add(tf.multiply(m,x),b)\n",
    "\n",
    "\n",
    "gradiente = tf.gradients(error(tensor_y,prediccion) ,[m,b] )\n",
    "\n",
    "\n",
    "actualizacion_m = tf.assign(m, m - learning_rate*gradiente[0] )\n",
    "actualizacion_b = tf.assign(b, b - learning_rate*gradiente[1] )\n",
    "actualizacion_parametros = tf.group(actualizacion_m,actualizacion_b)\n",
    "\n",
    "# batch gradient descent\n",
    "with tf.train.MonitoredSession() as session:\n",
    "  feed_dict = {tensor_x:x, tensor_y:y}\n",
    "\n",
    "  for i in range(50):\n",
    "    print(\"Gradiente del error respecto de m y b:\")\n",
    "    print(session.run(gradiente,feed_dict=feed_dict))\n",
    "\n",
    "    session.run(actualizacion_parametros,feed_dict=feed_dict)\n",
    "\n",
    "    predicciones = session.run(prediccion,feed_dict=feed_dict)\n",
    "    #print(predicciones)\n",
    "    plt.plot(x,predicciones,label=str(i))\n",
    "\n",
    "plt.legend()\n",
    "plt.show()"
   ]
  },
  {
   "cell_type": "markdown",
   "metadata": {
    "colab_type": "text",
    "id": "rD5l4PRdPuXr"
   },
   "source": [
    "##### mismo ejemplo usando un poco de programación orientada a objetos"
   ]
  },
  {
   "cell_type": "code",
   "execution_count": 29,
   "metadata": {
    "colab": {},
    "colab_type": "code",
    "id": "tVfZF_0vLKek"
   },
   "outputs": [],
   "source": [
    "class ModeloLineal:\n",
    "  def __init__(self):\n",
    "    tf.reset_default_graph()\n",
    "    self.m = tf.get_variable(\"pendiente\",dtype=tf.float32,shape=[],initializer=tf.zeros_initializer())\n",
    "    self.b = tf.get_variable(\"intercepto\",dtype=tf.float32,shape=[],initializer=tf.zeros_initializer())\n",
    "\n",
    "  def __call__(self,x):\n",
    "    return self.m*x + self.b\n",
    "\n",
    "  def actualizar(self,x,y,learning_rate):\n",
    "    prediccion = self(x)\n",
    "    error = 1/2*tf.reduce_mean(tf.math.square(y - prediccion) )\n",
    "    gradiente = tf.gradients(error,[self.m,self.b])\n",
    "    actualizacion_m = tf.assign(self.m, self.m - learning_rate*gradiente[0] )\n",
    "    actualizacion_b = tf.assign(self.b, self.b - learning_rate*gradiente[1] )\n",
    "    actualizacion_parametros = tf.group(actualizacion_m,actualizacion_b)\n",
    "\n",
    "    return actualizacion_parametros"
   ]
  },
  {
   "cell_type": "code",
   "execution_count": 30,
   "metadata": {
    "colab": {
     "base_uri": "https://localhost:8080/",
     "height": 332
    },
    "colab_type": "code",
    "id": "oF8YDDi1-Qip",
    "outputId": "fb9d6487-90bb-473a-a121-0327c163516b"
   },
   "outputs": [
    {
     "name": "stdout",
     "output_type": "stream",
     "text": [
      "INFO:tensorflow:Graph was finalized.\n",
      "INFO:tensorflow:Running local_init_op.\n",
      "INFO:tensorflow:Done running local_init_op.\n"
     ]
    },
    {
     "data": {
      "image/png": "[encoded data removed]",
      "text/plain": [
       "<Figure size 432x288 with 1 Axes>"
      ]
     },
     "metadata": {
      "needs_background": "light"
     },
     "output_type": "display_data"
    }
   ],
   "source": [
    "plt.scatter(x,y)\n",
    "\n",
    "modelo = ModeloLineal()\n",
    "\n",
    "learning_rate = 0.001\n",
    "\n",
    "tensor_x = tf.placeholder(tf.float32,[tamaño_muestra],\"tensor_x\")\n",
    "tensor_y = tf.placeholder(tf.float32,[tamaño_muestra],\"tensor_y\")\n",
    "\n",
    "prediccion = modelo(tensor_x)\n",
    "actualizacion_parametros = modelo.actualizar(tensor_x,tensor_y,learning_rate)\n",
    "\n",
    "with tf.train.MonitoredSession() as session:\n",
    "  feed_dict = {tensor_x:x, tensor_y:y}\n",
    "\n",
    "  for i in range(5):\n",
    "    \n",
    "    session.run(actualizacion_parametros,feed_dict=feed_dict)\n",
    "\n",
    "    predicciones = session.run(prediccion,feed_dict=feed_dict)\n",
    "\n",
    "    plt.plot(x,predicciones,label=str(i))\n",
    "\n",
    "  pendiente_final,intercepto_final = session.run([modelo.m,modelo.b],feed_dict=feed_dict)\n",
    "  plt.title(\"Parámetros finales: m={}  b={}\".format(pendiente_final,intercepto_final))\n",
    "\n",
    "plt.legend()\n",
    "plt.show()"
   ]
  },
  {
   "cell_type": "markdown",
   "metadata": {
    "colab_type": "text",
    "id": "h0YywLk-QGDO"
   },
   "source": [
    "### Optimizadores y otras utilidades de TensorFlow\n",
    "\n",
    "El calcular gradientes y aplicar actualizaciones con estos son operaciones muy comunes en ML, por lo tanto TensorFlow contiene pre-definidas multiples operaciones y  **componentes de alto nivel** comunes como optimizadores. Por ejemplo:\n",
    "\n",
    "\n",
    "\n",
    "*   tf.train.GradientDescentOptimizer\n",
    "*   tf.train.RMSPropOptimizer\n",
    "*   tf.train.AdamOptimizer\n",
    "\n",
    "\n",
    "\n"
   ]
  },
  {
   "cell_type": "code",
   "execution_count": 31,
   "metadata": {
    "colab": {
     "base_uri": "https://localhost:8080/",
     "height": 826
    },
    "colab_type": "code",
    "id": "QB28DI1TEwPa",
    "outputId": "88be8f67-bd91-4728-8b43-b6f4af29941a"
   },
   "outputs": [
    {
     "name": "stdout",
     "output_type": "stream",
     "text": [
      "INFO:tensorflow:Graph was finalized.\n",
      "INFO:tensorflow:Running local_init_op.\n",
      "INFO:tensorflow:Done running local_init_op.\n",
      "Gradiente del error respecto de m y b:\n",
      "[0.0, 0.0]\n",
      "Gradiente del error respecto de m y b:\n",
      "[0.16098972, 0.013550505]\n",
      "Gradiente del error respecto de m y b:\n",
      "[0.2819575, 0.024015106]\n",
      "Gradiente del error respecto de m y b:\n",
      "[0.37284744, 0.032160386]\n",
      "Gradiente del error respecto de m y b:\n",
      "[0.44113278, 0.03856247]\n",
      "Gradiente del error respecto de m y b:\n",
      "[0.49243, 0.043654326]\n",
      "Gradiente del error respecto de m y b:\n",
      "[0.5309601, 0.04776135]\n",
      "Gradiente del error respecto de m y b:\n",
      "[0.5598952, 0.051128093]\n",
      "Gradiente del error respecto de m y b:\n",
      "[0.5816194, 0.053938333]\n",
      "Gradiente del error respecto de m y b:\n",
      "[0.5979243, 0.056330193]\n",
      "Gradiente del error respecto de m y b:\n",
      "[0.6101564, 0.058407478]\n",
      "Gradiente del error respecto de m y b:\n",
      "[0.6193277, 0.060248196]\n",
      "Gradiente del error respecto de m y b:\n",
      "[0.62619877, 0.06191098]\n",
      "Gradiente del error respecto de m y b:\n",
      "[0.6313411, 0.06343988]\n",
      "Gradiente del error respecto de m y b:\n",
      "[0.63518417, 0.064868025]\n"
     ]
    },
    {
     "data": {
      "image/png": "[encoded data removed]",
      "text/plain": [
       "<Figure size 432x288 with 1 Axes>"
      ]
     },
     "metadata": {
      "needs_background": "light"
     },
     "output_type": "display_data"
    }
   ],
   "source": [
    "plt.scatter(x,y)\n",
    "\n",
    "tf.reset_default_graph()\n",
    "\n",
    "learning_rate = 0.001\n",
    "\n",
    "m = tf.get_variable(\"pendiente\",dtype=tf.float32, shape=[],\n",
    "                    initializer=tf.zeros_initializer())\n",
    "b = tf.get_variable(\"intercepto\",dtype=tf.float32, shape=[],\n",
    "                    initializer=tf.zeros_initializer())\n",
    "\n",
    "tensor_x = tf.placeholder(tf.float32,[tamaño_muestra],\"tensor_x\")\n",
    "tensor_y = tf.placeholder(tf.float32,[tamaño_muestra],\"tensor_y\")\n",
    "\n",
    "prediccion = tf.add(tf.multiply(m,tensor_x),b)\n",
    "error = tf.losses.mean_squared_error(tensor_y,prediccion)\n",
    "actualizacion_parametros = tf.train.GradientDescentOptimizer(learning_rate=learning_rate).minimize(error)\n",
    "\n",
    "with tf.train.MonitoredSession() as session:\n",
    "  feed_dict = {tensor_x:x, tensor_y:y}\n",
    "\n",
    "  for i in range(15):\n",
    "    print(\"Gradiente del error respecto de m y b:\")\n",
    "    print(session.run([m,b],feed_dict=feed_dict))\n",
    "\n",
    "    session.run(actualizacion_parametros,feed_dict=feed_dict)\n",
    "\n",
    "    predicciones = session.run(prediccion,feed_dict=feed_dict)\n",
    "\n",
    "    plt.plot(x,predicciones,label=str(i))\n",
    "\n",
    "plt.legend()\n",
    "plt.show()"
   ]
  },
  {
   "cell_type": "markdown",
   "metadata": {
    "colab_type": "text",
    "id": "QGldhHS1VUOT"
   },
   "source": [
    "### Variaciones de gradient descent\n",
    "\n",
    "Gradient descent es el algoritmo de optimizacion base, pero existen otros (y variaciones de este) . Variaciones importantes son:\n",
    "\n",
    "* **Batch Gradient Descent** : en cada iteracion utiliza todos los datos de entrenamiento para calcular el gradiente (como el promedio de gradientes para cada observacion).\n",
    "* **Stochastic gradient descent** : se utiliza un unico ejemplo de entreamiento(oservacion) en cada iteracion del algoritmo.\n",
    "* **Mini-batch gradient descent** : en cada iteracion utiliza una muestra (sin remplazo) del dataset con un tamanio dado como hyper-parametro (normalmente en potencias de 2)"
   ]
  },
  {
   "cell_type": "markdown",
   "metadata": {
    "colab_type": "text",
    "id": "bNMegPLMZ7N-"
   },
   "source": [
    "#### Batch Gradient Descent"
   ]
  },
  {
   "cell_type": "code",
   "execution_count": 32,
   "metadata": {
    "colab": {
     "base_uri": "https://localhost:8080/",
     "height": 332
    },
    "colab_type": "code",
    "id": "s88ywAo5ZcJ4",
    "outputId": "a2e9af82-5bde-472f-a708-e2763f6e3a9a"
   },
   "outputs": [
    {
     "name": "stdout",
     "output_type": "stream",
     "text": [
      "INFO:tensorflow:Graph was finalized.\n",
      "INFO:tensorflow:Running local_init_op.\n",
      "INFO:tensorflow:Done running local_init_op.\n"
     ]
    },
    {
     "data": {
      "image/png": "[encoded data removed]",
      "text/plain": [
       "<Figure size 432x288 with 1 Axes>"
      ]
     },
     "metadata": {
      "needs_background": "light"
     },
     "output_type": "display_data"
    }
   ],
   "source": [
    "plt.scatter(x,y)\n",
    "\n",
    "modelo = ModeloLineal()\n",
    "\n",
    "learning_rate = 0.001\n",
    "\n",
    "tensor_x = tf.placeholder(tf.float32,[tamaño_muestra],\"tensor_x\")\n",
    "tensor_y = tf.placeholder(tf.float32,[tamaño_muestra],\"tensor_y\")\n",
    "\n",
    "prediccion = modelo(tensor_x)\n",
    "actualizacion_parametros = modelo.actualizar(tensor_x,tensor_y,learning_rate)\n",
    "\n",
    "with tf.train.MonitoredSession() as session:\n",
    "  feed_dict = {tensor_x:x, tensor_y:y}\n",
    "\n",
    "  for i in range(5): # iteracines = epochs\n",
    "    \n",
    "    session.run(actualizacion_parametros,feed_dict=feed_dict)\n",
    "\n",
    "    predicciones = session.run(prediccion,feed_dict=feed_dict)\n",
    "\n",
    "    plt.plot(x,predicciones,label=str(i))\n",
    "\n",
    "  pendiente_final,intercepto_final = session.run([modelo.m,modelo.b],feed_dict=feed_dict)\n",
    "  plt.title(\"Parámetros finales: m={}  b={}\".format(pendiente_final,intercepto_final))\n",
    "\n",
    "plt.legend()\n",
    "plt.show()"
   ]
  },
  {
   "cell_type": "markdown",
   "metadata": {
    "colab_type": "text",
    "id": "sWrPtISQaDE1"
   },
   "source": [
    "#### Stochastic Gradient Descent"
   ]
  },
  {
   "cell_type": "code",
   "execution_count": 33,
   "metadata": {
    "colab": {
     "base_uri": "https://localhost:8080/",
     "height": 332
    },
    "colab_type": "code",
    "id": "MCkRlwpeM-bx",
    "outputId": "b8b77444-9118-4218-f3e9-cd350a44b892"
   },
   "outputs": [
    {
     "name": "stdout",
     "output_type": "stream",
     "text": [
      "INFO:tensorflow:Graph was finalized.\n",
      "INFO:tensorflow:Running local_init_op.\n",
      "INFO:tensorflow:Done running local_init_op.\n"
     ]
    },
    {
     "data": {
      "image/png": "[encoded data removed]",
      "text/plain": [
       "<Figure size 432x288 with 1 Axes>"
      ]
     },
     "metadata": {
      "needs_background": "light"
     },
     "output_type": "display_data"
    }
   ],
   "source": [
    "plt.scatter(x,y)\n",
    "\n",
    "modelo = ModeloLineal()\n",
    "\n",
    "learning_rate = 0.001\n",
    "\n",
    "tensor_x = tf.placeholder(tf.float32,[None,1],\"tensor_x\")\n",
    "tensor_y = tf.placeholder(tf.float32,[None,1],\"tensor_y\")\n",
    "\n",
    "prediccion = modelo(tensor_x)\n",
    "actualizacion_parametros = modelo.actualizar(tensor_x,tensor_y,learning_rate)\n",
    "\n",
    "with tf.train.MonitoredSession() as session:\n",
    "  \n",
    "  for i in range(5): #5 epochs\n",
    "    \n",
    "    for (x_stoc, y_stoc) in zip(x, y):  #muchas iteraciones por epoch (20)\n",
    "      x_stoc = np.array([x_stoc]).reshape([1,1])\n",
    "      y_stoc = np.array([y_stoc]).reshape([1,1])\n",
    "      feed_dict = {tensor_x:x_stoc, tensor_y:y_stoc}\n",
    "      session.run(actualizacion_parametros,feed_dict=feed_dict)\n",
    "\n",
    "    feed_dict = {tensor_x:np.array(x).reshape(-1,1), tensor_y:np.array(y).reshape(-1,1)}\n",
    "    predicciones = session.run(prediccion,feed_dict=feed_dict)\n",
    "\n",
    "    plt.plot(x,predicciones,label=str(i))\n",
    "\n",
    "  pendiente_final,intercepto_final = session.run([modelo.m,modelo.b],feed_dict=feed_dict)\n",
    "  plt.title(\"Parámetros finales: m={}  b={}\".format(pendiente_final,intercepto_final))\n",
    "\n",
    "plt.legend()\n",
    "plt.show()"
   ]
  },
  {
   "cell_type": "markdown",
   "metadata": {
    "colab_type": "text",
    "id": "hTHMwMibZt1D"
   },
   "source": [
    "#### Mini-batch gradient descent"
   ]
  },
  {
   "cell_type": "code",
   "execution_count": 34,
   "metadata": {
    "colab": {
     "base_uri": "https://localhost:8080/",
     "height": 689
    },
    "colab_type": "code",
    "id": "xCQrazmOiYyy",
    "outputId": "d774ba5c-935e-4d47-b75f-16f09ed3a146"
   },
   "outputs": [
    {
     "name": "stdout",
     "output_type": "stream",
     "text": [
      "4\n",
      "INFO:tensorflow:Graph was finalized.\n",
      "INFO:tensorflow:Running local_init_op.\n",
      "INFO:tensorflow:Done running local_init_op.\n",
      "Epoch 0 iteracion 0 m=0.00794471986591816 b=0.0036429769825190306\n",
      "Epoch 0 iteracion 1 m=0.0434090718626976 b=0.008559081703424454\n",
      "Epoch 0 iteracion 2 m=0.1305384337902069 b=0.015720106661319733\n",
      "Epoch 0 iteracion 3 m=0.27685439586639404 b=0.02427741512656212\n",
      "Epoch 1 iteracion 0 m=0.28308942914009094 b=0.027342405170202255\n",
      "Epoch 1 iteracion 1 m=0.3043555021286011 b=0.030308797955513\n",
      "Epoch 1 iteracion 2 m=0.3531256914138794 b=0.034316714853048325\n",
      "Epoch 1 iteracion 3 m=0.4343526065349579 b=0.03907144069671631\n",
      "Epoch 2 iteracion 0 m=0.43961307406425476 b=0.04180664196610451\n",
      "Epoch 2 iteracion 1 m=0.45279520750045776 b=0.0436629056930542\n",
      "Epoch 2 iteracion 2 m=0.4797329604625702 b=0.045876193791627884\n",
      "Epoch 2 iteracion 3 m=0.5239206552505493 b=0.048467036336660385\n",
      "Epoch 3 iteracion 0 m=0.5286248922348022 b=0.051013704389333725\n",
      "Epoch 3 iteracion 1 m=0.5372029542922974 b=0.052237678319215775\n",
      "Epoch 3 iteracion 2 m=0.551714301109314 b=0.0534294992685318\n",
      "Epoch 3 iteracion 3 m=0.5748270153999329 b=0.05478910729289055\n",
      "Epoch 4 iteracion 0 m=0.5792132019996643 b=0.057227641344070435\n",
      "Epoch 4 iteracion 1 m=0.5851677656173706 b=0.05809128284454346\n",
      "Epoch 4 iteracion 2 m=0.5926059484481812 b=0.05870167165994644\n",
      "Epoch 4 iteracion 3 m=0.6037295460700989 b=0.05936085060238838\n"
     ]
    },
    {
     "data": {
      "image/png": "[encoded data removed]",
      "text/plain": [
       "<Figure size 432x288 with 1 Axes>"
      ]
     },
     "metadata": {
      "needs_background": "light"
     },
     "output_type": "display_data"
    }
   ],
   "source": [
    "plt.scatter(x,y)\n",
    "\n",
    "modelo = ModeloLineal()\n",
    "\n",
    "learning_rate = 0.001\n",
    "batch_size = 5 # 2, 4, 8  , 16, 32 #hyper-parametro\n",
    "epochs = 5\n",
    "total_iteraciones = int(tamaño_muestra/batch_size)\n",
    "\n",
    "print(total_iteraciones)\n",
    "\n",
    "tensor_x = tf.placeholder(tf.float32,[None,1],\"tensor_x\")\n",
    "tensor_y = tf.placeholder(tf.float32,[None,1],\"tensor_y\")\n",
    "\n",
    "prediccion = modelo(tensor_x)\n",
    "actualizacion_parametros = modelo.actualizar(tensor_x,tensor_y,learning_rate)\n",
    "\n",
    "with tf.train.MonitoredSession() as session:\n",
    "  \n",
    "  for epoch in range(epochs): #5 epochs\n",
    "    #shuffle(x,y) # buena practica (ordenar aleatoriamente)\n",
    "    \n",
    "    for i in range(total_iteraciones):  #muchas iteraciones por epoch \n",
    "      muestra_inicio = i*batch_size\n",
    "      muestra_fin = muestra_inicio + batch_size\n",
    "      x_mb =  np.array(x[muestra_inicio:muestra_fin]).reshape([-1,1])\n",
    "      y_mb = np.array(y[muestra_inicio:muestra_fin]).reshape([-1,1])\n",
    "      \n",
    "      feed_dict = {tensor_x:x_mb, tensor_y:y_mb}\n",
    "      _,m,b = session.run([actualizacion_parametros,modelo.m,modelo.b],feed_dict=feed_dict)\n",
    "\n",
    "      print(\"Epoch {} iteracion {} m={} b={}\".format(epoch,i,m,b))\n",
    "\n",
    "    feed_dict = {tensor_x:np.array(x).reshape(-1,1), tensor_y:np.array(y).reshape(-1,1)}\n",
    "    predicciones = session.run(prediccion,feed_dict=feed_dict)\n",
    "\n",
    "    plt.plot(x,predicciones,label=str(epoch))\n",
    "\n",
    "  pendiente_final,intercepto_final = session.run([modelo.m,modelo.b],feed_dict=feed_dict)\n",
    "  plt.title(\"Parámetros finales: m={}  b={}\".format(pendiente_final,intercepto_final))\n",
    "\n",
    "plt.legend()\n",
    "plt.show()"
   ]
  },
  {
   "cell_type": "code",
   "execution_count": 49,
   "metadata": {
    "colab": {},
    "colab_type": "code",
    "id": "XoNA8AK7u0ue"
   },
   "outputs": [
    {
     "name": "stdout",
     "output_type": "stream",
     "text": [
      "INFO:tensorflow:Graph was finalized.\n",
      "INFO:tensorflow:Running local_init_op.\n",
      "INFO:tensorflow:Done running local_init_op.\n",
      "[-99.5692]\n"
     ]
    }
   ],
   "source": [
    "t = tf.placeholder(tf.float32,[])\n",
    "u = t**2\n",
    "v = 5*t-8\n",
    "w = t**3+t\n",
    "\n",
    "z= u**2*v**3*w**4\n",
    "\n",
    "\n",
    "d = tf.gradients(z,[t])\n",
    "\n",
    "with tf.train.MonitoredSession() as s:\n",
    "    fd = {t:0.6}\n",
    "    print(s.run(d,fd))\n"
   ]
  },
  {
   "cell_type": "code",
   "execution_count": 56,
   "metadata": {},
   "outputs": [
    {
     "name": "stdout",
     "output_type": "stream",
     "text": [
      "INFO:tensorflow:Graph was finalized.\n",
      "INFO:tensorflow:Running local_init_op.\n",
      "INFO:tensorflow:Done running local_init_op.\n",
      "[88.87288, 26.661863, 132.95941]\n"
     ]
    }
   ],
   "source": [
    "t = tf.placeholder(tf.float32,[])\n",
    "x = tf.placeholder(tf.float32,[])\n",
    "y = tf.placeholder(tf.float32,[])\n",
    "\n",
    "u = t**2+2*x+y\n",
    "v = 5*t+8*x\n",
    "w = t**3+t+y\n",
    "z = u**2*v**3*w**4\n",
    "\n",
    "d = tf.gradients(z,[u,v,w])\n",
    "with tf.train.MonitoredSession() as s:\n",
    "    fd = {t:0.6,x:0.1,y:0.2}\n",
    "    print(s.run(d,fd))"
   ]
  },
  {
   "cell_type": "code",
   "execution_count": null,
   "metadata": {},
   "outputs": [],
   "source": []
  }
 ],
 "metadata": {
  "colab": {
   "collapsed_sections": [
    "4nR6CKliRVH0",
    "1pDqtr0jTqmj",
    "GhipjVg4WE4u",
    "KpptkRkZrl2q",
    "AfTfJs2hlrXH",
    "SRGCPO3Qowu-",
    "3beZ5me9rBMm",
    "h0YywLk-QGDO"
   ],
   "name": "Intro-Tensorflow.ipynb",
   "provenance": []
  },
  "kernelspec": {
   "display_name": "Python 3",
   "language": "python",
   "name": "python3"
  },
  "language_info": {
   "codemirror_mode": {
    "name": "ipython",
    "version": 3
   },
   "file_extension": ".py",
   "mimetype": "text/x-python",
   "name": "python",
   "nbconvert_exporter": "python",
   "pygments_lexer": "ipython3",
   "version": "3.7.3"
  }
 },
 "nbformat": 4,
 "nbformat_minor": 1
}
