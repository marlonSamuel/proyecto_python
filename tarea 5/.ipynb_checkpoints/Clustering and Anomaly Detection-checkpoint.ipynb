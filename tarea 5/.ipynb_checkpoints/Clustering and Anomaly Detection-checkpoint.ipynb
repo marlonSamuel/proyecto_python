{
 "cells": [
  {
   "cell_type": "code",
   "execution_count": 1,
   "metadata": {},
   "outputs": [],
   "source": [
    "import pandas as pd\n",
    "import numpy as np\n",
    "import matplotlib.pyplot as plt"
   ]
  },
  {
   "cell_type": "markdown",
   "metadata": {},
   "source": [
    "### Importar data"
   ]
  },
  {
   "cell_type": "code",
   "execution_count": 463,
   "metadata": {},
   "outputs": [
    {
     "data": {
      "text/html": [
       "<div>\n",
       "<style scoped>\n",
       "    .dataframe tbody tr th:only-of-type {\n",
       "        vertical-align: middle;\n",
       "    }\n",
       "\n",
       "    .dataframe tbody tr th {\n",
       "        vertical-align: top;\n",
       "    }\n",
       "\n",
       "    .dataframe thead th {\n",
       "        text-align: right;\n",
       "    }\n",
       "</style>\n",
       "<table border=\"1\" class=\"dataframe\">\n",
       "  <thead>\n",
       "    <tr style=\"text-align: right;\">\n",
       "      <th></th>\n",
       "      <th>Estatura(metros)</th>\n",
       "      <th>Edad(años)</th>\n",
       "    </tr>\n",
       "  </thead>\n",
       "  <tbody>\n",
       "    <tr>\n",
       "      <th>0</th>\n",
       "      <td>1.77</td>\n",
       "      <td>26</td>\n",
       "    </tr>\n",
       "    <tr>\n",
       "      <th>1</th>\n",
       "      <td>1.74</td>\n",
       "      <td>31</td>\n",
       "    </tr>\n",
       "    <tr>\n",
       "      <th>2</th>\n",
       "      <td>1.72</td>\n",
       "      <td>24</td>\n",
       "    </tr>\n",
       "    <tr>\n",
       "      <th>3</th>\n",
       "      <td>1.78</td>\n",
       "      <td>34</td>\n",
       "    </tr>\n",
       "    <tr>\n",
       "      <th>4</th>\n",
       "      <td>1.65</td>\n",
       "      <td>32</td>\n",
       "    </tr>\n",
       "  </tbody>\n",
       "</table>\n",
       "</div>"
      ],
      "text/plain": [
       "   Estatura(metros)  Edad(años)\n",
       "0              1.77          26\n",
       "1              1.74          31\n",
       "2              1.72          24\n",
       "3              1.78          34\n",
       "4              1.65          32"
      ]
     },
     "execution_count": 463,
     "metadata": {},
     "output_type": "execute_result"
    }
   ],
   "source": [
    "xls = pd.ExcelFile('estaturas.xlsx')\n",
    "\n",
    "data = pd.read_excel(xls,'normales')\n",
    "test = pd.read_excel(xls,'valtest(normales)')\n",
    "anomalias = pd.read_excel(xls,'anomalias')\n",
    "data.head()"
   ]
  },
  {
   "cell_type": "code",
   "execution_count": 467,
   "metadata": {},
   "outputs": [],
   "source": [
    "data.shape\n",
    "data = np.array(data)\n",
    "test = np.array(test)\n",
    "anomalias = np.array(anomalias)\n",
    "y_anom = -np.ones(len(anomalias))"
   ]
  },
  {
   "cell_type": "markdown",
   "metadata": {},
   "source": [
    "### Clusterin KMeans con NUMPY"
   ]
  },
  {
   "cell_type": "code",
   "execution_count": 4,
   "metadata": {},
   "outputs": [],
   "source": [
    "#calcular las distancias\n",
    "def euclidean_distance(x1, x2):\n",
    "    return np.linalg.norm(x1-x2)#np.sqrt(np.sum((x1 - x2)**2))"
   ]
  },
  {
   "cell_type": "code",
   "execution_count": 5,
   "metadata": {},
   "outputs": [],
   "source": [
    "class K_Means():\n",
    "    def __init__(self,K,max_iters):\n",
    "        self.K = K\n",
    "        self.max_iters = max_iters\n",
    "        self.clusters = [[] for _ in range(self.K)]\n",
    "        self.centroids = []\n",
    "        self.labels = []\n",
    "        self.score = 0\n",
    "    \n",
    "    def predict(self,X):\n",
    "        labels = np.empty(len(X))\n",
    "        clusters = [[] for _ in range(self.K)]\n",
    "        for idx,sample in enumerate(X):\n",
    "            dist = [euclidean_distance(sample, point) for point in self.centroids]\n",
    "            index_c = np.argmin(dist)\n",
    "            clusters[index_c].append(idx)\n",
    "            labels[idx]=index_c\n",
    "        return labels\n",
    "    \n",
    "    def fit(self, X):\n",
    "        np.random.seed(21)\n",
    "        self.X = X\n",
    "        # initialize centroids \n",
    "        random_sample_idxs = np.random.choice(len(X), self.K, replace=False)\n",
    "        self.centroids = [self.X[idx] for idx in random_sample_idxs]\n",
    "        \n",
    "        for _ in range(self.max_iters):\n",
    "            self.clusters = self._create_clusters(self.centroids)\n",
    "            old_centroids = self.centroids\n",
    "            self.centroids = self._get_centroids(self.clusters)\n",
    "            \n",
    "            if self._is_converged(old_centroids, self.centroids):\n",
    "                print(\"converged in iteration \"+str(_))\n",
    "                break\n",
    "             \n",
    "        self.labels = self._set_labels(self.clusters)\n",
    "        self.score = self._score(self.centroids)\n",
    "            \n",
    "    def _set_labels(self, clusters):\n",
    "        labels = np.empty(len(self.X))\n",
    "        for cluster_idx, cluster in enumerate(clusters):\n",
    "            for sample_index in cluster:\n",
    "                labels[sample_index] = cluster_idx\n",
    "        return labels\n",
    "            \n",
    "    def _create_clusters(self, centroids):\n",
    "        # Assign the samples to the closest centroids to create clusters\n",
    "        clusters = [[] for _ in range(self.K)]\n",
    "        for idx, sample in enumerate(self.X):\n",
    "            centroid_idx = self._closest_centroid(sample, centroids)\n",
    "            clusters[centroid_idx].append(idx)\n",
    "        return clusters\n",
    "    \n",
    "    def _closest_centroid(self, sample, centroids):\n",
    "        distances = [euclidean_distance(sample, point) for point in centroids]\n",
    "        closest_index = np.argmin(distances)\n",
    "        return closest_index\n",
    "    \n",
    "    def _get_centroids(self, clusters):\n",
    "        centroids = np.zeros((self.K, self.X.shape[1]))\n",
    "        for cluster_idx, cluster in enumerate(clusters):\n",
    "            cluster_mean = np.mean(self.X[cluster], axis=0)\n",
    "            centroids[cluster_idx] = cluster_mean\n",
    "        return centroids\n",
    "    \n",
    "    def _is_converged(self, centroids_old, centroids):\n",
    "        distances = [euclidean_distance(centroids_old[i], centroids[i]) for i in range(self.K)]\n",
    "        return sum(distances) == 0\n",
    "    \n",
    "    def _score(self,centroids):\n",
    "        scores = []\n",
    "        for k in range(self.K):\n",
    "            puntos = self.X[self.labels==k]\n",
    "            score = euclidean_distance(puntos,centroids[k])**2\n",
    "            scores.append(score)\n",
    "        return sum(scores)"
   ]
  },
  {
   "cell_type": "markdown",
   "metadata": {},
   "source": [
    "### Eligiendo el k optimo"
   ]
  },
  {
   "cell_type": "markdown",
   "metadata": {},
   "source": [
    "### Método del codo\n",
    "\n",
    "Es un método para elegir el k optimo de cluster. Una forma de hacerlo es medir las distancias intraclusters, es decir para cada uno de los puntos del cluster, medimos la distancia de estos al centroide respectivo y las elevamos al cuadrado. Esto nos mide la variancia entre los puntos internos de un mismo cluster.\n",
    "\n",
    "Suele haber un punto donde hay una variación maxima donde deja de decrecer la curva y pasa a estabilizarse."
   ]
  },
  {
   "cell_type": "code",
   "execution_count": 436,
   "metadata": {},
   "outputs": [
    {
     "name": "stdout",
     "output_type": "stream",
     "text": [
      "converged in iteration 1\n",
      "converged in iteration 3\n",
      "converged in iteration 1\n",
      "converged in iteration 2\n",
      "converged in iteration 1\n",
      "converged in iteration 1\n",
      "converged in iteration 2\n",
      "converged in iteration 2\n",
      "converged in iteration 2\n"
     ]
    }
   ],
   "source": [
    "k_numbers = 10\n",
    "scores_points = []\n",
    "for k in range(1,k_numbers):\n",
    "    c = K_Means(k,50)\n",
    "    c.fit(np.array(data))\n",
    "    scores_points.append([c.score,k])"
   ]
  },
  {
   "cell_type": "code",
   "execution_count": 437,
   "metadata": {},
   "outputs": [
    {
     "data": {
      "image/png": "[encoded data removed]",
      "text/plain": [
       "<Figure size 432x288 with 1 Axes>"
      ]
     },
     "metadata": {
      "needs_background": "light"
     },
     "output_type": "display_data"
    },
    {
     "name": "stdout",
     "output_type": "stream",
     "text": [
      "El número óptimo de cluster es 2\n"
     ]
    }
   ],
   "source": [
    "scores_a = np.array(scores_points)\n",
    "plt.plot(scores_a[:,1], scores_a[:,0],marker=\"o\")\n",
    "\n",
    "acc_rev = np.diff(scores_a[:,0],2)\n",
    "plt.plot(scores_a[:,1][:-2]+1, acc_rev)\n",
    "plt.show()\n",
    "k = acc_rev.argmax() +2\n",
    "print(\"El número óptimo de cluster es %s\"%str(k))"
   ]
  },
  {
   "cell_type": "markdown",
   "metadata": {},
   "source": [
    "### Graficando el mejor cluster.\n",
    "\n",
    "Segun el metodo del codo en este caso en terminos de complejidad se observa que despues del cluster k=2 la distancia es minima, entonces podemos definir nuestro k optimo como k=2\n",
    "\n",
    "Se observa que la variación de las distancias de 2 a 3 es minima, por lo cual se puede considerar como un k optimo.\n",
    "\n",
    "para este problema el metodo del codo, es efectivo."
   ]
  },
  {
   "cell_type": "code",
   "execution_count": 438,
   "metadata": {},
   "outputs": [],
   "source": [
    "def getColors(labels):\n",
    "    colors = np.array([x for x in 'bgrcmykbgrcmykbgrcmykbgrcmyk'])\n",
    "    return [colors[int(l)] for l in labels]"
   ]
  },
  {
   "cell_type": "code",
   "execution_count": 439,
   "metadata": {},
   "outputs": [
    {
     "name": "stdout",
     "output_type": "stream",
     "text": [
      "converged in iteration 3\n"
     ]
    }
   ],
   "source": [
    "k=2\n",
    "cluster = K_Means(k,50)\n",
    "cluster.fit(data)\n",
    "\n",
    "labels = cluster.labels\n",
    "centroids = cluster.centroids\n",
    "cluster.score\n",
    "labels_test = cluster.predict(test)"
   ]
  },
  {
   "cell_type": "code",
   "execution_count": 440,
   "metadata": {},
   "outputs": [
    {
     "data": {
      "text/plain": [
       "array([0., 1.])"
      ]
     },
     "execution_count": 440,
     "metadata": {},
     "output_type": "execute_result"
    }
   ],
   "source": [
    "np.unique(labels)"
   ]
  },
  {
   "cell_type": "code",
   "execution_count": 441,
   "metadata": {},
   "outputs": [],
   "source": [
    "def plot(data,centroids,test,labels,labels_test):\n",
    "    plt.figure(figsize=(10,8))\n",
    "    plt.scatter(data[:,0],data[:,1],c=getColors(labels),cmap=\"jet\",label=\"data\")\n",
    "    plt.scatter(centroids[:,0],centroids[:,1],s=150, c='black', marker=\"X\",label=\"centroids\")\n",
    "    plt.scatter(test[:,0],test[:,1],s=50,c=getColors(labels_test), marker=\"s\",label=\"new predictions\")\n",
    "    \n",
    "    for i,c in enumerate(centroids):\n",
    "        plt.text(c[0], c[1], str(i), color=getColors([i])[0], fontsize=20,weight=\"bold\")\n",
    "    \n",
    "    \n",
    "    plt.title(\"Clustering\")\n",
    "    plt.xlabel(\"Estatura\")\n",
    "    plt.ylabel(\"Edad\")\n",
    "        \n",
    "    plt.legend()\n",
    "\n",
    "    plt.show()  "
   ]
  },
  {
   "cell_type": "code",
   "execution_count": 442,
   "metadata": {},
   "outputs": [
    {
     "data": {
      "image/png": "[encoded data removed]",
      "text/plain": [
       "<Figure size 720x576 with 1 Axes>"
      ]
     },
     "metadata": {
      "needs_background": "light"
     },
     "output_type": "display_data"
    }
   ],
   "source": [
    "plot(data,centroids,test,labels,labels_test)"
   ]
  },
  {
   "cell_type": "markdown",
   "metadata": {},
   "source": [
    "### Clustering con sklearn GaussianMixture GMM"
   ]
  },
  {
   "cell_type": "code",
   "execution_count": 443,
   "metadata": {},
   "outputs": [],
   "source": [
    "from sklearn import mixture"
   ]
  },
  {
   "cell_type": "code",
   "execution_count": 444,
   "metadata": {},
   "outputs": [],
   "source": [
    "np.random.seed(300)\n",
    "gmm = mixture.GaussianMixture(n_components=k)\n",
    "model = gmm.fit(data)"
   ]
  },
  {
   "cell_type": "code",
   "execution_count": 445,
   "metadata": {},
   "outputs": [],
   "source": [
    "proba_gmm = model.predict_proba(data)\n",
    "pred_gmm = model.predict(data)\n",
    "pred_test_gmm = model.predict(test)\n",
    "proba_tests = model.predict_proba(test)"
   ]
  },
  {
   "cell_type": "code",
   "execution_count": 446,
   "metadata": {},
   "outputs": [
    {
     "data": {
      "text/html": [
       "<div>\n",
       "<style scoped>\n",
       "    .dataframe tbody tr th:only-of-type {\n",
       "        vertical-align: middle;\n",
       "    }\n",
       "\n",
       "    .dataframe tbody tr th {\n",
       "        vertical-align: top;\n",
       "    }\n",
       "\n",
       "    .dataframe thead th {\n",
       "        text-align: right;\n",
       "    }\n",
       "</style>\n",
       "<table border=\"1\" class=\"dataframe\">\n",
       "  <thead>\n",
       "    <tr style=\"text-align: right;\">\n",
       "      <th></th>\n",
       "      <th>estatura</th>\n",
       "      <th>edad</th>\n",
       "      <th>cluster_gmm</th>\n",
       "      <th>prob cluster 0</th>\n",
       "      <th>prob cluster 1</th>\n",
       "    </tr>\n",
       "  </thead>\n",
       "  <tbody>\n",
       "    <tr>\n",
       "      <th>0</th>\n",
       "      <td>1.82</td>\n",
       "      <td>25.0</td>\n",
       "      <td>1</td>\n",
       "      <td>0.02</td>\n",
       "      <td>99.98</td>\n",
       "    </tr>\n",
       "    <tr>\n",
       "      <th>1</th>\n",
       "      <td>1.80</td>\n",
       "      <td>27.0</td>\n",
       "      <td>1</td>\n",
       "      <td>1.13</td>\n",
       "      <td>98.87</td>\n",
       "    </tr>\n",
       "    <tr>\n",
       "      <th>2</th>\n",
       "      <td>1.60</td>\n",
       "      <td>31.0</td>\n",
       "      <td>1</td>\n",
       "      <td>37.33</td>\n",
       "      <td>62.67</td>\n",
       "    </tr>\n",
       "    <tr>\n",
       "      <th>3</th>\n",
       "      <td>1.60</td>\n",
       "      <td>35.0</td>\n",
       "      <td>0</td>\n",
       "      <td>99.82</td>\n",
       "      <td>0.18</td>\n",
       "    </tr>\n",
       "    <tr>\n",
       "      <th>4</th>\n",
       "      <td>1.82</td>\n",
       "      <td>30.0</td>\n",
       "      <td>0</td>\n",
       "      <td>81.84</td>\n",
       "      <td>18.16</td>\n",
       "    </tr>\n",
       "    <tr>\n",
       "      <th>5</th>\n",
       "      <td>1.76</td>\n",
       "      <td>32.0</td>\n",
       "      <td>0</td>\n",
       "      <td>99.83</td>\n",
       "      <td>0.17</td>\n",
       "    </tr>\n",
       "    <tr>\n",
       "      <th>6</th>\n",
       "      <td>1.79</td>\n",
       "      <td>31.0</td>\n",
       "      <td>0</td>\n",
       "      <td>98.43</td>\n",
       "      <td>1.57</td>\n",
       "    </tr>\n",
       "    <tr>\n",
       "      <th>7</th>\n",
       "      <td>1.61</td>\n",
       "      <td>31.0</td>\n",
       "      <td>1</td>\n",
       "      <td>48.69</td>\n",
       "      <td>51.31</td>\n",
       "    </tr>\n",
       "  </tbody>\n",
       "</table>\n",
       "</div>"
      ],
      "text/plain": [
       "   estatura  edad  cluster_gmm  prob cluster 0  prob cluster 1\n",
       "0      1.82  25.0            1            0.02           99.98\n",
       "1      1.80  27.0            1            1.13           98.87\n",
       "2      1.60  31.0            1           37.33           62.67\n",
       "3      1.60  35.0            0           99.82            0.18\n",
       "4      1.82  30.0            0           81.84           18.16\n",
       "5      1.76  32.0            0           99.83            0.17\n",
       "6      1.79  31.0            0           98.43            1.57\n",
       "7      1.61  31.0            1           48.69           51.31"
      ]
     },
     "execution_count": 446,
     "metadata": {},
     "output_type": "execute_result"
    }
   ],
   "source": [
    "#creando dataset para probabilidades\n",
    "data_probs = pd.DataFrame(test,columns=[\"estatura\",\"edad\"])\n",
    "data_probs[\"cluster_gmm\"] = pred_test_gmm\n",
    "clusters_gmm = np.unique(pred_gmm)\n",
    "\n",
    "for c in clusters_gmm:\n",
    "    data_probs[\"prob cluster \"+str(c)] = np.round(proba_tests[:,c] * 100,2)\n",
    "data_probs"
   ]
  },
  {
   "cell_type": "code",
   "execution_count": 460,
   "metadata": {},
   "outputs": [
    {
     "data": {
      "image/png": "[encoded data removed]",
      "text/plain": [
       "<Figure size 720x576 with 1 Axes>"
      ]
     },
     "metadata": {
      "needs_background": "light"
     },
     "output_type": "display_data"
    }
   ],
   "source": [
    "plot(data,model.means_,test,pred_gmm,pred_test_gmm)"
   ]
  },
  {
   "cell_type": "markdown",
   "metadata": {},
   "source": [
    "### Conclusiones"
   ]
  },
  {
   "cell_type": "code",
   "execution_count": 455,
   "metadata": {},
   "outputs": [
    {
     "name": "stdout",
     "output_type": "stream",
     "text": [
      "centroides k means cluster 0: [ 1.7255 25.6   ]\n",
      "centroides k means cluster 1: [ 1.75444444 34.33333333]\n",
      "centroides gmm cluster 0: [ 1.72627184 25.55881686]\n",
      "centroides gmm cluster 1: [ 1.75156703 34.03538488]\n"
     ]
    }
   ],
   "source": [
    "#centroides\n",
    "print(\"centroides k means cluster 0:\", cluster.centroids[0])\n",
    "print(\"centroides k means cluster 1:\", cluster.centroids[1])\n",
    "print(\"centroides gmm cluster 0:\", model.means_[1])\n",
    "print(\"centroides gmm cluster 1:\", model.means_[0])"
   ]
  },
  {
   "cell_type": "markdown",
   "metadata": {},
   "source": [
    "Ambos metodos muestran una clasificación de los clusters similar, por lo que el problema es adecuado resolverlo con un k optimo de 2, tambien observamos que los centroides son similares, asi como la clasificación de los nuevos datos.\n",
    "\n",
    "analizando los centroides se observa que se pueden agrupar por edad, con una distribución de estaturas de forma similar.\n",
    "\n",
    "* personas con estaturas de 1.55 a 1.85, aproximadamente en un rango de edad de 21 a 30 años.\n",
    "* personas con estaturas de 1.55 a 1.85, aproximadamente en un rango de edad de 31 a 40 años."
   ]
  },
  {
   "cell_type": "markdown",
   "metadata": {},
   "source": [
    "### Detección de Anomalias"
   ]
  },
  {
   "cell_type": "code",
   "execution_count": 468,
   "metadata": {},
   "outputs": [],
   "source": [
    "from scipy.stats import multivariate_normal"
   ]
  },
  {
   "cell_type": "code",
   "execution_count": 469,
   "metadata": {},
   "outputs": [],
   "source": [
    "class AnomalyDetection():\n",
    "    def __init__(self):\n",
    "        self.means = np.array([])\n",
    "        self.sigma = np.array([])\n",
    "        self.variances = np.array([])\n",
    "    \n",
    "    def fit(self, X):\n",
    "        self.means = np.mean(X,axis=0)\n",
    "        self.sigma = np.cov(X.T)\n",
    "        self.variances = np.var(X,axis=0)\n",
    "    \n",
    "    def predict(self,X):\n",
    "        p = multivariate_normal(mean=self.means,cov=self.sigma)\n",
    "        return p.pdf(X)\n",
    "    \n",
    "    def predict_norm(self,X):\n",
    "        proba = [np.prod( self.pdf(x) ) for x in X]#probar univariable\n",
    "        return np.array(proba)\n",
    "    \n",
    "    #función pdf para nomral\n",
    "    def pdf(self,x):\n",
    "        numerator = np.exp(- (x-self.means)**2 / (2 * self.variances))\n",
    "        denominator = np.sqrt(2 * np.pi * self.variances)\n",
    "        return numerator / denominator"
   ]
  },
  {
   "cell_type": "code",
   "execution_count": 470,
   "metadata": {},
   "outputs": [],
   "source": [
    "anomaly = AnomalyDetection()\n",
    "anomaly.fit(data)#entrenando modelo"
   ]
  },
  {
   "cell_type": "markdown",
   "metadata": {},
   "source": [
    "## Evaluando modelo detección de anomalias"
   ]
  },
  {
   "cell_type": "code",
   "execution_count": 471,
   "metadata": {},
   "outputs": [],
   "source": [
    "from sklearn.model_selection import train_test_split\n",
    "from sklearn import metrics"
   ]
  },
  {
   "cell_type": "code",
   "execution_count": 472,
   "metadata": {},
   "outputs": [],
   "source": [
    "#construyendo dataset de pruebas y validación con las anomalías\n",
    "new_t = np.hstack((test, np.ones((len(test), 1))))\n",
    "new_a = np.hstack((anomalias, -np.ones((len(anomalias), 1))))"
   ]
  },
  {
   "cell_type": "code",
   "execution_count": 473,
   "metadata": {},
   "outputs": [],
   "source": [
    "new_data_t = np.vstack((new_t,new_a))"
   ]
  },
  {
   "cell_type": "code",
   "execution_count": 474,
   "metadata": {},
   "outputs": [],
   "source": [
    "x_test = new_data_t[:,[0, 1]]\n",
    "y_test = new_data_t[:,2]"
   ]
  },
  {
   "cell_type": "code",
   "execution_count": 475,
   "metadata": {},
   "outputs": [],
   "source": [
    "#dividiendo data\n",
    "np.random.seed(300)\n",
    "Xvalid,Xtest,Yvalid,Ytest = train_test_split(x_test,y_test,test_size=0.5)"
   ]
  },
  {
   "cell_type": "code",
   "execution_count": 476,
   "metadata": {},
   "outputs": [
    {
     "name": "stdout",
     "output_type": "stream",
     "text": [
      "[0.29541885 0.0293934  0.         0.30826203 0.         0.2892867 ]\n",
      "[0.29229206 0.03380835 0.         0.30894149 0.         0.30049813]\n"
     ]
    }
   ],
   "source": [
    "#predicciones, probabilidades\n",
    "pred_valid = anomaly.predict(Xvalid) #multivariate gaussian\n",
    "pred_valid_norm = anomaly.predict_norm(Xvalid)#noraml\n",
    "print(pred_valid)\n",
    "print(pred_valid_norm)"
   ]
  },
  {
   "cell_type": "markdown",
   "metadata": {},
   "source": [
    "### Seleccionando el mejor empsilon con f1_score como metrica\n",
    "\n",
    "con set de validacion"
   ]
  },
  {
   "cell_type": "code",
   "execution_count": 477,
   "metadata": {},
   "outputs": [
    {
     "name": "stdout",
     "output_type": "stream",
     "text": [
      "0.01 =  f1_score: 1.0\n",
      "0.02 =  f1_score: 1.0\n",
      "0.05 =  f1_score: 0.8571428571428571\n",
      "0.1 =  f1_score: 0.8571428571428571\n",
      "0.15 =  f1_score: 0.8571428571428571\n",
      "0.2 =  f1_score: 0.8571428571428571\n",
      "0.25 =  f1_score: 0.8571428571428571\n"
     ]
    }
   ],
   "source": [
    "epsilons = [0.01, 0.02, 0.05, 0.1,0.15,0.2,0.25]\n",
    "for e in epsilons:\n",
    "    correct_preds = np.where(pred_valid < e, -1, 1)\n",
    "    print(e,'=  f1_score:', metrics.f1_score(Yvalid,correct_preds))"
   ]
  },
  {
   "cell_type": "code",
   "execution_count": 478,
   "metadata": {},
   "outputs": [],
   "source": [
    "##mejor epison 0.01, o 0.02\n",
    "pred_test = anomaly.predict(Xtest)\n",
    "correct_preds_t = np.where(pred_test < 0.01, -1, 1)"
   ]
  },
  {
   "cell_type": "code",
   "execution_count": 479,
   "metadata": {},
   "outputs": [
    {
     "data": {
      "text/plain": [
       "1.0"
      ]
     },
     "execution_count": 479,
     "metadata": {},
     "output_type": "execute_result"
    }
   ],
   "source": [
    "metrics.f1_score(Ytest,correct_preds_t)"
   ]
  },
  {
   "cell_type": "code",
   "execution_count": 480,
   "metadata": {},
   "outputs": [
    {
     "data": {
      "image/png": "[encoded data removed]",
      "text/plain": [
       "<Figure size 432x288 with 1 Axes>"
      ]
     },
     "metadata": {
      "needs_background": "light"
     },
     "output_type": "display_data"
    }
   ],
   "source": [
    "## Graficando datos de test\n",
    "point_a_t = Xtest[np.where(correct_preds_t == -1)]\n",
    "point_t = Xtest[np.where(correct_preds_t == 1)]\n",
    "plt.scatter(data[:,0],data[:,1],label=\"data\")\n",
    "plt.scatter(point_t[:,0],point_t[:,1],s=50, c=\"black\",marker=\"x\",label=\"predictions points\")\n",
    "plt.scatter(point_a_t[:,0],point_a_t[:,1],s=50, c=\"r\",marker=\"x\",label=\"anomalies points\")\n",
    "plt.legend()\n",
    "plt.xlabel(\"Estatura\")\n",
    "plt.ylabel(\"Edad\")\n",
    "plt.show()"
   ]
  },
  {
   "cell_type": "markdown",
   "metadata": {},
   "source": [
    "### Conslusiones \n",
    "\n",
    "Se observa que el algoritmo, clasifico muy bien las anomalias para este problema, nuestra metrica de interés es lo que esperabamos, dado que los datos son pocos."
   ]
  },
  {
   "cell_type": "code",
   "execution_count": null,
   "metadata": {},
   "outputs": [],
   "source": []
  }
 ],
 "metadata": {
  "kernelspec": {
   "display_name": "Python 3",
   "language": "python",
   "name": "python3"
  },
  "language_info": {
   "codemirror_mode": {
    "name": "ipython",
    "version": 3
   },
   "file_extension": ".py",
   "mimetype": "text/x-python",
   "name": "python",
   "nbconvert_exporter": "python",
   "pygments_lexer": "ipython3",
   "version": "3.7.3"
  }
 },
 "nbformat": 4,
 "nbformat_minor": 2
}
