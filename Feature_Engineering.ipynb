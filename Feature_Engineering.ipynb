{
  "nbformat": 4,
  "nbformat_minor": 0,
  "metadata": {
    "colab": {
      "name": "Feature-Engineering.ipynb",
      "provenance": []
    },
    "kernelspec": {
      "name": "python3",
      "display_name": "Python 3"
    }
  },
  "cells": [
    {
      "cell_type": "code",
      "metadata": {
        "id": "H10a6wWU-3Mo",
        "colab_type": "code",
        "colab": {}
      },
      "source": [
        "import numpy as np\n",
        "import pandas as pd\n",
        "from matplotlib import pyplot as plt\n",
        "from google.colab import drive \n",
        "from scipy.stats import norm"
      ],
      "execution_count": 0,
      "outputs": []
    },
    {
      "cell_type": "code",
      "metadata": {
        "id": "GcbcuDn6_kJm",
        "colab_type": "code",
        "outputId": "2d3bc482-39c4-4bdb-8a1b-27dc69f7d309",
        "colab": {
          "base_uri": "https://localhost:8080/",
          "height": 122
        }
      },
      "source": [
        "drive.mount('/content/gdrive')"
      ],
      "execution_count": 0,
      "outputs": [
        {
          "output_type": "stream",
          "text": [
            "Go to this URL in a browser: https://accounts.google.com/o/oauth2/auth?client_id=947318989803-6bn6qk8qdgf4n4g3pfee6491hc0brc4i.apps.googleusercontent.com&redirect_uri=urn%3aietf%3awg%3aoauth%3a2.0%3aoob&response_type=code&scope=email%20https%3a%2f%2fwww.googleapis.com%2fauth%2fdocs.test%20https%3a%2f%2fwww.googleapis.com%2fauth%2fdrive%20https%3a%2f%2fwww.googleapis.com%2fauth%2fdrive.photos.readonly%20https%3a%2f%2fwww.googleapis.com%2fauth%2fpeopleapi.readonly\n",
            "\n",
            "Enter your authorization code:\n",
            "··········\n",
            "Mounted at /content/gdrive\n"
          ],
          "name": "stdout"
        }
      ]
    },
    {
      "cell_type": "markdown",
      "metadata": {
        "id": "QMHgnOiBSaJy",
        "colab_type": "text"
      },
      "source": [
        "### Referencias utiles\n",
        "* Pagina 59 a 67 (Prepare the Data for Machine Learning Algorithms) https://github.com/yanshengjia/ml-road/blob/master/resources/Hands%20On%20Machine%20Learning%20with%20Scikit%20Learn%20and%20TensorFlow.pdf\n",
        "* https://elitedatascience.com/feature-engineering\n",
        "* https://medium.com/@TheDataGyan/day-8-data-transformation-skewness-normalization-and-much-more-4c144d370e55\n",
        "* http://onlinestatbook.com/2/transformations/log.html\n"
      ]
    },
    {
      "cell_type": "markdown",
      "metadata": {
        "id": "5WlP_xX1JqfC",
        "colab_type": "text"
      },
      "source": [
        "### Terminos de interaccion\n",
        "\n",
        "Los modelos lineales no toman en cuenta la interaccion entre 2 posibles variables independientes (no toman en cuenta el efecto combinado de estas sobre la variable dependiente).\n",
        "\n",
        "En muchos casos es posible obtener un mejor modelo al crear **terminos de interaccion** obtenidos como la multiplicacion de otros terminos.\n",
        "\n",
        "\n",
        "**Ejemplo 1** : El ejemplo mas comun es en el contexto de prediccion de precio de casas. Si se tiene el ancho y largo de una casa como variables independientes, es posible que la caracteristica que en realidad define el precio de venta sea el area (ancho*largo) y no cada uno de manera invidudual.\n",
        "\n",
        "**Ejemplo 2**: En el siguiente ejemplo se tiene un modelo de riesgo medico donde X1 es la edad y X2 la presion sanguinea, un aumento en la presion es mas peligroso conforme la edad aumenta. Analicemos que modelo toma en cuenta mejor esto, el primero no tiene termino de interaccion y el segundo si."
      ]
    },
    {
      "cell_type": "code",
      "metadata": {
        "id": "eTIeSPfP_Doi",
        "colab_type": "code",
        "outputId": "2986f49f-14fa-472d-8143-34efc47284e1",
        "colab": {
          "base_uri": "https://localhost:8080/",
          "height": 269
        }
      },
      "source": [
        "x_list = np.linspace(0,100,100)\n",
        "y_list = np.linspace(0,100,100)\n",
        "\n",
        "X1,X2 = np.meshgrid(x_list,y_list)\n",
        "\n",
        "Y = (0.1*X1) + (0.3*X2)  # y es el riesgo\n",
        "\n",
        "fig,ax = plt.subplots(1,1)\n",
        "cp = plt.contourf(X1,X2,Y)\n",
        "fig.colorbar(cp)\n",
        "plt.show()"
      ],
      "execution_count": 0,
      "outputs": [
        {
          "output_type": "display_data",
          "data": {
            "image/png": "[encoded data removed]",
            "text/plain": [
              "<Figure size 432x288 with 2 Axes>"
            ]
          },
          "metadata": {
            "tags": [],
            "needs_background": "light"
          }
        }
      ]
    },
    {
      "cell_type": "code",
      "metadata": {
        "id": "Y06MTb8v_HVn",
        "colab_type": "code",
        "outputId": "600afe06-f778-4e1c-b7e8-2ae3f18ede69",
        "colab": {
          "base_uri": "https://localhost:8080/",
          "height": 269
        }
      },
      "source": [
        "x_list = np.linspace(0,100,100)\n",
        "y_list = np.linspace(0,100,100)\n",
        "\n",
        "X1,X2 = np.meshgrid(x_list,y_list)\n",
        "\n",
        "X3 = X1*X2\n",
        "\n",
        "Y = (0.1*X1) + (0.3*X2) + (0.5*X3)\n",
        "\n",
        "fig,ax = plt.subplots(1,1)\n",
        "cp = plt.contourf(X1,X2,Y)\n",
        "fig.colorbar(cp)\n",
        "plt.show()"
      ],
      "execution_count": 0,
      "outputs": [
        {
          "output_type": "display_data",
          "data": {
            "image/png": "[encoded data removed]",
            "text/plain": [
              "<Figure size 432x288 with 2 Axes>"
            ]
          },
          "metadata": {
            "tags": [],
            "needs_background": "light"
          }
        }
      ]
    },
    {
      "cell_type": "markdown",
      "metadata": {
        "id": "wGCZWl6uF6Ob",
        "colab_type": "text"
      },
      "source": [
        "### Logaritmos para datos sesgados\n",
        "\n",
        "Muchos algoritmos requieren que los datos se comporten bajo una distribucion normal, algunos no lo requieren pero se ven beneficiados enormemente si este es el caso.\n",
        "\n",
        "#### Sesgo positivo (hacia la derecha)\n",
        "http://onlinestatbook.com/2/transformations/log.html\n",
        "\n",
        "Una transformacion comun cuando se tienen datos con un sesgo positivo (hacia la derecha) es calcular el logaritmo natural.\n",
        "\n",
        "#### Sesgo negativo (hacia la izquierda)\n",
        "\n",
        "En estos casos es posible que el logaritmo tambien llegue a ayudar, y se tienen otras opciones: **elevar al cuadrado, tomar la raiz cubica**"
      ]
    },
    {
      "cell_type": "code",
      "metadata": {
        "id": "lpGeR_GWA_ht",
        "colab_type": "code",
        "outputId": "1ad3126f-f456-412b-9d79-2c9109a0a538",
        "colab": {
          "base_uri": "https://localhost:8080/",
          "height": 204
        }
      },
      "source": [
        "X  = pd.read_csv(\"/content/gdrive/My Drive/statistical_learning1/assets/X_data.csv\",index_col = 0)\n",
        "X.head()"
      ],
      "execution_count": 0,
      "outputs": [
        {
          "output_type": "execute_result",
          "data": {
            "text/html": [
              "<div>\n",
              "<style scoped>\n",
              "    .dataframe tbody tr th:only-of-type {\n",
              "        vertical-align: middle;\n",
              "    }\n",
              "\n",
              "    .dataframe tbody tr th {\n",
              "        vertical-align: top;\n",
              "    }\n",
              "\n",
              "    .dataframe thead th {\n",
              "        text-align: right;\n",
              "    }\n",
              "</style>\n",
              "<table border=\"1\" class=\"dataframe\">\n",
              "  <thead>\n",
              "    <tr style=\"text-align: right;\">\n",
              "      <th></th>\n",
              "      <th>Age</th>\n",
              "      <th>Systolic_BP</th>\n",
              "      <th>Diastolic_BP</th>\n",
              "      <th>Cholesterol</th>\n",
              "    </tr>\n",
              "  </thead>\n",
              "  <tbody>\n",
              "    <tr>\n",
              "      <th>0</th>\n",
              "      <td>77.196340</td>\n",
              "      <td>85.288742</td>\n",
              "      <td>80.021878</td>\n",
              "      <td>79.957109</td>\n",
              "    </tr>\n",
              "    <tr>\n",
              "      <th>1</th>\n",
              "      <td>63.529850</td>\n",
              "      <td>99.379736</td>\n",
              "      <td>84.852361</td>\n",
              "      <td>110.382411</td>\n",
              "    </tr>\n",
              "    <tr>\n",
              "      <th>2</th>\n",
              "      <td>69.003986</td>\n",
              "      <td>111.349455</td>\n",
              "      <td>109.850616</td>\n",
              "      <td>100.828246</td>\n",
              "    </tr>\n",
              "    <tr>\n",
              "      <th>3</th>\n",
              "      <td>82.638210</td>\n",
              "      <td>95.056128</td>\n",
              "      <td>79.666851</td>\n",
              "      <td>87.066303</td>\n",
              "    </tr>\n",
              "    <tr>\n",
              "      <th>4</th>\n",
              "      <td>78.346286</td>\n",
              "      <td>109.154591</td>\n",
              "      <td>90.713220</td>\n",
              "      <td>92.511770</td>\n",
              "    </tr>\n",
              "  </tbody>\n",
              "</table>\n",
              "</div>"
            ],
            "text/plain": [
              "         Age  Systolic_BP  Diastolic_BP  Cholesterol\n",
              "0  77.196340    85.288742     80.021878    79.957109\n",
              "1  63.529850    99.379736     84.852361   110.382411\n",
              "2  69.003986   111.349455    109.850616   100.828246\n",
              "3  82.638210    95.056128     79.666851    87.066303\n",
              "4  78.346286   109.154591     90.713220    92.511770"
            ]
          },
          "metadata": {
            "tags": []
          },
          "execution_count": 5
        }
      ]
    },
    {
      "cell_type": "code",
      "metadata": {
        "id": "NXpLC7TA_Lpf",
        "colab_type": "code",
        "outputId": "21d797a9-36ee-4457-f0d1-e13fd5deef30",
        "colab": {
          "base_uri": "https://localhost:8080/",
          "height": 1000
        }
      },
      "source": [
        "for col in X.columns:\n",
        "    X.loc[:, col].hist(density = True)\n",
        "    norm_fit = norm.fit(X.loc[:, col])\n",
        "    norm_dist_fitted = norm(*norm_fit)\n",
        "    plt.title(col)\n",
        "\n",
        "    X_range = X.loc[:, col].min(),X.loc[:, col].max()\n",
        "    X_values =  np.linspace(*X_range)\n",
        "    plt.plot(X_values,norm_dist_fitted.pdf(X_values))\n",
        "    plt.show()"
      ],
      "execution_count": 0,
      "outputs": [
        {
          "output_type": "display_data",
          "data": {
            "image/png": "[encoded data removed]",
            "text/plain": [
              "<Figure size 432x288 with 1 Axes>"
            ]
          },
          "metadata": {
            "tags": [],
            "needs_background": "light"
          }
        },
        {
          "output_type": "display_data",
          "data": {
            "image/png": "[encoded data removed]",
            "text/plain": [
              "<Figure size 432x288 with 1 Axes>"
            ]
          },
          "metadata": {
            "tags": [],
            "needs_background": "light"
          }
        },
        {
          "output_type": "display_data",
          "data": {
            "image/png": "[encoded data removed]",
            "text/plain": [
              "<Figure size 432x288 with 1 Axes>"
            ]
          },
          "metadata": {
            "tags": [],
            "needs_background": "light"
          }
        },
        {
          "output_type": "display_data",
          "data": {
            "image/png": "[encoded data removed]",
            "text/plain": [
              "<Figure size 432x288 with 1 Axes>"
            ]
          },
          "metadata": {
            "tags": [],
            "needs_background": "light"
          }
        }
      ]
    },
    {
      "cell_type": "code",
      "metadata": {
        "id": "FC3uqvpbBqCm",
        "colab_type": "code",
        "outputId": "a31176b2-68d6-48c0-dcc7-e6cc73b25657",
        "colab": {
          "base_uri": "https://localhost:8080/",
          "height": 1000
        }
      },
      "source": [
        "for col in X.columns:\n",
        "    \n",
        "    log_X = np.log(X.loc[:, col])\n",
        "    log_X.hist(density = True)\n",
        "    norm_fit = norm.fit(log_X)\n",
        "    norm_dist_fitted = norm(*norm_fit)\n",
        "    plt.title(col)\n",
        "\n",
        "    X_range = log_X.min(),log_X.max()\n",
        "    X_values =  np.linspace(*X_range)\n",
        "    plt.plot(X_values,norm_dist_fitted.pdf(X_values))\n",
        "    plt.show()"
      ],
      "execution_count": 0,
      "outputs": [
        {
          "output_type": "display_data",
          "data": {
            "image/png": "[encoded data removed]",
            "text/plain": [
              "<Figure size 432x288 with 1 Axes>"
            ]
          },
          "metadata": {
            "tags": [],
            "needs_background": "light"
          }
        },
        {
          "output_type": "display_data",
          "data": {
            "image/png": "[encoded data removed]",
            "text/plain": [
              "<Figure size 432x288 with 1 Axes>"
            ]
          },
          "metadata": {
            "tags": [],
            "needs_background": "light"
          }
        },
        {
          "output_type": "display_data",
          "data": {
            "image/png": "[encoded data removed]",
            "text/plain": [
              "<Figure size 432x288 with 1 Axes>"
            ]
          },
          "metadata": {
            "tags": [],
            "needs_background": "light"
          }
        },
        {
          "output_type": "display_data",
          "data": {
            "image/png": "[encoded data removed]",
            "text/plain": [
              "<Figure size 432x288 with 1 Axes>"
            ]
          },
          "metadata": {
            "tags": [],
            "needs_background": "light"
          }
        }
      ]
    },
    {
      "cell_type": "code",
      "metadata": {
        "id": "2N1s_iw1B9S9",
        "colab_type": "code",
        "colab": {}
      },
      "source": [
        ""
      ],
      "execution_count": 0,
      "outputs": []
    },
    {
      "cell_type": "markdown",
      "metadata": {
        "id": "tsXttv6GT_k1",
        "colab_type": "text"
      },
      "source": [
        "### **Valores nulos e Imputación**\n",
        "\n",
        "Un escenario común y que debe tomarse en cuenta es la existencia de valores faltantes o nulos en los datos, comunmente representados con los valores:\n",
        "\n",
        "*   Null\n",
        "*   NaN\n",
        "\n",
        "Un valor nulo no puede ser alimentado a un algoritmo de ML (pensemos por ejemplo en regresión lineal :que resultado esperamos si multiplicamos un nulo por su coeficiente ?) , por lo tanto necesitamos formas de manejer este caso.\n",
        "\n",
        "#### **Eliminación de observaciones con valores nulos.**\n",
        "\n",
        "La estrategia mas sencilla (pero posiblemente no la mejor) es simplemente eliminar registros que contengan valores nulos.\n",
        "\n",
        "El problema es que esto puede crear modelos sesgados debido a que al eliminar registros con valores faltantes en alguna columna, también estamos desechando información que otras columnas que posiblemente no tenían valores nulos nos podrían dar.\n",
        "\n",
        "#### **Imputación**\n",
        "\n",
        "Una de las técnicas mas efectivas usada tanto en estadística como en ML  es conocida como **imputación**, esta se basa en una idea sencilla : **Intentar remplazar los valores faltantes con valores factibles basado en el resto de información disponible**\n",
        "\n",
        "Existen diversos tipos de imputación , vale la pena ejemplificar algunos que ya podemos aplicar con el conocimiento que poseemos hasta el momento:\n",
        "\n",
        "##### **Imputación basado en estadísticas descriptivas**\n",
        "\n",
        "Podemos intentar rellenar valores nulos en cierta columna con alguna de las siguientes estadísticas: **promedio de la columna,mediana de la columna,moda de la columna.** \n",
        "\n",
        "#### **Imputación basada en estimaciones**\n",
        "\n",
        "Podemos usar estimaciones y aproximaciones para rellenar valores nulos basados también en ML, por ejemplo: \n",
        "\n",
        "para una columna numérica continua con valores faltantes, entrenar un modelo de regresión con esta columna como variable dependiente y usar el resto de columnas como variables independientes. Cuando se necesite rellenar un valor nulo, aproximamos su valor con el modelo dados los valores de las otras columnas."
      ]
    },
    {
      "cell_type": "code",
      "metadata": {
        "id": "1278-6NfUG1g",
        "colab_type": "code",
        "colab": {}
      },
      "source": [
        ""
      ],
      "execution_count": 0,
      "outputs": []
    },
    {
      "cell_type": "code",
      "metadata": {
        "id": "jV0qvDwVcL0i",
        "colab_type": "code",
        "colab": {}
      },
      "source": [
        ""
      ],
      "execution_count": 0,
      "outputs": []
    },
    {
      "cell_type": "markdown",
      "metadata": {
        "id": "PEZzgXuZd1-s",
        "colab_type": "text"
      },
      "source": [
        "## Usando feature-eng para crear un modelo exponencial de Covid-19\n",
        "\n",
        "**Content**\n",
        "\n",
        "Each row contains report from each region/location for each day\n",
        "Each column represents the number of cases reported from each country/region\n",
        "\n",
        "\n",
        "**Acknowledgements**\n",
        "\n",
        "https://github.com/CSSEGISandData/COVID-19\n"
      ]
    },
    {
      "cell_type": "code",
      "metadata": {
        "id": "3l2WjUmOcNeq",
        "colab_type": "code",
        "outputId": "fd37126f-e78a-46ff-db9a-580336ee4eef",
        "colab": {
          "base_uri": "https://localhost:8080/",
          "height": 204
        }
      },
      "source": [
        "covid19_data = pd.read_csv('/content/gdrive/My Drive/statistical_learning1/assets/covid_19_clean_complete.csv')\n",
        "covid19_data[\"Date\"] = pd.to_datetime(covid19_data[\"Date\"],infer_datetime_format = True)\n",
        "covid19_data.head()"
      ],
      "execution_count": 0,
      "outputs": [
        {
          "output_type": "execute_result",
          "data": {
            "text/html": [
              "<div>\n",
              "<style scoped>\n",
              "    .dataframe tbody tr th:only-of-type {\n",
              "        vertical-align: middle;\n",
              "    }\n",
              "\n",
              "    .dataframe tbody tr th {\n",
              "        vertical-align: top;\n",
              "    }\n",
              "\n",
              "    .dataframe thead th {\n",
              "        text-align: right;\n",
              "    }\n",
              "</style>\n",
              "<table border=\"1\" class=\"dataframe\">\n",
              "  <thead>\n",
              "    <tr style=\"text-align: right;\">\n",
              "      <th></th>\n",
              "      <th>Province/State</th>\n",
              "      <th>Country/Region</th>\n",
              "      <th>Lat</th>\n",
              "      <th>Long</th>\n",
              "      <th>Date</th>\n",
              "      <th>Confirmed</th>\n",
              "      <th>Deaths</th>\n",
              "      <th>Recovered</th>\n",
              "    </tr>\n",
              "  </thead>\n",
              "  <tbody>\n",
              "    <tr>\n",
              "      <th>0</th>\n",
              "      <td>NaN</td>\n",
              "      <td>Afghanistan</td>\n",
              "      <td>33.0000</td>\n",
              "      <td>65.0000</td>\n",
              "      <td>2020-01-22</td>\n",
              "      <td>0</td>\n",
              "      <td>0</td>\n",
              "      <td>0</td>\n",
              "    </tr>\n",
              "    <tr>\n",
              "      <th>1</th>\n",
              "      <td>NaN</td>\n",
              "      <td>Albania</td>\n",
              "      <td>41.1533</td>\n",
              "      <td>20.1683</td>\n",
              "      <td>2020-01-22</td>\n",
              "      <td>0</td>\n",
              "      <td>0</td>\n",
              "      <td>0</td>\n",
              "    </tr>\n",
              "    <tr>\n",
              "      <th>2</th>\n",
              "      <td>NaN</td>\n",
              "      <td>Algeria</td>\n",
              "      <td>28.0339</td>\n",
              "      <td>1.6596</td>\n",
              "      <td>2020-01-22</td>\n",
              "      <td>0</td>\n",
              "      <td>0</td>\n",
              "      <td>0</td>\n",
              "    </tr>\n",
              "    <tr>\n",
              "      <th>3</th>\n",
              "      <td>NaN</td>\n",
              "      <td>Andorra</td>\n",
              "      <td>42.5063</td>\n",
              "      <td>1.5218</td>\n",
              "      <td>2020-01-22</td>\n",
              "      <td>0</td>\n",
              "      <td>0</td>\n",
              "      <td>0</td>\n",
              "    </tr>\n",
              "    <tr>\n",
              "      <th>4</th>\n",
              "      <td>NaN</td>\n",
              "      <td>Angola</td>\n",
              "      <td>-11.2027</td>\n",
              "      <td>17.8739</td>\n",
              "      <td>2020-01-22</td>\n",
              "      <td>0</td>\n",
              "      <td>0</td>\n",
              "      <td>0</td>\n",
              "    </tr>\n",
              "  </tbody>\n",
              "</table>\n",
              "</div>"
            ],
            "text/plain": [
              "  Province/State Country/Region      Lat  ...  Confirmed Deaths  Recovered\n",
              "0            NaN    Afghanistan  33.0000  ...          0      0          0\n",
              "1            NaN        Albania  41.1533  ...          0      0          0\n",
              "2            NaN        Algeria  28.0339  ...          0      0          0\n",
              "3            NaN        Andorra  42.5063  ...          0      0          0\n",
              "4            NaN         Angola -11.2027  ...          0      0          0\n",
              "\n",
              "[5 rows x 8 columns]"
            ]
          },
          "metadata": {
            "tags": []
          },
          "execution_count": 8
        }
      ]
    },
    {
      "cell_type": "code",
      "metadata": {
        "id": "2V9hWjQnk1rX",
        "colab_type": "code",
        "outputId": "fd019c74-fc35-418e-e866-f77f56b31822",
        "colab": {
          "base_uri": "https://localhost:8080/",
          "height": 170
        }
      },
      "source": [
        "covid19_data.dtypes"
      ],
      "execution_count": 0,
      "outputs": [
        {
          "output_type": "execute_result",
          "data": {
            "text/plain": [
              "Province/State            object\n",
              "Country/Region            object\n",
              "Lat                      float64\n",
              "Long                     float64\n",
              "Date              datetime64[ns]\n",
              "Confirmed                  int64\n",
              "Deaths                     int64\n",
              "Recovered                  int64\n",
              "dtype: object"
            ]
          },
          "metadata": {
            "tags": []
          },
          "execution_count": 9
        }
      ]
    },
    {
      "cell_type": "code",
      "metadata": {
        "id": "p2bYMEzfcXYI",
        "colab_type": "code",
        "outputId": "d76095f8-3a9e-40be-de65-d5af5bf66269",
        "colab": {
          "base_uri": "https://localhost:8080/",
          "height": 296
        }
      },
      "source": [
        "GT_confirmed = covid19_data[(covid19_data[\"Country/Region\"] == 'Guatemala') & (covid19_data[\"Confirmed\"] > 0)].copy()\n",
        "GT_confirmed.plot.scatter(x = \"Date\",y=\"Confirmed\")"
      ],
      "execution_count": 0,
      "outputs": [
        {
          "output_type": "execute_result",
          "data": {
            "text/plain": [
              "<matplotlib.axes._subplots.AxesSubplot at 0x7f88e3dc7c88>"
            ]
          },
          "metadata": {
            "tags": []
          },
          "execution_count": 10
        },
        {
          "output_type": "display_data",
          "data": {
            "image/png": "[encoded data removed]",
            "text/plain": [
              "<Figure size 432x288 with 1 Axes>"
            ]
          },
          "metadata": {
            "tags": [],
            "needs_background": "light"
          }
        }
      ]
    },
    {
      "cell_type": "code",
      "metadata": {
        "id": "Hfu0Gemeg-XM",
        "colab_type": "code",
        "outputId": "b78a8a84-c2f0-432c-df81-dec192802dd2",
        "colab": {
          "base_uri": "https://localhost:8080/",
          "height": 296
        }
      },
      "source": [
        "GT_confirmed[\"ln(confirmed)\"] = np.log(GT_confirmed[\"Confirmed\"])\n",
        "GT_confirmed.plot.scatter(x = \"Date\",y=\"ln(confirmed)\")\n"
      ],
      "execution_count": 0,
      "outputs": [
        {
          "output_type": "execute_result",
          "data": {
            "text/plain": [
              "<matplotlib.axes._subplots.AxesSubplot at 0x7f88e153cc18>"
            ]
          },
          "metadata": {
            "tags": []
          },
          "execution_count": 11
        },
        {
          "output_type": "display_data",
          "data": {
            "image/png": "[encoded data removed]",
            "text/plain": [
              "<Figure size 432x288 with 1 Axes>"
            ]
          },
          "metadata": {
            "tags": [],
            "needs_background": "light"
          }
        }
      ]
    },
    {
      "cell_type": "code",
      "metadata": {
        "id": "Hed_qt-FfoWS",
        "colab_type": "code",
        "outputId": "73788a00-3c75-47b6-d6b7-c3472083294d",
        "colab": {
          "base_uri": "https://localhost:8080/",
          "height": 669
        }
      },
      "source": [
        "GT_confirmed.head(20)"
      ],
      "execution_count": 0,
      "outputs": [
        {
          "output_type": "execute_result",
          "data": {
            "text/html": [
              "<div>\n",
              "<style scoped>\n",
              "    .dataframe tbody tr th:only-of-type {\n",
              "        vertical-align: middle;\n",
              "    }\n",
              "\n",
              "    .dataframe tbody tr th {\n",
              "        vertical-align: top;\n",
              "    }\n",
              "\n",
              "    .dataframe thead th {\n",
              "        text-align: right;\n",
              "    }\n",
              "</style>\n",
              "<table border=\"1\" class=\"dataframe\">\n",
              "  <thead>\n",
              "    <tr style=\"text-align: right;\">\n",
              "      <th></th>\n",
              "      <th>Province/State</th>\n",
              "      <th>Country/Region</th>\n",
              "      <th>Lat</th>\n",
              "      <th>Long</th>\n",
              "      <th>Date</th>\n",
              "      <th>Confirmed</th>\n",
              "      <th>Deaths</th>\n",
              "      <th>Recovered</th>\n",
              "      <th>ln(confirmed)</th>\n",
              "    </tr>\n",
              "  </thead>\n",
              "  <tbody>\n",
              "    <tr>\n",
              "      <th>13851</th>\n",
              "      <td>NaN</td>\n",
              "      <td>Guatemala</td>\n",
              "      <td>15.7835</td>\n",
              "      <td>-90.2308</td>\n",
              "      <td>2020-03-14</td>\n",
              "      <td>1</td>\n",
              "      <td>0</td>\n",
              "      <td>0</td>\n",
              "      <td>0.000000</td>\n",
              "    </tr>\n",
              "    <tr>\n",
              "      <th>14115</th>\n",
              "      <td>NaN</td>\n",
              "      <td>Guatemala</td>\n",
              "      <td>15.7835</td>\n",
              "      <td>-90.2308</td>\n",
              "      <td>2020-03-15</td>\n",
              "      <td>1</td>\n",
              "      <td>0</td>\n",
              "      <td>0</td>\n",
              "      <td>0.000000</td>\n",
              "    </tr>\n",
              "    <tr>\n",
              "      <th>14379</th>\n",
              "      <td>NaN</td>\n",
              "      <td>Guatemala</td>\n",
              "      <td>15.7835</td>\n",
              "      <td>-90.2308</td>\n",
              "      <td>2020-03-16</td>\n",
              "      <td>2</td>\n",
              "      <td>1</td>\n",
              "      <td>0</td>\n",
              "      <td>0.693147</td>\n",
              "    </tr>\n",
              "    <tr>\n",
              "      <th>14643</th>\n",
              "      <td>NaN</td>\n",
              "      <td>Guatemala</td>\n",
              "      <td>15.7835</td>\n",
              "      <td>-90.2308</td>\n",
              "      <td>2020-03-17</td>\n",
              "      <td>6</td>\n",
              "      <td>1</td>\n",
              "      <td>0</td>\n",
              "      <td>1.791759</td>\n",
              "    </tr>\n",
              "    <tr>\n",
              "      <th>14907</th>\n",
              "      <td>NaN</td>\n",
              "      <td>Guatemala</td>\n",
              "      <td>15.7835</td>\n",
              "      <td>-90.2308</td>\n",
              "      <td>2020-03-18</td>\n",
              "      <td>6</td>\n",
              "      <td>1</td>\n",
              "      <td>0</td>\n",
              "      <td>1.791759</td>\n",
              "    </tr>\n",
              "    <tr>\n",
              "      <th>15171</th>\n",
              "      <td>NaN</td>\n",
              "      <td>Guatemala</td>\n",
              "      <td>15.7835</td>\n",
              "      <td>-90.2308</td>\n",
              "      <td>2020-03-19</td>\n",
              "      <td>9</td>\n",
              "      <td>1</td>\n",
              "      <td>0</td>\n",
              "      <td>2.197225</td>\n",
              "    </tr>\n",
              "    <tr>\n",
              "      <th>15435</th>\n",
              "      <td>NaN</td>\n",
              "      <td>Guatemala</td>\n",
              "      <td>15.7835</td>\n",
              "      <td>-90.2308</td>\n",
              "      <td>2020-03-20</td>\n",
              "      <td>12</td>\n",
              "      <td>1</td>\n",
              "      <td>0</td>\n",
              "      <td>2.484907</td>\n",
              "    </tr>\n",
              "    <tr>\n",
              "      <th>15699</th>\n",
              "      <td>NaN</td>\n",
              "      <td>Guatemala</td>\n",
              "      <td>15.7835</td>\n",
              "      <td>-90.2308</td>\n",
              "      <td>2020-03-21</td>\n",
              "      <td>17</td>\n",
              "      <td>1</td>\n",
              "      <td>0</td>\n",
              "      <td>2.833213</td>\n",
              "    </tr>\n",
              "    <tr>\n",
              "      <th>15963</th>\n",
              "      <td>NaN</td>\n",
              "      <td>Guatemala</td>\n",
              "      <td>15.7835</td>\n",
              "      <td>-90.2308</td>\n",
              "      <td>2020-03-22</td>\n",
              "      <td>19</td>\n",
              "      <td>1</td>\n",
              "      <td>0</td>\n",
              "      <td>2.944439</td>\n",
              "    </tr>\n",
              "    <tr>\n",
              "      <th>16227</th>\n",
              "      <td>NaN</td>\n",
              "      <td>Guatemala</td>\n",
              "      <td>15.7835</td>\n",
              "      <td>-90.2308</td>\n",
              "      <td>2020-03-23</td>\n",
              "      <td>20</td>\n",
              "      <td>1</td>\n",
              "      <td>0</td>\n",
              "      <td>2.995732</td>\n",
              "    </tr>\n",
              "    <tr>\n",
              "      <th>16491</th>\n",
              "      <td>NaN</td>\n",
              "      <td>Guatemala</td>\n",
              "      <td>15.7835</td>\n",
              "      <td>-90.2308</td>\n",
              "      <td>2020-03-24</td>\n",
              "      <td>21</td>\n",
              "      <td>1</td>\n",
              "      <td>0</td>\n",
              "      <td>3.044522</td>\n",
              "    </tr>\n",
              "    <tr>\n",
              "      <th>16755</th>\n",
              "      <td>NaN</td>\n",
              "      <td>Guatemala</td>\n",
              "      <td>15.7835</td>\n",
              "      <td>-90.2308</td>\n",
              "      <td>2020-03-25</td>\n",
              "      <td>24</td>\n",
              "      <td>1</td>\n",
              "      <td>4</td>\n",
              "      <td>3.178054</td>\n",
              "    </tr>\n",
              "    <tr>\n",
              "      <th>17019</th>\n",
              "      <td>NaN</td>\n",
              "      <td>Guatemala</td>\n",
              "      <td>15.7835</td>\n",
              "      <td>-90.2308</td>\n",
              "      <td>2020-03-26</td>\n",
              "      <td>25</td>\n",
              "      <td>1</td>\n",
              "      <td>4</td>\n",
              "      <td>3.218876</td>\n",
              "    </tr>\n",
              "    <tr>\n",
              "      <th>17283</th>\n",
              "      <td>NaN</td>\n",
              "      <td>Guatemala</td>\n",
              "      <td>15.7835</td>\n",
              "      <td>-90.2308</td>\n",
              "      <td>2020-03-27</td>\n",
              "      <td>28</td>\n",
              "      <td>1</td>\n",
              "      <td>4</td>\n",
              "      <td>3.332205</td>\n",
              "    </tr>\n",
              "    <tr>\n",
              "      <th>17547</th>\n",
              "      <td>NaN</td>\n",
              "      <td>Guatemala</td>\n",
              "      <td>15.7835</td>\n",
              "      <td>-90.2308</td>\n",
              "      <td>2020-03-28</td>\n",
              "      <td>34</td>\n",
              "      <td>1</td>\n",
              "      <td>10</td>\n",
              "      <td>3.526361</td>\n",
              "    </tr>\n",
              "    <tr>\n",
              "      <th>17811</th>\n",
              "      <td>NaN</td>\n",
              "      <td>Guatemala</td>\n",
              "      <td>15.7835</td>\n",
              "      <td>-90.2308</td>\n",
              "      <td>2020-03-29</td>\n",
              "      <td>34</td>\n",
              "      <td>1</td>\n",
              "      <td>10</td>\n",
              "      <td>3.526361</td>\n",
              "    </tr>\n",
              "    <tr>\n",
              "      <th>18075</th>\n",
              "      <td>NaN</td>\n",
              "      <td>Guatemala</td>\n",
              "      <td>15.7835</td>\n",
              "      <td>-90.2308</td>\n",
              "      <td>2020-03-30</td>\n",
              "      <td>36</td>\n",
              "      <td>1</td>\n",
              "      <td>10</td>\n",
              "      <td>3.583519</td>\n",
              "    </tr>\n",
              "    <tr>\n",
              "      <th>18339</th>\n",
              "      <td>NaN</td>\n",
              "      <td>Guatemala</td>\n",
              "      <td>15.7835</td>\n",
              "      <td>-90.2308</td>\n",
              "      <td>2020-03-31</td>\n",
              "      <td>38</td>\n",
              "      <td>1</td>\n",
              "      <td>12</td>\n",
              "      <td>3.637586</td>\n",
              "    </tr>\n",
              "    <tr>\n",
              "      <th>18603</th>\n",
              "      <td>NaN</td>\n",
              "      <td>Guatemala</td>\n",
              "      <td>15.7835</td>\n",
              "      <td>-90.2308</td>\n",
              "      <td>2020-04-01</td>\n",
              "      <td>39</td>\n",
              "      <td>1</td>\n",
              "      <td>12</td>\n",
              "      <td>3.663562</td>\n",
              "    </tr>\n",
              "    <tr>\n",
              "      <th>18867</th>\n",
              "      <td>NaN</td>\n",
              "      <td>Guatemala</td>\n",
              "      <td>15.7835</td>\n",
              "      <td>-90.2308</td>\n",
              "      <td>2020-04-02</td>\n",
              "      <td>47</td>\n",
              "      <td>1</td>\n",
              "      <td>12</td>\n",
              "      <td>3.850148</td>\n",
              "    </tr>\n",
              "  </tbody>\n",
              "</table>\n",
              "</div>"
            ],
            "text/plain": [
              "      Province/State Country/Region      Lat  ...  Deaths Recovered  ln(confirmed)\n",
              "13851            NaN      Guatemala  15.7835  ...       0         0       0.000000\n",
              "14115            NaN      Guatemala  15.7835  ...       0         0       0.000000\n",
              "14379            NaN      Guatemala  15.7835  ...       1         0       0.693147\n",
              "14643            NaN      Guatemala  15.7835  ...       1         0       1.791759\n",
              "14907            NaN      Guatemala  15.7835  ...       1         0       1.791759\n",
              "15171            NaN      Guatemala  15.7835  ...       1         0       2.197225\n",
              "15435            NaN      Guatemala  15.7835  ...       1         0       2.484907\n",
              "15699            NaN      Guatemala  15.7835  ...       1         0       2.833213\n",
              "15963            NaN      Guatemala  15.7835  ...       1         0       2.944439\n",
              "16227            NaN      Guatemala  15.7835  ...       1         0       2.995732\n",
              "16491            NaN      Guatemala  15.7835  ...       1         0       3.044522\n",
              "16755            NaN      Guatemala  15.7835  ...       1         4       3.178054\n",
              "17019            NaN      Guatemala  15.7835  ...       1         4       3.218876\n",
              "17283            NaN      Guatemala  15.7835  ...       1         4       3.332205\n",
              "17547            NaN      Guatemala  15.7835  ...       1        10       3.526361\n",
              "17811            NaN      Guatemala  15.7835  ...       1        10       3.526361\n",
              "18075            NaN      Guatemala  15.7835  ...       1        10       3.583519\n",
              "18339            NaN      Guatemala  15.7835  ...       1        12       3.637586\n",
              "18603            NaN      Guatemala  15.7835  ...       1        12       3.663562\n",
              "18867            NaN      Guatemala  15.7835  ...       1        12       3.850148\n",
              "\n",
              "[20 rows x 9 columns]"
            ]
          },
          "metadata": {
            "tags": []
          },
          "execution_count": 12
        }
      ]
    },
    {
      "cell_type": "code",
      "metadata": {
        "id": "mwYGLCmijQze",
        "colab_type": "code",
        "outputId": "400cf267-720d-49a8-8d3f-6cb6431cf28b",
        "colab": {
          "base_uri": "https://localhost:8080/",
          "height": 296
        }
      },
      "source": [
        "GT_confirmed_post24 = GT_confirmed[GT_confirmed.Date >= '2020-03-22']\n",
        "GT_confirmed_post24.plot.scatter(x = \"Date\",y=\"ln(confirmed)\")"
      ],
      "execution_count": 0,
      "outputs": [
        {
          "output_type": "execute_result",
          "data": {
            "text/plain": [
              "<matplotlib.axes._subplots.AxesSubplot at 0x7f88e14b1eb8>"
            ]
          },
          "metadata": {
            "tags": []
          },
          "execution_count": 13
        },
        {
          "output_type": "display_data",
          "data": {
            "image/png": "[encoded data removed]",
            "text/plain": [
              "<Figure size 432x288 with 1 Axes>"
            ]
          },
          "metadata": {
            "tags": [],
            "needs_background": "light"
          }
        }
      ]
    },
    {
      "cell_type": "code",
      "metadata": {
        "id": "7S2Q8rcbkhxc",
        "colab_type": "code",
        "colab": {}
      },
      "source": [
        ""
      ],
      "execution_count": 0,
      "outputs": []
    }
  ]
}